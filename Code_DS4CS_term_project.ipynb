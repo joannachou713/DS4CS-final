{
  "nbformat": 4,
  "nbformat_minor": 0,
  "metadata": {
    "colab": {
      "name": "106306035 - DS4CS term project.ipynb",
      "provenance": [],
      "collapsed_sections": [],
      "toc_visible": true
    },
    "kernelspec": {
      "name": "python3",
      "display_name": "Python 3"
    }
  },
  "cells": [
    {
      "cell_type": "markdown",
      "metadata": {
        "id": "UINRu61Z47wa",
        "colab_type": "text"
      },
      "source": [
        "# Data Science for Cybersecurity Term Project\n",
        "\n",
        "Dataset: [Detecting Malicious URLs](http://www.sysnet.ucsd.edu/projects/url/)\n",
        "\n",
        "\n",
        "\n"
      ]
    },
    {
      "cell_type": "markdown",
      "metadata": {
        "id": "LRzuIpkH7XRs",
        "colab_type": "text"
      },
      "source": [
        "##Feature Details\n",
        "1. The data set consists of about 2.4 million URLs (examples) and 3.2 million features.\n",
        "2. There’s 120-day subset of ICML-09 data\n",
        "3. FeatureTypes --- A text file list of feature indices that correspond to real-valued features.\n",
        "4. DayX.svm (where X is an integer from 0 to 120) --- The data for day X in SVM-light format. A label of +1 corresponds to a malicious URL and -1 corresponds to a benign URL.\n",
        "\n",
        "For example, the data stored in Day0.svm has one scipy.sparse.csr.csr_matrix which contains feature values, and one numpy’s ndarray contains the dataset’s target. The number of record in Day0’s feature is 16,000, and the number of features is 3,231,949. \n"
      ]
    },
    {
      "cell_type": "markdown",
      "metadata": {
        "id": "ah4y-X037ZJf",
        "colab_type": "text"
      },
      "source": [
        "## Problem\n",
        "Develop an online learning algorithm to process large numbers of examples and adapt quickly to evolving URLs over time, and predict the url’s labels and if the url is malicious or not through its url features.\n"
      ]
    },
    {
      "cell_type": "markdown",
      "metadata": {
        "id": "MGvZxtre5tH1",
        "colab_type": "text"
      },
      "source": [
        "## Preprocess\n"
      ]
    },
    {
      "cell_type": "markdown",
      "metadata": {
        "id": "d6E0pcpv56Vy",
        "colab_type": "text"
      },
      "source": [
        "### Load .svm files and try to find what the features are representing"
      ]
    },
    {
      "cell_type": "code",
      "metadata": {
        "id": "JLHhfhIkB-WE",
        "colab_type": "code",
        "outputId": "5f51baf2-42bf-49c8-e675-f8b4cde855eb",
        "colab": {
          "base_uri": "https://localhost:8080/",
          "height": 217
        }
      },
      "source": [
        "!wget http://www.sysnet.ucsd.edu/projects/url/url_svmlight.tar.gz -O url_svmlight.tar.gz"
      ],
      "execution_count": 0,
      "outputs": [
        {
          "output_type": "stream",
          "text": [
            "--2020-06-15 14:06:13--  http://www.sysnet.ucsd.edu/projects/url/url_svmlight.tar.gz\n",
            "Resolving www.sysnet.ucsd.edu (www.sysnet.ucsd.edu)... 137.110.222.10\n",
            "Connecting to www.sysnet.ucsd.edu (www.sysnet.ucsd.edu)|137.110.222.10|:80... connected.\n",
            "HTTP request sent, awaiting response... 200 OK\n",
            "Length: 245011835 (234M) [application/x-gzip]\n",
            "Saving to: ‘url_svmlight.tar.gz’\n",
            "\n",
            "url_svmlight.tar.gz 100%[===================>] 233.66M  42.7MB/s    in 5.9s    \n",
            "\n",
            "2020-06-15 14:06:19 (39.7 MB/s) - ‘url_svmlight.tar.gz’ saved [245011835/245011835]\n",
            "\n"
          ],
          "name": "stdout"
        }
      ]
    },
    {
      "cell_type": "code",
      "metadata": {
        "id": "2ljh8XsICqER",
        "colab_type": "code",
        "outputId": "83e7198f-b3db-41a8-b0a9-41507d5d6ef2",
        "colab": {
          "base_uri": "https://localhost:8080/",
          "height": 1000
        }
      },
      "source": [
        "!tar zxvf url_svmlight.tar.gz"
      ],
      "execution_count": 0,
      "outputs": [
        {
          "output_type": "stream",
          "text": [
            "url_svmlight/\n",
            "url_svmlight/Day33.svm\n",
            "url_svmlight/Day32.svm\n",
            "url_svmlight/Day53.svm\n",
            "url_svmlight/Day20.svm\n",
            "url_svmlight/Day7.svm\n",
            "url_svmlight/Day117.svm\n",
            "url_svmlight/Day54.svm\n",
            "url_svmlight/Day68.svm\n",
            "url_svmlight/Day25.svm\n",
            "url_svmlight/Day60.svm\n",
            "url_svmlight/Day19.svm\n",
            "url_svmlight/Day96.svm\n",
            "url_svmlight/Day4.svm\n",
            "url_svmlight/Day72.svm\n",
            "url_svmlight/Day49.svm\n",
            "url_svmlight/Day70.svm\n",
            "url_svmlight/Day21.svm\n",
            "url_svmlight/Day109.svm\n",
            "url_svmlight/Day91.svm\n",
            "url_svmlight/Day15.svm\n",
            "url_svmlight/Day103.svm\n",
            "url_svmlight/Day85.svm\n",
            "url_svmlight/Day24.svm\n",
            "url_svmlight/Day75.svm\n",
            "url_svmlight/Day93.svm\n",
            "url_svmlight/Day17.svm\n",
            "url_svmlight/Day108.svm\n",
            "url_svmlight/Day57.svm\n",
            "url_svmlight/Day22.svm\n",
            "url_svmlight/Day45.svm\n",
            "url_svmlight/Day40.svm\n",
            "url_svmlight/Day12.svm\n",
            "url_svmlight/Day61.svm\n",
            "url_svmlight/Day86.svm\n",
            "url_svmlight/Day43.svm\n",
            "url_svmlight/Day34.svm\n",
            "url_svmlight/Day59.svm\n",
            "url_svmlight/Day82.svm\n",
            "url_svmlight/Day6.svm\n",
            "url_svmlight/Day37.svm\n",
            "url_svmlight/Day9.svm\n",
            "url_svmlight/Day71.svm\n",
            "url_svmlight/Day100.svm\n",
            "url_svmlight/Day99.svm\n",
            "url_svmlight/Day107.svm\n",
            "url_svmlight/Day87.svm\n",
            "url_svmlight/Day16.svm\n",
            "url_svmlight/Day51.svm\n",
            "url_svmlight/Day11.svm\n",
            "url_svmlight/Day110.svm\n",
            "url_svmlight/Day116.svm\n",
            "url_svmlight/Day5.svm\n",
            "url_svmlight/Day23.svm\n",
            "url_svmlight/Day114.svm\n",
            "url_svmlight/Day62.svm\n",
            "url_svmlight/Day46.svm\n",
            "url_svmlight/Day115.svm\n",
            "url_svmlight/Day42.svm\n",
            "url_svmlight/Day47.svm\n",
            "url_svmlight/Day58.svm\n",
            "url_svmlight/Day79.svm\n",
            "url_svmlight/Day1.svm\n",
            "url_svmlight/Day120.svm\n",
            "url_svmlight/Day30.svm\n",
            "url_svmlight/Day106.svm\n",
            "url_svmlight/Day44.svm\n",
            "url_svmlight/Day10.svm\n",
            "url_svmlight/Day119.svm\n",
            "url_svmlight/Day67.svm\n",
            "url_svmlight/Day74.svm\n",
            "url_svmlight/Day41.svm\n",
            "url_svmlight/Day28.svm\n",
            "url_svmlight/Day118.svm\n",
            "url_svmlight/Day48.svm\n",
            "url_svmlight/Day18.svm\n",
            "url_svmlight/Day77.svm\n",
            "url_svmlight/Day2.svm\n",
            "url_svmlight/Day39.svm\n",
            "url_svmlight/Day88.svm\n",
            "url_svmlight/Day78.svm\n",
            "url_svmlight/Day112.svm\n",
            "url_svmlight/Day35.svm\n",
            "url_svmlight/Day8.svm\n",
            "url_svmlight/Day95.svm\n",
            "url_svmlight/Day113.svm\n",
            "url_svmlight/Day101.svm\n",
            "url_svmlight/Day56.svm\n",
            "url_svmlight/Day105.svm\n",
            "url_svmlight/Day0.svm\n",
            "url_svmlight/Day76.svm\n",
            "url_svmlight/Day38.svm\n",
            "url_svmlight/Day94.svm\n",
            "url_svmlight/Day81.svm\n",
            "url_svmlight/FeatureTypes\n",
            "url_svmlight/Day97.svm\n",
            "url_svmlight/Day65.svm\n",
            "url_svmlight/Day73.svm\n",
            "url_svmlight/Day84.svm\n",
            "url_svmlight/Day80.svm\n",
            "url_svmlight/Day31.svm\n",
            "url_svmlight/Day90.svm\n",
            "url_svmlight/Day63.svm\n",
            "url_svmlight/Day66.svm\n",
            "url_svmlight/Day50.svm\n",
            "url_svmlight/Day55.svm\n",
            "url_svmlight/Day26.svm\n",
            "url_svmlight/Day29.svm\n",
            "url_svmlight/Day83.svm\n",
            "url_svmlight/Day13.svm\n",
            "url_svmlight/Day52.svm\n",
            "url_svmlight/Day98.svm\n",
            "url_svmlight/Day92.svm\n",
            "url_svmlight/Day102.svm\n",
            "url_svmlight/Day89.svm\n",
            "url_svmlight/Day14.svm\n",
            "url_svmlight/Day3.svm\n",
            "url_svmlight/Day104.svm\n",
            "url_svmlight/Day27.svm\n",
            "url_svmlight/Day64.svm\n",
            "url_svmlight/Day69.svm\n",
            "url_svmlight/Day111.svm\n",
            "url_svmlight/Day36.svm\n"
          ],
          "name": "stdout"
        }
      ]
    },
    {
      "cell_type": "code",
      "metadata": {
        "id": "0FemHL1ZCvQl",
        "colab_type": "code",
        "outputId": "6d471547-9935-4539-e892-84d5249a7472",
        "colab": {
          "base_uri": "https://localhost:8080/",
          "height": 145
        }
      },
      "source": [
        "!ls -al"
      ],
      "execution_count": 0,
      "outputs": [
        {
          "output_type": "stream",
          "text": [
            "total 239296\n",
            "drwxr-xr-x 1 root root      4096 Jun 15 14:06 .\n",
            "drwxr-xr-x 1 root root      4096 Jun 15 13:58 ..\n",
            "drwxr-xr-x 1 root root      4096 Jun 10 16:28 .config\n",
            "drwxr-xr-x 1 root root      4096 Jun 10 16:28 sample_data\n",
            "drwxr-xr-x 2 1000 1000      4096 Jul  8  2009 url_svmlight\n",
            "-rw-r--r-- 1 root root 245011835 Jul  8  2009 url_svmlight.tar.gz\n"
          ],
          "name": "stdout"
        }
      ]
    },
    {
      "cell_type": "code",
      "metadata": {
        "id": "GvVVZI1ODWVP",
        "colab_type": "code",
        "colab": {}
      },
      "source": [
        "import os\n",
        "import pandas as pd\n",
        "import numpy as np\n",
        "import matplotlib.pyplot as plt\n",
        "from sklearn.preprocessing import LabelEncoder"
      ],
      "execution_count": 0,
      "outputs": []
    },
    {
      "cell_type": "code",
      "metadata": {
        "id": "Mq5IyzDIDdp1",
        "colab_type": "code",
        "outputId": "a6e1326c-e891-49e0-b866-ef674c06b8ee",
        "colab": {
          "base_uri": "https://localhost:8080/",
          "height": 55
        }
      },
      "source": [
        "#  Read real value FeatureType\n",
        "f = open('url_svmlight/FeatureTypes')\n",
        "fstr = f.read()\n",
        "fstr"
      ],
      "execution_count": 0,
      "outputs": [
        {
          "output_type": "execute_result",
          "data": {
            "text/plain": [
              "'4\\n5\\n6\\n8\\n11\\n16\\n17\\n18\\n19\\n21\\n22\\n23\\n30\\n33\\n35\\n39\\n41\\n43\\n55\\n57\\n59\\n61\\n63\\n65\\n67\\n69\\n71\\n73\\n75\\n77\\n79\\n81\\n83\\n85\\n87\\n89\\n91\\n93\\n95\\n97\\n99\\n101\\n103\\n105\\n107\\n109\\n111\\n113\\n120\\n126\\n132\\n134\\n136\\n138\\n140\\n142\\n144\\n146\\n148\\n150\\n161\\n194\\n270\\n7801\\n'"
            ]
          },
          "metadata": {
            "tags": []
          },
          "execution_count": 5
        }
      ]
    },
    {
      "cell_type": "code",
      "metadata": {
        "id": "kJGWdd4jDpM1",
        "colab_type": "code",
        "outputId": "d0168388-1f98-46cf-d4e2-4c77f2f38916",
        "colab": {
          "base_uri": "https://localhost:8080/",
          "height": 74
        }
      },
      "source": [
        "f.close()\n",
        "flist = fstr.split('\\n')\n",
        "flist = flist[:-1]\n",
        "flist = [int(x) for x in flist]\n",
        "print(len(flist))\n",
        "print(flist)"
      ],
      "execution_count": 0,
      "outputs": [
        {
          "output_type": "stream",
          "text": [
            "64\n",
            "[4, 5, 6, 8, 11, 16, 17, 18, 19, 21, 22, 23, 30, 33, 35, 39, 41, 43, 55, 57, 59, 61, 63, 65, 67, 69, 71, 73, 75, 77, 79, 81, 83, 85, 87, 89, 91, 93, 95, 97, 99, 101, 103, 105, 107, 109, 111, 113, 120, 126, 132, 134, 136, 138, 140, 142, 144, 146, 148, 150, 161, 194, 270, 7801]\n"
          ],
          "name": "stdout"
        }
      ]
    },
    {
      "cell_type": "code",
      "metadata": {
        "id": "LMvTLgUNDrQT",
        "colab_type": "code",
        "colab": {}
      },
      "source": [
        "# Get `.svm` file content\n",
        "from joblib import Memory\n",
        "from sklearn.datasets import load_svmlight_file\n",
        "mem = Memory(\"./mycache\")\n",
        "\n",
        "# get .svm\n",
        "@mem.cache\n",
        "def get_data(path):\n",
        "    data = load_svmlight_file(path)\n",
        "    return data[0], data[1]"
      ],
      "execution_count": 0,
      "outputs": []
    },
    {
      "cell_type": "code",
      "metadata": {
        "id": "Jmp1oGgW_NVG",
        "colab_type": "code",
        "outputId": "a426cef4-2598-424e-f3c4-4c8810a678cc",
        "colab": {
          "base_uri": "https://localhost:8080/",
          "height": 1000
        }
      },
      "source": [
        "# get all .svm files\n",
        "X_files = []\n",
        "y_files = []\n",
        "for i in range(121):\n",
        "  X, y = get_data(path=f\"url_svmlight/Day{i}.svm\")\n",
        "  X_files.append(X)\n",
        "  y_files.append(y)"
      ],
      "execution_count": 0,
      "outputs": [
        {
          "output_type": "stream",
          "text": [
            "________________________________________________________________________________\n",
            "[Memory] Calling __main__--content-__ipython-input__.get_data...\n",
            "get_data(path='url_svmlight/Day0.svm')\n",
            "_________________________________________________________get_data - 0.9s, 0.0min\n",
            "________________________________________________________________________________\n",
            "[Memory] Calling __main__--content-__ipython-input__.get_data...\n",
            "get_data(path='url_svmlight/Day1.svm')\n",
            "_________________________________________________________get_data - 1.1s, 0.0min\n",
            "________________________________________________________________________________\n",
            "[Memory] Calling __main__--content-__ipython-input__.get_data...\n",
            "get_data(path='url_svmlight/Day2.svm')\n",
            "_________________________________________________________get_data - 1.0s, 0.0min\n",
            "________________________________________________________________________________\n",
            "[Memory] Calling __main__--content-__ipython-input__.get_data...\n",
            "get_data(path='url_svmlight/Day3.svm')\n",
            "_________________________________________________________get_data - 1.1s, 0.0min\n",
            "________________________________________________________________________________\n",
            "[Memory] Calling __main__--content-__ipython-input__.get_data...\n",
            "get_data(path='url_svmlight/Day4.svm')\n",
            "_________________________________________________________get_data - 1.1s, 0.0min\n",
            "________________________________________________________________________________\n",
            "[Memory] Calling __main__--content-__ipython-input__.get_data...\n",
            "get_data(path='url_svmlight/Day5.svm')\n",
            "_________________________________________________________get_data - 1.2s, 0.0min\n",
            "________________________________________________________________________________\n",
            "[Memory] Calling __main__--content-__ipython-input__.get_data...\n",
            "get_data(path='url_svmlight/Day6.svm')\n",
            "_________________________________________________________get_data - 1.1s, 0.0min\n",
            "________________________________________________________________________________\n",
            "[Memory] Calling __main__--content-__ipython-input__.get_data...\n",
            "get_data(path='url_svmlight/Day7.svm')\n",
            "_________________________________________________________get_data - 1.1s, 0.0min\n",
            "________________________________________________________________________________\n",
            "[Memory] Calling __main__--content-__ipython-input__.get_data...\n",
            "get_data(path='url_svmlight/Day8.svm')\n",
            "_________________________________________________________get_data - 1.1s, 0.0min\n",
            "________________________________________________________________________________\n",
            "[Memory] Calling __main__--content-__ipython-input__.get_data...\n",
            "get_data(path='url_svmlight/Day9.svm')\n",
            "_________________________________________________________get_data - 1.0s, 0.0min\n",
            "________________________________________________________________________________\n",
            "[Memory] Calling __main__--content-__ipython-input__.get_data...\n",
            "get_data(path='url_svmlight/Day10.svm')\n",
            "_________________________________________________________get_data - 1.1s, 0.0min\n",
            "________________________________________________________________________________\n",
            "[Memory] Calling __main__--content-__ipython-input__.get_data...\n",
            "get_data(path='url_svmlight/Day11.svm')\n",
            "_________________________________________________________get_data - 1.1s, 0.0min\n",
            "________________________________________________________________________________\n",
            "[Memory] Calling __main__--content-__ipython-input__.get_data...\n",
            "get_data(path='url_svmlight/Day12.svm')\n",
            "_________________________________________________________get_data - 1.1s, 0.0min\n",
            "________________________________________________________________________________\n",
            "[Memory] Calling __main__--content-__ipython-input__.get_data...\n",
            "get_data(path='url_svmlight/Day13.svm')\n",
            "_________________________________________________________get_data - 1.1s, 0.0min\n",
            "________________________________________________________________________________\n",
            "[Memory] Calling __main__--content-__ipython-input__.get_data...\n",
            "get_data(path='url_svmlight/Day14.svm')\n",
            "_________________________________________________________get_data - 1.1s, 0.0min\n",
            "________________________________________________________________________________\n",
            "[Memory] Calling __main__--content-__ipython-input__.get_data...\n",
            "get_data(path='url_svmlight/Day15.svm')\n",
            "_________________________________________________________get_data - 1.1s, 0.0min\n",
            "________________________________________________________________________________\n",
            "[Memory] Calling __main__--content-__ipython-input__.get_data...\n",
            "get_data(path='url_svmlight/Day16.svm')\n",
            "_________________________________________________________get_data - 1.1s, 0.0min\n",
            "________________________________________________________________________________\n",
            "[Memory] Calling __main__--content-__ipython-input__.get_data...\n",
            "get_data(path='url_svmlight/Day17.svm')\n",
            "_________________________________________________________get_data - 1.1s, 0.0min\n",
            "________________________________________________________________________________\n",
            "[Memory] Calling __main__--content-__ipython-input__.get_data...\n",
            "get_data(path='url_svmlight/Day18.svm')\n",
            "_________________________________________________________get_data - 1.1s, 0.0min\n",
            "________________________________________________________________________________\n",
            "[Memory] Calling __main__--content-__ipython-input__.get_data...\n",
            "get_data(path='url_svmlight/Day19.svm')\n",
            "_________________________________________________________get_data - 1.1s, 0.0min\n",
            "________________________________________________________________________________\n",
            "[Memory] Calling __main__--content-__ipython-input__.get_data...\n",
            "get_data(path='url_svmlight/Day20.svm')\n",
            "_________________________________________________________get_data - 1.1s, 0.0min\n",
            "________________________________________________________________________________\n",
            "[Memory] Calling __main__--content-__ipython-input__.get_data...\n",
            "get_data(path='url_svmlight/Day21.svm')\n",
            "_________________________________________________________get_data - 1.2s, 0.0min\n",
            "________________________________________________________________________________\n",
            "[Memory] Calling __main__--content-__ipython-input__.get_data...\n",
            "get_data(path='url_svmlight/Day22.svm')\n",
            "_________________________________________________________get_data - 1.1s, 0.0min\n",
            "________________________________________________________________________________\n",
            "[Memory] Calling __main__--content-__ipython-input__.get_data...\n",
            "get_data(path='url_svmlight/Day23.svm')\n",
            "_________________________________________________________get_data - 1.1s, 0.0min\n",
            "________________________________________________________________________________\n",
            "[Memory] Calling __main__--content-__ipython-input__.get_data...\n",
            "get_data(path='url_svmlight/Day24.svm')\n",
            "_________________________________________________________get_data - 1.1s, 0.0min\n",
            "________________________________________________________________________________\n",
            "[Memory] Calling __main__--content-__ipython-input__.get_data...\n",
            "get_data(path='url_svmlight/Day25.svm')\n",
            "_________________________________________________________get_data - 1.1s, 0.0min\n",
            "________________________________________________________________________________\n",
            "[Memory] Calling __main__--content-__ipython-input__.get_data...\n",
            "get_data(path='url_svmlight/Day26.svm')\n",
            "_________________________________________________________get_data - 1.1s, 0.0min\n",
            "________________________________________________________________________________\n",
            "[Memory] Calling __main__--content-__ipython-input__.get_data...\n",
            "get_data(path='url_svmlight/Day27.svm')\n",
            "_________________________________________________________get_data - 1.1s, 0.0min\n",
            "________________________________________________________________________________\n",
            "[Memory] Calling __main__--content-__ipython-input__.get_data...\n",
            "get_data(path='url_svmlight/Day28.svm')\n",
            "_________________________________________________________get_data - 1.1s, 0.0min\n",
            "________________________________________________________________________________\n",
            "[Memory] Calling __main__--content-__ipython-input__.get_data...\n",
            "get_data(path='url_svmlight/Day29.svm')\n",
            "_________________________________________________________get_data - 1.1s, 0.0min\n",
            "________________________________________________________________________________\n",
            "[Memory] Calling __main__--content-__ipython-input__.get_data...\n",
            "get_data(path='url_svmlight/Day30.svm')\n",
            "_________________________________________________________get_data - 1.2s, 0.0min\n",
            "________________________________________________________________________________\n",
            "[Memory] Calling __main__--content-__ipython-input__.get_data...\n",
            "get_data(path='url_svmlight/Day31.svm')\n",
            "_________________________________________________________get_data - 1.2s, 0.0min\n",
            "________________________________________________________________________________\n",
            "[Memory] Calling __main__--content-__ipython-input__.get_data...\n",
            "get_data(path='url_svmlight/Day32.svm')\n",
            "_________________________________________________________get_data - 1.0s, 0.0min\n",
            "________________________________________________________________________________\n",
            "[Memory] Calling __main__--content-__ipython-input__.get_data...\n",
            "get_data(path='url_svmlight/Day33.svm')\n",
            "_________________________________________________________get_data - 1.0s, 0.0min\n",
            "________________________________________________________________________________\n",
            "[Memory] Calling __main__--content-__ipython-input__.get_data...\n",
            "get_data(path='url_svmlight/Day34.svm')\n",
            "_________________________________________________________get_data - 1.1s, 0.0min\n",
            "________________________________________________________________________________\n",
            "[Memory] Calling __main__--content-__ipython-input__.get_data...\n",
            "get_data(path='url_svmlight/Day35.svm')\n",
            "_________________________________________________________get_data - 1.1s, 0.0min\n",
            "________________________________________________________________________________\n",
            "[Memory] Calling __main__--content-__ipython-input__.get_data...\n",
            "get_data(path='url_svmlight/Day36.svm')\n",
            "_________________________________________________________get_data - 1.2s, 0.0min\n",
            "________________________________________________________________________________\n",
            "[Memory] Calling __main__--content-__ipython-input__.get_data...\n",
            "get_data(path='url_svmlight/Day37.svm')\n",
            "_________________________________________________________get_data - 1.1s, 0.0min\n",
            "________________________________________________________________________________\n",
            "[Memory] Calling __main__--content-__ipython-input__.get_data...\n",
            "get_data(path='url_svmlight/Day38.svm')\n",
            "_________________________________________________________get_data - 1.1s, 0.0min\n",
            "________________________________________________________________________________\n",
            "[Memory] Calling __main__--content-__ipython-input__.get_data...\n",
            "get_data(path='url_svmlight/Day39.svm')\n",
            "_________________________________________________________get_data - 1.1s, 0.0min\n",
            "________________________________________________________________________________\n",
            "[Memory] Calling __main__--content-__ipython-input__.get_data...\n",
            "get_data(path='url_svmlight/Day40.svm')\n",
            "_________________________________________________________get_data - 1.1s, 0.0min\n",
            "________________________________________________________________________________\n",
            "[Memory] Calling __main__--content-__ipython-input__.get_data...\n",
            "get_data(path='url_svmlight/Day41.svm')\n",
            "_________________________________________________________get_data - 1.1s, 0.0min\n",
            "________________________________________________________________________________\n",
            "[Memory] Calling __main__--content-__ipython-input__.get_data...\n",
            "get_data(path='url_svmlight/Day42.svm')\n",
            "_________________________________________________________get_data - 1.0s, 0.0min\n",
            "________________________________________________________________________________\n",
            "[Memory] Calling __main__--content-__ipython-input__.get_data...\n",
            "get_data(path='url_svmlight/Day43.svm')\n",
            "_________________________________________________________get_data - 1.1s, 0.0min\n",
            "________________________________________________________________________________\n",
            "[Memory] Calling __main__--content-__ipython-input__.get_data...\n",
            "get_data(path='url_svmlight/Day44.svm')\n",
            "_________________________________________________________get_data - 1.1s, 0.0min\n",
            "________________________________________________________________________________\n",
            "[Memory] Calling __main__--content-__ipython-input__.get_data...\n",
            "get_data(path='url_svmlight/Day45.svm')\n",
            "_________________________________________________________get_data - 0.0s, 0.0min\n",
            "________________________________________________________________________________\n",
            "[Memory] Calling __main__--content-__ipython-input__.get_data...\n",
            "get_data(path='url_svmlight/Day46.svm')\n",
            "_________________________________________________________get_data - 1.2s, 0.0min\n",
            "________________________________________________________________________________\n",
            "[Memory] Calling __main__--content-__ipython-input__.get_data...\n",
            "get_data(path='url_svmlight/Day47.svm')\n",
            "_________________________________________________________get_data - 1.2s, 0.0min\n",
            "________________________________________________________________________________\n",
            "[Memory] Calling __main__--content-__ipython-input__.get_data...\n",
            "get_data(path='url_svmlight/Day48.svm')\n",
            "_________________________________________________________get_data - 1.1s, 0.0min\n",
            "________________________________________________________________________________\n",
            "[Memory] Calling __main__--content-__ipython-input__.get_data...\n",
            "get_data(path='url_svmlight/Day49.svm')\n",
            "_________________________________________________________get_data - 1.2s, 0.0min\n",
            "________________________________________________________________________________\n",
            "[Memory] Calling __main__--content-__ipython-input__.get_data...\n",
            "get_data(path='url_svmlight/Day50.svm')\n",
            "_________________________________________________________get_data - 1.1s, 0.0min\n",
            "________________________________________________________________________________\n",
            "[Memory] Calling __main__--content-__ipython-input__.get_data...\n",
            "get_data(path='url_svmlight/Day51.svm')\n",
            "_________________________________________________________get_data - 1.0s, 0.0min\n",
            "________________________________________________________________________________\n",
            "[Memory] Calling __main__--content-__ipython-input__.get_data...\n",
            "get_data(path='url_svmlight/Day52.svm')\n",
            "_________________________________________________________get_data - 1.2s, 0.0min\n",
            "________________________________________________________________________________\n",
            "[Memory] Calling __main__--content-__ipython-input__.get_data...\n",
            "get_data(path='url_svmlight/Day53.svm')\n",
            "_________________________________________________________get_data - 1.1s, 0.0min\n",
            "________________________________________________________________________________\n",
            "[Memory] Calling __main__--content-__ipython-input__.get_data...\n",
            "get_data(path='url_svmlight/Day54.svm')\n",
            "_________________________________________________________get_data - 1.1s, 0.0min\n",
            "________________________________________________________________________________\n",
            "[Memory] Calling __main__--content-__ipython-input__.get_data...\n",
            "get_data(path='url_svmlight/Day55.svm')\n",
            "_________________________________________________________get_data - 1.1s, 0.0min\n",
            "________________________________________________________________________________\n",
            "[Memory] Calling __main__--content-__ipython-input__.get_data...\n",
            "get_data(path='url_svmlight/Day56.svm')\n",
            "_________________________________________________________get_data - 1.1s, 0.0min\n",
            "________________________________________________________________________________\n",
            "[Memory] Calling __main__--content-__ipython-input__.get_data...\n",
            "get_data(path='url_svmlight/Day57.svm')\n",
            "_________________________________________________________get_data - 1.1s, 0.0min\n",
            "________________________________________________________________________________\n",
            "[Memory] Calling __main__--content-__ipython-input__.get_data...\n",
            "get_data(path='url_svmlight/Day58.svm')\n",
            "_________________________________________________________get_data - 1.1s, 0.0min\n",
            "________________________________________________________________________________\n",
            "[Memory] Calling __main__--content-__ipython-input__.get_data...\n",
            "get_data(path='url_svmlight/Day59.svm')\n",
            "_________________________________________________________get_data - 1.1s, 0.0min\n",
            "________________________________________________________________________________\n",
            "[Memory] Calling __main__--content-__ipython-input__.get_data...\n",
            "get_data(path='url_svmlight/Day60.svm')\n",
            "_________________________________________________________get_data - 1.1s, 0.0min\n",
            "________________________________________________________________________________\n",
            "[Memory] Calling __main__--content-__ipython-input__.get_data...\n",
            "get_data(path='url_svmlight/Day61.svm')\n",
            "_________________________________________________________get_data - 1.1s, 0.0min\n",
            "________________________________________________________________________________\n",
            "[Memory] Calling __main__--content-__ipython-input__.get_data...\n",
            "get_data(path='url_svmlight/Day62.svm')\n",
            "_________________________________________________________get_data - 1.2s, 0.0min\n",
            "________________________________________________________________________________\n",
            "[Memory] Calling __main__--content-__ipython-input__.get_data...\n",
            "get_data(path='url_svmlight/Day63.svm')\n",
            "_________________________________________________________get_data - 1.1s, 0.0min\n",
            "________________________________________________________________________________\n",
            "[Memory] Calling __main__--content-__ipython-input__.get_data...\n",
            "get_data(path='url_svmlight/Day64.svm')\n",
            "_________________________________________________________get_data - 1.1s, 0.0min\n",
            "________________________________________________________________________________\n",
            "[Memory] Calling __main__--content-__ipython-input__.get_data...\n",
            "get_data(path='url_svmlight/Day65.svm')\n",
            "_________________________________________________________get_data - 1.1s, 0.0min\n",
            "________________________________________________________________________________\n",
            "[Memory] Calling __main__--content-__ipython-input__.get_data...\n",
            "get_data(path='url_svmlight/Day66.svm')\n",
            "_________________________________________________________get_data - 1.1s, 0.0min\n",
            "________________________________________________________________________________\n",
            "[Memory] Calling __main__--content-__ipython-input__.get_data...\n",
            "get_data(path='url_svmlight/Day67.svm')\n",
            "_________________________________________________________get_data - 1.2s, 0.0min\n",
            "________________________________________________________________________________\n",
            "[Memory] Calling __main__--content-__ipython-input__.get_data...\n",
            "get_data(path='url_svmlight/Day68.svm')\n",
            "_________________________________________________________get_data - 1.1s, 0.0min\n",
            "________________________________________________________________________________\n",
            "[Memory] Calling __main__--content-__ipython-input__.get_data...\n",
            "get_data(path='url_svmlight/Day69.svm')\n",
            "_________________________________________________________get_data - 1.1s, 0.0min\n",
            "________________________________________________________________________________\n",
            "[Memory] Calling __main__--content-__ipython-input__.get_data...\n",
            "get_data(path='url_svmlight/Day70.svm')\n",
            "_________________________________________________________get_data - 1.2s, 0.0min\n",
            "________________________________________________________________________________\n",
            "[Memory] Calling __main__--content-__ipython-input__.get_data...\n",
            "get_data(path='url_svmlight/Day71.svm')\n",
            "_________________________________________________________get_data - 1.1s, 0.0min\n",
            "________________________________________________________________________________\n",
            "[Memory] Calling __main__--content-__ipython-input__.get_data...\n",
            "get_data(path='url_svmlight/Day72.svm')\n",
            "_________________________________________________________get_data - 1.1s, 0.0min\n",
            "________________________________________________________________________________\n",
            "[Memory] Calling __main__--content-__ipython-input__.get_data...\n",
            "get_data(path='url_svmlight/Day73.svm')\n",
            "_________________________________________________________get_data - 1.0s, 0.0min\n",
            "________________________________________________________________________________\n",
            "[Memory] Calling __main__--content-__ipython-input__.get_data...\n",
            "get_data(path='url_svmlight/Day74.svm')\n",
            "_________________________________________________________get_data - 1.1s, 0.0min\n",
            "________________________________________________________________________________\n",
            "[Memory] Calling __main__--content-__ipython-input__.get_data...\n",
            "get_data(path='url_svmlight/Day75.svm')\n",
            "_________________________________________________________get_data - 1.1s, 0.0min\n",
            "________________________________________________________________________________\n",
            "[Memory] Calling __main__--content-__ipython-input__.get_data...\n",
            "get_data(path='url_svmlight/Day76.svm')\n",
            "_________________________________________________________get_data - 1.1s, 0.0min\n",
            "________________________________________________________________________________\n",
            "[Memory] Calling __main__--content-__ipython-input__.get_data...\n",
            "get_data(path='url_svmlight/Day77.svm')\n",
            "_________________________________________________________get_data - 1.0s, 0.0min\n",
            "________________________________________________________________________________\n",
            "[Memory] Calling __main__--content-__ipython-input__.get_data...\n",
            "get_data(path='url_svmlight/Day78.svm')\n",
            "_________________________________________________________get_data - 1.0s, 0.0min\n",
            "________________________________________________________________________________\n",
            "[Memory] Calling __main__--content-__ipython-input__.get_data...\n",
            "get_data(path='url_svmlight/Day79.svm')\n",
            "_________________________________________________________get_data - 1.0s, 0.0min\n",
            "________________________________________________________________________________\n",
            "[Memory] Calling __main__--content-__ipython-input__.get_data...\n",
            "get_data(path='url_svmlight/Day80.svm')\n",
            "_________________________________________________________get_data - 1.1s, 0.0min\n",
            "________________________________________________________________________________\n",
            "[Memory] Calling __main__--content-__ipython-input__.get_data...\n",
            "get_data(path='url_svmlight/Day81.svm')\n",
            "_________________________________________________________get_data - 1.1s, 0.0min\n",
            "________________________________________________________________________________\n",
            "[Memory] Calling __main__--content-__ipython-input__.get_data...\n",
            "get_data(path='url_svmlight/Day82.svm')\n",
            "_________________________________________________________get_data - 1.1s, 0.0min\n",
            "________________________________________________________________________________\n",
            "[Memory] Calling __main__--content-__ipython-input__.get_data...\n",
            "get_data(path='url_svmlight/Day83.svm')\n",
            "_________________________________________________________get_data - 1.2s, 0.0min\n",
            "________________________________________________________________________________\n",
            "[Memory] Calling __main__--content-__ipython-input__.get_data...\n",
            "get_data(path='url_svmlight/Day84.svm')\n",
            "_________________________________________________________get_data - 1.2s, 0.0min\n",
            "________________________________________________________________________________\n",
            "[Memory] Calling __main__--content-__ipython-input__.get_data...\n",
            "get_data(path='url_svmlight/Day85.svm')\n",
            "_________________________________________________________get_data - 1.2s, 0.0min\n",
            "________________________________________________________________________________\n",
            "[Memory] Calling __main__--content-__ipython-input__.get_data...\n",
            "get_data(path='url_svmlight/Day86.svm')\n",
            "_________________________________________________________get_data - 1.0s, 0.0min\n",
            "________________________________________________________________________________\n",
            "[Memory] Calling __main__--content-__ipython-input__.get_data...\n",
            "get_data(path='url_svmlight/Day87.svm')\n",
            "_________________________________________________________get_data - 1.0s, 0.0min\n",
            "________________________________________________________________________________\n",
            "[Memory] Calling __main__--content-__ipython-input__.get_data...\n",
            "get_data(path='url_svmlight/Day88.svm')\n",
            "_________________________________________________________get_data - 1.1s, 0.0min\n",
            "________________________________________________________________________________\n",
            "[Memory] Calling __main__--content-__ipython-input__.get_data...\n",
            "get_data(path='url_svmlight/Day89.svm')\n",
            "_________________________________________________________get_data - 1.1s, 0.0min\n",
            "________________________________________________________________________________\n",
            "[Memory] Calling __main__--content-__ipython-input__.get_data...\n",
            "get_data(path='url_svmlight/Day90.svm')\n",
            "_________________________________________________________get_data - 1.1s, 0.0min\n",
            "________________________________________________________________________________\n",
            "[Memory] Calling __main__--content-__ipython-input__.get_data...\n",
            "get_data(path='url_svmlight/Day91.svm')\n",
            "_________________________________________________________get_data - 1.0s, 0.0min\n",
            "________________________________________________________________________________\n",
            "[Memory] Calling __main__--content-__ipython-input__.get_data...\n",
            "get_data(path='url_svmlight/Day92.svm')\n",
            "_________________________________________________________get_data - 1.0s, 0.0min\n",
            "________________________________________________________________________________\n",
            "[Memory] Calling __main__--content-__ipython-input__.get_data...\n",
            "get_data(path='url_svmlight/Day93.svm')\n",
            "_________________________________________________________get_data - 1.0s, 0.0min\n",
            "________________________________________________________________________________\n",
            "[Memory] Calling __main__--content-__ipython-input__.get_data...\n",
            "get_data(path='url_svmlight/Day94.svm')\n",
            "_________________________________________________________get_data - 1.1s, 0.0min\n",
            "________________________________________________________________________________\n",
            "[Memory] Calling __main__--content-__ipython-input__.get_data...\n",
            "get_data(path='url_svmlight/Day95.svm')\n",
            "_________________________________________________________get_data - 1.2s, 0.0min\n",
            "________________________________________________________________________________\n",
            "[Memory] Calling __main__--content-__ipython-input__.get_data...\n",
            "get_data(path='url_svmlight/Day96.svm')\n",
            "_________________________________________________________get_data - 1.0s, 0.0min\n",
            "________________________________________________________________________________\n",
            "[Memory] Calling __main__--content-__ipython-input__.get_data...\n",
            "get_data(path='url_svmlight/Day97.svm')\n",
            "_________________________________________________________get_data - 1.1s, 0.0min\n",
            "________________________________________________________________________________\n",
            "[Memory] Calling __main__--content-__ipython-input__.get_data...\n",
            "get_data(path='url_svmlight/Day98.svm')\n",
            "_________________________________________________________get_data - 1.1s, 0.0min\n",
            "________________________________________________________________________________\n",
            "[Memory] Calling __main__--content-__ipython-input__.get_data...\n",
            "get_data(path='url_svmlight/Day99.svm')\n",
            "_________________________________________________________get_data - 1.5s, 0.0min\n",
            "________________________________________________________________________________\n",
            "[Memory] Calling __main__--content-__ipython-input__.get_data...\n",
            "get_data(path='url_svmlight/Day100.svm')\n",
            "_________________________________________________________get_data - 1.0s, 0.0min\n",
            "________________________________________________________________________________\n",
            "[Memory] Calling __main__--content-__ipython-input__.get_data...\n",
            "get_data(path='url_svmlight/Day101.svm')\n",
            "_________________________________________________________get_data - 1.0s, 0.0min\n",
            "________________________________________________________________________________\n",
            "[Memory] Calling __main__--content-__ipython-input__.get_data...\n",
            "get_data(path='url_svmlight/Day102.svm')\n",
            "_________________________________________________________get_data - 1.1s, 0.0min\n",
            "________________________________________________________________________________\n",
            "[Memory] Calling __main__--content-__ipython-input__.get_data...\n",
            "get_data(path='url_svmlight/Day103.svm')\n",
            "_________________________________________________________get_data - 1.2s, 0.0min\n",
            "________________________________________________________________________________\n",
            "[Memory] Calling __main__--content-__ipython-input__.get_data...\n",
            "get_data(path='url_svmlight/Day104.svm')\n",
            "_________________________________________________________get_data - 1.0s, 0.0min\n",
            "________________________________________________________________________________\n",
            "[Memory] Calling __main__--content-__ipython-input__.get_data...\n",
            "get_data(path='url_svmlight/Day105.svm')\n",
            "_________________________________________________________get_data - 1.0s, 0.0min\n",
            "________________________________________________________________________________\n",
            "[Memory] Calling __main__--content-__ipython-input__.get_data...\n",
            "get_data(path='url_svmlight/Day106.svm')\n",
            "_________________________________________________________get_data - 1.0s, 0.0min\n",
            "________________________________________________________________________________\n",
            "[Memory] Calling __main__--content-__ipython-input__.get_data...\n",
            "get_data(path='url_svmlight/Day107.svm')\n",
            "_________________________________________________________get_data - 1.0s, 0.0min\n",
            "________________________________________________________________________________\n",
            "[Memory] Calling __main__--content-__ipython-input__.get_data...\n",
            "get_data(path='url_svmlight/Day108.svm')\n",
            "_________________________________________________________get_data - 1.0s, 0.0min\n",
            "________________________________________________________________________________\n",
            "[Memory] Calling __main__--content-__ipython-input__.get_data...\n",
            "get_data(path='url_svmlight/Day109.svm')\n",
            "_________________________________________________________get_data - 1.1s, 0.0min\n",
            "________________________________________________________________________________\n",
            "[Memory] Calling __main__--content-__ipython-input__.get_data...\n",
            "get_data(path='url_svmlight/Day110.svm')\n",
            "_________________________________________________________get_data - 1.5s, 0.0min\n",
            "________________________________________________________________________________\n",
            "[Memory] Calling __main__--content-__ipython-input__.get_data...\n",
            "get_data(path='url_svmlight/Day111.svm')\n",
            "_________________________________________________________get_data - 1.0s, 0.0min\n",
            "________________________________________________________________________________\n",
            "[Memory] Calling __main__--content-__ipython-input__.get_data...\n",
            "get_data(path='url_svmlight/Day112.svm')\n",
            "_________________________________________________________get_data - 1.0s, 0.0min\n",
            "________________________________________________________________________________\n",
            "[Memory] Calling __main__--content-__ipython-input__.get_data...\n",
            "get_data(path='url_svmlight/Day113.svm')\n",
            "_________________________________________________________get_data - 1.0s, 0.0min\n",
            "________________________________________________________________________________\n",
            "[Memory] Calling __main__--content-__ipython-input__.get_data...\n",
            "get_data(path='url_svmlight/Day114.svm')\n",
            "_________________________________________________________get_data - 1.1s, 0.0min\n",
            "________________________________________________________________________________\n",
            "[Memory] Calling __main__--content-__ipython-input__.get_data...\n",
            "get_data(path='url_svmlight/Day115.svm')\n",
            "_________________________________________________________get_data - 1.4s, 0.0min\n",
            "________________________________________________________________________________\n",
            "[Memory] Calling __main__--content-__ipython-input__.get_data...\n",
            "get_data(path='url_svmlight/Day116.svm')\n",
            "_________________________________________________________get_data - 1.0s, 0.0min\n",
            "________________________________________________________________________________\n",
            "[Memory] Calling __main__--content-__ipython-input__.get_data...\n",
            "get_data(path='url_svmlight/Day117.svm')\n",
            "_________________________________________________________get_data - 1.0s, 0.0min\n",
            "________________________________________________________________________________\n",
            "[Memory] Calling __main__--content-__ipython-input__.get_data...\n",
            "get_data(path='url_svmlight/Day118.svm')\n",
            "_________________________________________________________get_data - 1.0s, 0.0min\n",
            "________________________________________________________________________________\n",
            "[Memory] Calling __main__--content-__ipython-input__.get_data...\n",
            "get_data(path='url_svmlight/Day119.svm')\n",
            "_________________________________________________________get_data - 1.1s, 0.0min\n",
            "________________________________________________________________________________\n",
            "[Memory] Calling __main__--content-__ipython-input__.get_data...\n",
            "get_data(path='url_svmlight/Day120.svm')\n",
            "_________________________________________________________get_data - 1.4s, 0.0min\n"
          ],
          "name": "stdout"
        }
      ]
    },
    {
      "cell_type": "markdown",
      "metadata": {
        "id": "29ffp9VU6L3l",
        "colab_type": "text"
      },
      "source": [
        "### Convert dataset from csr_matrix to dataframe and Sampling\n",
        "ive tried to use random over sample but i dont know how to use it and make the df even bigger so i decide to use sample according to weights"
      ]
    },
    {
      "cell_type": "code",
      "metadata": {
        "id": "fdt7-9XWGu_n",
        "colab_type": "code",
        "colab": {}
      },
      "source": [
        "# csr_matrix只擷取特定Columns\n",
        "# 只選取FeatureType中列出的real-valued features，如果選取全部的欄位再轉為DataFrame會導致記憶體不足\n",
        "def getSingleDay(svm, flist):\n",
        "  X = svm[:, flist]\n",
        "  df = pd.DataFrame(X.toarray())\n",
        "  return df"
      ],
      "execution_count": 0,
      "outputs": []
    },
    {
      "cell_type": "code",
      "metadata": {
        "id": "ieFywZyTI81p",
        "colab_type": "code",
        "outputId": "5d5a735d-741a-4036-afdb-442740a1e516",
        "colab": {
          "base_uri": "https://localhost:8080/",
          "height": 35
        }
      },
      "source": [
        "df = pd.DataFrame()\n",
        "for svm in X_files:\n",
        "  df = pd.concat([df, getSingleDay(svm, flist)])\n",
        "print(df.shape)"
      ],
      "execution_count": 0,
      "outputs": [
        {
          "output_type": "stream",
          "text": [
            "(2396130, 64)\n"
          ],
          "name": "stdout"
        }
      ]
    },
    {
      "cell_type": "code",
      "metadata": {
        "id": "PGq19MrSfUwI",
        "colab_type": "code",
        "outputId": "17f6a46a-80b1-4ff6-91b0-f0be1a8f444f",
        "colab": {
          "base_uri": "https://localhost:8080/",
          "height": 236
        }
      },
      "source": [
        "# Sampling\n",
        "le = LabelEncoder()\n",
        "df['target'] = le.fit_transform(pd.Series(np.concatenate(y_files)))\n",
        "benign = df.loc[df['target']==0]\n",
        "malicious = df.loc[df['target']==1]\n",
        "\n",
        "n_samples = int(df.shape[0]*0.005)\n",
        "benign = benign.sample(n=n_samples, random_state=1)\n",
        "malicious = malicious.sample(n=n_samples, random_state=1)\n",
        "df_sample = pd.concat([benign, malicious])\n",
        "print(benign.shape, malicious.shape)\n",
        "df_sample.head()"
      ],
      "execution_count": 0,
      "outputs": [
        {
          "output_type": "stream",
          "text": [
            "(11980, 65) (11980, 65)\n"
          ],
          "name": "stdout"
        },
        {
          "output_type": "execute_result",
          "data": {
            "text/html": [
              "<div>\n",
              "<style scoped>\n",
              "    .dataframe tbody tr th:only-of-type {\n",
              "        vertical-align: middle;\n",
              "    }\n",
              "\n",
              "    .dataframe tbody tr th {\n",
              "        vertical-align: top;\n",
              "    }\n",
              "\n",
              "    .dataframe thead th {\n",
              "        text-align: right;\n",
              "    }\n",
              "</style>\n",
              "<table border=\"1\" class=\"dataframe\">\n",
              "  <thead>\n",
              "    <tr style=\"text-align: right;\">\n",
              "      <th></th>\n",
              "      <th>0</th>\n",
              "      <th>1</th>\n",
              "      <th>2</th>\n",
              "      <th>3</th>\n",
              "      <th>4</th>\n",
              "      <th>5</th>\n",
              "      <th>6</th>\n",
              "      <th>7</th>\n",
              "      <th>8</th>\n",
              "      <th>9</th>\n",
              "      <th>10</th>\n",
              "      <th>11</th>\n",
              "      <th>12</th>\n",
              "      <th>13</th>\n",
              "      <th>14</th>\n",
              "      <th>15</th>\n",
              "      <th>16</th>\n",
              "      <th>17</th>\n",
              "      <th>18</th>\n",
              "      <th>19</th>\n",
              "      <th>20</th>\n",
              "      <th>21</th>\n",
              "      <th>22</th>\n",
              "      <th>23</th>\n",
              "      <th>24</th>\n",
              "      <th>25</th>\n",
              "      <th>26</th>\n",
              "      <th>27</th>\n",
              "      <th>28</th>\n",
              "      <th>29</th>\n",
              "      <th>30</th>\n",
              "      <th>31</th>\n",
              "      <th>32</th>\n",
              "      <th>33</th>\n",
              "      <th>34</th>\n",
              "      <th>35</th>\n",
              "      <th>36</th>\n",
              "      <th>37</th>\n",
              "      <th>38</th>\n",
              "      <th>39</th>\n",
              "      <th>40</th>\n",
              "      <th>41</th>\n",
              "      <th>42</th>\n",
              "      <th>43</th>\n",
              "      <th>44</th>\n",
              "      <th>45</th>\n",
              "      <th>46</th>\n",
              "      <th>47</th>\n",
              "      <th>48</th>\n",
              "      <th>49</th>\n",
              "      <th>50</th>\n",
              "      <th>51</th>\n",
              "      <th>52</th>\n",
              "      <th>53</th>\n",
              "      <th>54</th>\n",
              "      <th>55</th>\n",
              "      <th>56</th>\n",
              "      <th>57</th>\n",
              "      <th>58</th>\n",
              "      <th>59</th>\n",
              "      <th>60</th>\n",
              "      <th>61</th>\n",
              "      <th>62</th>\n",
              "      <th>63</th>\n",
              "      <th>target</th>\n",
              "    </tr>\n",
              "  </thead>\n",
              "  <tbody>\n",
              "    <tr>\n",
              "      <th>13118</th>\n",
              "      <td>0.144828</td>\n",
              "      <td>0.117647</td>\n",
              "      <td>0.0</td>\n",
              "      <td>1.0</td>\n",
              "      <td>0.0</td>\n",
              "      <td>0.819947</td>\n",
              "      <td>0.809117</td>\n",
              "      <td>0.370874</td>\n",
              "      <td>0.0</td>\n",
              "      <td>0.000496</td>\n",
              "      <td>0.000496</td>\n",
              "      <td>0.0</td>\n",
              "      <td>0.0</td>\n",
              "      <td>0.0</td>\n",
              "      <td>1.0</td>\n",
              "      <td>0.0</td>\n",
              "      <td>0.0</td>\n",
              "      <td>1.0</td>\n",
              "      <td>1.0</td>\n",
              "      <td>0.0</td>\n",
              "      <td>0.0</td>\n",
              "      <td>1.0</td>\n",
              "      <td>1.0</td>\n",
              "      <td>1.0</td>\n",
              "      <td>1.0</td>\n",
              "      <td>1.0</td>\n",
              "      <td>1.0</td>\n",
              "      <td>1.0</td>\n",
              "      <td>1.0</td>\n",
              "      <td>0.0</td>\n",
              "      <td>0.0</td>\n",
              "      <td>1.0</td>\n",
              "      <td>1.0</td>\n",
              "      <td>1.0</td>\n",
              "      <td>1.0</td>\n",
              "      <td>1.0</td>\n",
              "      <td>1.0</td>\n",
              "      <td>1.0</td>\n",
              "      <td>1.0</td>\n",
              "      <td>0.0</td>\n",
              "      <td>0.0</td>\n",
              "      <td>1.0</td>\n",
              "      <td>1.0</td>\n",
              "      <td>1.0</td>\n",
              "      <td>1.0</td>\n",
              "      <td>1.0</td>\n",
              "      <td>1.0</td>\n",
              "      <td>0.0</td>\n",
              "      <td>0.0</td>\n",
              "      <td>0.0</td>\n",
              "      <td>0.0</td>\n",
              "      <td>0.0</td>\n",
              "      <td>0.0</td>\n",
              "      <td>0.0</td>\n",
              "      <td>0.0</td>\n",
              "      <td>0.0</td>\n",
              "      <td>0.0</td>\n",
              "      <td>0.0</td>\n",
              "      <td>0.0</td>\n",
              "      <td>0.0</td>\n",
              "      <td>0.0</td>\n",
              "      <td>0.0</td>\n",
              "      <td>0.0</td>\n",
              "      <td>0.0</td>\n",
              "      <td>0</td>\n",
              "    </tr>\n",
              "    <tr>\n",
              "      <th>7212</th>\n",
              "      <td>0.124138</td>\n",
              "      <td>0.117647</td>\n",
              "      <td>0.0</td>\n",
              "      <td>0.0</td>\n",
              "      <td>0.0</td>\n",
              "      <td>0.664033</td>\n",
              "      <td>0.762036</td>\n",
              "      <td>0.575339</td>\n",
              "      <td>0.0</td>\n",
              "      <td>0.011905</td>\n",
              "      <td>0.000000</td>\n",
              "      <td>0.0</td>\n",
              "      <td>0.0</td>\n",
              "      <td>0.0</td>\n",
              "      <td>0.0</td>\n",
              "      <td>0.0</td>\n",
              "      <td>0.0</td>\n",
              "      <td>0.0</td>\n",
              "      <td>1.0</td>\n",
              "      <td>0.0</td>\n",
              "      <td>0.0</td>\n",
              "      <td>0.0</td>\n",
              "      <td>1.0</td>\n",
              "      <td>0.0</td>\n",
              "      <td>0.0</td>\n",
              "      <td>1.0</td>\n",
              "      <td>1.0</td>\n",
              "      <td>1.0</td>\n",
              "      <td>1.0</td>\n",
              "      <td>0.0</td>\n",
              "      <td>0.0</td>\n",
              "      <td>1.0</td>\n",
              "      <td>1.0</td>\n",
              "      <td>1.0</td>\n",
              "      <td>1.0</td>\n",
              "      <td>1.0</td>\n",
              "      <td>1.0</td>\n",
              "      <td>1.0</td>\n",
              "      <td>1.0</td>\n",
              "      <td>0.0</td>\n",
              "      <td>0.0</td>\n",
              "      <td>1.0</td>\n",
              "      <td>1.0</td>\n",
              "      <td>1.0</td>\n",
              "      <td>1.0</td>\n",
              "      <td>1.0</td>\n",
              "      <td>1.0</td>\n",
              "      <td>0.0</td>\n",
              "      <td>0.0</td>\n",
              "      <td>0.0</td>\n",
              "      <td>0.0</td>\n",
              "      <td>0.0</td>\n",
              "      <td>0.0</td>\n",
              "      <td>0.0</td>\n",
              "      <td>0.0</td>\n",
              "      <td>0.0</td>\n",
              "      <td>0.0</td>\n",
              "      <td>0.0</td>\n",
              "      <td>0.0</td>\n",
              "      <td>0.0</td>\n",
              "      <td>0.0</td>\n",
              "      <td>0.0</td>\n",
              "      <td>0.0</td>\n",
              "      <td>0.0</td>\n",
              "      <td>0</td>\n",
              "    </tr>\n",
              "    <tr>\n",
              "      <th>4542</th>\n",
              "      <td>0.110345</td>\n",
              "      <td>0.117647</td>\n",
              "      <td>0.0</td>\n",
              "      <td>0.0</td>\n",
              "      <td>0.0</td>\n",
              "      <td>0.682786</td>\n",
              "      <td>0.850721</td>\n",
              "      <td>0.905985</td>\n",
              "      <td>0.0</td>\n",
              "      <td>0.005952</td>\n",
              "      <td>0.000000</td>\n",
              "      <td>1.0</td>\n",
              "      <td>1.0</td>\n",
              "      <td>0.0</td>\n",
              "      <td>0.0</td>\n",
              "      <td>1.0</td>\n",
              "      <td>1.0</td>\n",
              "      <td>0.0</td>\n",
              "      <td>1.0</td>\n",
              "      <td>0.0</td>\n",
              "      <td>0.0</td>\n",
              "      <td>1.0</td>\n",
              "      <td>1.0</td>\n",
              "      <td>1.0</td>\n",
              "      <td>1.0</td>\n",
              "      <td>1.0</td>\n",
              "      <td>1.0</td>\n",
              "      <td>1.0</td>\n",
              "      <td>1.0</td>\n",
              "      <td>1.0</td>\n",
              "      <td>1.0</td>\n",
              "      <td>1.0</td>\n",
              "      <td>1.0</td>\n",
              "      <td>1.0</td>\n",
              "      <td>1.0</td>\n",
              "      <td>1.0</td>\n",
              "      <td>1.0</td>\n",
              "      <td>1.0</td>\n",
              "      <td>1.0</td>\n",
              "      <td>1.0</td>\n",
              "      <td>1.0</td>\n",
              "      <td>1.0</td>\n",
              "      <td>1.0</td>\n",
              "      <td>1.0</td>\n",
              "      <td>1.0</td>\n",
              "      <td>1.0</td>\n",
              "      <td>1.0</td>\n",
              "      <td>0.0</td>\n",
              "      <td>0.0</td>\n",
              "      <td>0.0</td>\n",
              "      <td>0.0</td>\n",
              "      <td>0.0</td>\n",
              "      <td>0.0</td>\n",
              "      <td>0.0</td>\n",
              "      <td>0.0</td>\n",
              "      <td>0.0</td>\n",
              "      <td>0.0</td>\n",
              "      <td>0.0</td>\n",
              "      <td>0.0</td>\n",
              "      <td>0.0</td>\n",
              "      <td>0.0</td>\n",
              "      <td>0.0</td>\n",
              "      <td>0.0</td>\n",
              "      <td>0.0</td>\n",
              "      <td>0</td>\n",
              "    </tr>\n",
              "    <tr>\n",
              "      <th>1006</th>\n",
              "      <td>0.096552</td>\n",
              "      <td>0.176471</td>\n",
              "      <td>0.0</td>\n",
              "      <td>0.0</td>\n",
              "      <td>0.0</td>\n",
              "      <td>0.636552</td>\n",
              "      <td>0.825427</td>\n",
              "      <td>0.125932</td>\n",
              "      <td>0.0</td>\n",
              "      <td>0.005952</td>\n",
              "      <td>0.000000</td>\n",
              "      <td>1.0</td>\n",
              "      <td>0.0</td>\n",
              "      <td>0.0</td>\n",
              "      <td>1.0</td>\n",
              "      <td>0.0</td>\n",
              "      <td>0.0</td>\n",
              "      <td>1.0</td>\n",
              "      <td>0.0</td>\n",
              "      <td>0.0</td>\n",
              "      <td>0.0</td>\n",
              "      <td>1.0</td>\n",
              "      <td>1.0</td>\n",
              "      <td>1.0</td>\n",
              "      <td>1.0</td>\n",
              "      <td>1.0</td>\n",
              "      <td>1.0</td>\n",
              "      <td>1.0</td>\n",
              "      <td>1.0</td>\n",
              "      <td>0.0</td>\n",
              "      <td>0.0</td>\n",
              "      <td>1.0</td>\n",
              "      <td>1.0</td>\n",
              "      <td>1.0</td>\n",
              "      <td>1.0</td>\n",
              "      <td>1.0</td>\n",
              "      <td>1.0</td>\n",
              "      <td>0.0</td>\n",
              "      <td>0.0</td>\n",
              "      <td>0.0</td>\n",
              "      <td>0.0</td>\n",
              "      <td>1.0</td>\n",
              "      <td>1.0</td>\n",
              "      <td>1.0</td>\n",
              "      <td>1.0</td>\n",
              "      <td>1.0</td>\n",
              "      <td>1.0</td>\n",
              "      <td>0.0</td>\n",
              "      <td>0.0</td>\n",
              "      <td>0.0</td>\n",
              "      <td>0.0</td>\n",
              "      <td>0.0</td>\n",
              "      <td>0.0</td>\n",
              "      <td>0.0</td>\n",
              "      <td>0.0</td>\n",
              "      <td>0.0</td>\n",
              "      <td>0.0</td>\n",
              "      <td>0.0</td>\n",
              "      <td>0.0</td>\n",
              "      <td>1.0</td>\n",
              "      <td>0.0</td>\n",
              "      <td>0.0</td>\n",
              "      <td>0.0</td>\n",
              "      <td>0.0</td>\n",
              "      <td>0</td>\n",
              "    </tr>\n",
              "    <tr>\n",
              "      <th>13232</th>\n",
              "      <td>0.179310</td>\n",
              "      <td>0.117647</td>\n",
              "      <td>0.0</td>\n",
              "      <td>0.0</td>\n",
              "      <td>0.0</td>\n",
              "      <td>0.685034</td>\n",
              "      <td>0.793962</td>\n",
              "      <td>0.653416</td>\n",
              "      <td>1.0</td>\n",
              "      <td>0.142857</td>\n",
              "      <td>0.000000</td>\n",
              "      <td>1.0</td>\n",
              "      <td>0.0</td>\n",
              "      <td>0.0</td>\n",
              "      <td>0.0</td>\n",
              "      <td>0.0</td>\n",
              "      <td>0.0</td>\n",
              "      <td>1.0</td>\n",
              "      <td>1.0</td>\n",
              "      <td>0.0</td>\n",
              "      <td>0.0</td>\n",
              "      <td>1.0</td>\n",
              "      <td>1.0</td>\n",
              "      <td>1.0</td>\n",
              "      <td>1.0</td>\n",
              "      <td>1.0</td>\n",
              "      <td>1.0</td>\n",
              "      <td>1.0</td>\n",
              "      <td>1.0</td>\n",
              "      <td>0.0</td>\n",
              "      <td>0.0</td>\n",
              "      <td>1.0</td>\n",
              "      <td>1.0</td>\n",
              "      <td>1.0</td>\n",
              "      <td>1.0</td>\n",
              "      <td>1.0</td>\n",
              "      <td>1.0</td>\n",
              "      <td>1.0</td>\n",
              "      <td>1.0</td>\n",
              "      <td>0.0</td>\n",
              "      <td>0.0</td>\n",
              "      <td>1.0</td>\n",
              "      <td>1.0</td>\n",
              "      <td>1.0</td>\n",
              "      <td>1.0</td>\n",
              "      <td>1.0</td>\n",
              "      <td>1.0</td>\n",
              "      <td>0.0</td>\n",
              "      <td>0.0</td>\n",
              "      <td>0.0</td>\n",
              "      <td>0.0</td>\n",
              "      <td>0.0</td>\n",
              "      <td>0.0</td>\n",
              "      <td>0.0</td>\n",
              "      <td>0.0</td>\n",
              "      <td>0.0</td>\n",
              "      <td>0.0</td>\n",
              "      <td>0.0</td>\n",
              "      <td>0.0</td>\n",
              "      <td>1.0</td>\n",
              "      <td>0.0</td>\n",
              "      <td>0.0</td>\n",
              "      <td>0.0</td>\n",
              "      <td>0.0</td>\n",
              "      <td>0</td>\n",
              "    </tr>\n",
              "  </tbody>\n",
              "</table>\n",
              "</div>"
            ],
            "text/plain": [
              "              0         1    2    3    4  ...   60   61   62   63  target\n",
              "13118  0.144828  0.117647  0.0  1.0  0.0  ...  0.0  0.0  0.0  0.0       0\n",
              "7212   0.124138  0.117647  0.0  0.0  0.0  ...  0.0  0.0  0.0  0.0       0\n",
              "4542   0.110345  0.117647  0.0  0.0  0.0  ...  0.0  0.0  0.0  0.0       0\n",
              "1006   0.096552  0.176471  0.0  0.0  0.0  ...  0.0  0.0  0.0  0.0       0\n",
              "13232  0.179310  0.117647  0.0  0.0  0.0  ...  0.0  0.0  0.0  0.0       0\n",
              "\n",
              "[5 rows x 65 columns]"
            ]
          },
          "metadata": {
            "tags": []
          },
          "execution_count": 11
        }
      ]
    },
    {
      "cell_type": "code",
      "metadata": {
        "id": "b68ziU7GiqkS",
        "colab_type": "code",
        "outputId": "bd7ee3e5-d556-400a-b9fe-3974167726b9",
        "colab": {
          "base_uri": "https://localhost:8080/",
          "height": 218
        }
      },
      "source": [
        "df = df_sample.drop(['target'], axis=1)\n",
        "y = df_sample['target']\n",
        "df.head()"
      ],
      "execution_count": 0,
      "outputs": [
        {
          "output_type": "execute_result",
          "data": {
            "text/html": [
              "<div>\n",
              "<style scoped>\n",
              "    .dataframe tbody tr th:only-of-type {\n",
              "        vertical-align: middle;\n",
              "    }\n",
              "\n",
              "    .dataframe tbody tr th {\n",
              "        vertical-align: top;\n",
              "    }\n",
              "\n",
              "    .dataframe thead th {\n",
              "        text-align: right;\n",
              "    }\n",
              "</style>\n",
              "<table border=\"1\" class=\"dataframe\">\n",
              "  <thead>\n",
              "    <tr style=\"text-align: right;\">\n",
              "      <th></th>\n",
              "      <th>0</th>\n",
              "      <th>1</th>\n",
              "      <th>2</th>\n",
              "      <th>3</th>\n",
              "      <th>4</th>\n",
              "      <th>5</th>\n",
              "      <th>6</th>\n",
              "      <th>7</th>\n",
              "      <th>8</th>\n",
              "      <th>9</th>\n",
              "      <th>10</th>\n",
              "      <th>11</th>\n",
              "      <th>12</th>\n",
              "      <th>13</th>\n",
              "      <th>14</th>\n",
              "      <th>15</th>\n",
              "      <th>16</th>\n",
              "      <th>17</th>\n",
              "      <th>18</th>\n",
              "      <th>19</th>\n",
              "      <th>20</th>\n",
              "      <th>21</th>\n",
              "      <th>22</th>\n",
              "      <th>23</th>\n",
              "      <th>24</th>\n",
              "      <th>25</th>\n",
              "      <th>26</th>\n",
              "      <th>27</th>\n",
              "      <th>28</th>\n",
              "      <th>29</th>\n",
              "      <th>30</th>\n",
              "      <th>31</th>\n",
              "      <th>32</th>\n",
              "      <th>33</th>\n",
              "      <th>34</th>\n",
              "      <th>35</th>\n",
              "      <th>36</th>\n",
              "      <th>37</th>\n",
              "      <th>38</th>\n",
              "      <th>39</th>\n",
              "      <th>40</th>\n",
              "      <th>41</th>\n",
              "      <th>42</th>\n",
              "      <th>43</th>\n",
              "      <th>44</th>\n",
              "      <th>45</th>\n",
              "      <th>46</th>\n",
              "      <th>47</th>\n",
              "      <th>48</th>\n",
              "      <th>49</th>\n",
              "      <th>50</th>\n",
              "      <th>51</th>\n",
              "      <th>52</th>\n",
              "      <th>53</th>\n",
              "      <th>54</th>\n",
              "      <th>55</th>\n",
              "      <th>56</th>\n",
              "      <th>57</th>\n",
              "      <th>58</th>\n",
              "      <th>59</th>\n",
              "      <th>60</th>\n",
              "      <th>61</th>\n",
              "      <th>62</th>\n",
              "      <th>63</th>\n",
              "    </tr>\n",
              "  </thead>\n",
              "  <tbody>\n",
              "    <tr>\n",
              "      <th>13118</th>\n",
              "      <td>0.144828</td>\n",
              "      <td>0.117647</td>\n",
              "      <td>0.0</td>\n",
              "      <td>1.0</td>\n",
              "      <td>0.0</td>\n",
              "      <td>0.819947</td>\n",
              "      <td>0.809117</td>\n",
              "      <td>0.370874</td>\n",
              "      <td>0.0</td>\n",
              "      <td>0.000496</td>\n",
              "      <td>0.000496</td>\n",
              "      <td>0.0</td>\n",
              "      <td>0.0</td>\n",
              "      <td>0.0</td>\n",
              "      <td>1.0</td>\n",
              "      <td>0.0</td>\n",
              "      <td>0.0</td>\n",
              "      <td>1.0</td>\n",
              "      <td>1.0</td>\n",
              "      <td>0.0</td>\n",
              "      <td>0.0</td>\n",
              "      <td>1.0</td>\n",
              "      <td>1.0</td>\n",
              "      <td>1.0</td>\n",
              "      <td>1.0</td>\n",
              "      <td>1.0</td>\n",
              "      <td>1.0</td>\n",
              "      <td>1.0</td>\n",
              "      <td>1.0</td>\n",
              "      <td>0.0</td>\n",
              "      <td>0.0</td>\n",
              "      <td>1.0</td>\n",
              "      <td>1.0</td>\n",
              "      <td>1.0</td>\n",
              "      <td>1.0</td>\n",
              "      <td>1.0</td>\n",
              "      <td>1.0</td>\n",
              "      <td>1.0</td>\n",
              "      <td>1.0</td>\n",
              "      <td>0.0</td>\n",
              "      <td>0.0</td>\n",
              "      <td>1.0</td>\n",
              "      <td>1.0</td>\n",
              "      <td>1.0</td>\n",
              "      <td>1.0</td>\n",
              "      <td>1.0</td>\n",
              "      <td>1.0</td>\n",
              "      <td>0.0</td>\n",
              "      <td>0.0</td>\n",
              "      <td>0.0</td>\n",
              "      <td>0.0</td>\n",
              "      <td>0.0</td>\n",
              "      <td>0.0</td>\n",
              "      <td>0.0</td>\n",
              "      <td>0.0</td>\n",
              "      <td>0.0</td>\n",
              "      <td>0.0</td>\n",
              "      <td>0.0</td>\n",
              "      <td>0.0</td>\n",
              "      <td>0.0</td>\n",
              "      <td>0.0</td>\n",
              "      <td>0.0</td>\n",
              "      <td>0.0</td>\n",
              "      <td>0.0</td>\n",
              "    </tr>\n",
              "    <tr>\n",
              "      <th>7212</th>\n",
              "      <td>0.124138</td>\n",
              "      <td>0.117647</td>\n",
              "      <td>0.0</td>\n",
              "      <td>0.0</td>\n",
              "      <td>0.0</td>\n",
              "      <td>0.664033</td>\n",
              "      <td>0.762036</td>\n",
              "      <td>0.575339</td>\n",
              "      <td>0.0</td>\n",
              "      <td>0.011905</td>\n",
              "      <td>0.000000</td>\n",
              "      <td>0.0</td>\n",
              "      <td>0.0</td>\n",
              "      <td>0.0</td>\n",
              "      <td>0.0</td>\n",
              "      <td>0.0</td>\n",
              "      <td>0.0</td>\n",
              "      <td>0.0</td>\n",
              "      <td>1.0</td>\n",
              "      <td>0.0</td>\n",
              "      <td>0.0</td>\n",
              "      <td>0.0</td>\n",
              "      <td>1.0</td>\n",
              "      <td>0.0</td>\n",
              "      <td>0.0</td>\n",
              "      <td>1.0</td>\n",
              "      <td>1.0</td>\n",
              "      <td>1.0</td>\n",
              "      <td>1.0</td>\n",
              "      <td>0.0</td>\n",
              "      <td>0.0</td>\n",
              "      <td>1.0</td>\n",
              "      <td>1.0</td>\n",
              "      <td>1.0</td>\n",
              "      <td>1.0</td>\n",
              "      <td>1.0</td>\n",
              "      <td>1.0</td>\n",
              "      <td>1.0</td>\n",
              "      <td>1.0</td>\n",
              "      <td>0.0</td>\n",
              "      <td>0.0</td>\n",
              "      <td>1.0</td>\n",
              "      <td>1.0</td>\n",
              "      <td>1.0</td>\n",
              "      <td>1.0</td>\n",
              "      <td>1.0</td>\n",
              "      <td>1.0</td>\n",
              "      <td>0.0</td>\n",
              "      <td>0.0</td>\n",
              "      <td>0.0</td>\n",
              "      <td>0.0</td>\n",
              "      <td>0.0</td>\n",
              "      <td>0.0</td>\n",
              "      <td>0.0</td>\n",
              "      <td>0.0</td>\n",
              "      <td>0.0</td>\n",
              "      <td>0.0</td>\n",
              "      <td>0.0</td>\n",
              "      <td>0.0</td>\n",
              "      <td>0.0</td>\n",
              "      <td>0.0</td>\n",
              "      <td>0.0</td>\n",
              "      <td>0.0</td>\n",
              "      <td>0.0</td>\n",
              "    </tr>\n",
              "    <tr>\n",
              "      <th>4542</th>\n",
              "      <td>0.110345</td>\n",
              "      <td>0.117647</td>\n",
              "      <td>0.0</td>\n",
              "      <td>0.0</td>\n",
              "      <td>0.0</td>\n",
              "      <td>0.682786</td>\n",
              "      <td>0.850721</td>\n",
              "      <td>0.905985</td>\n",
              "      <td>0.0</td>\n",
              "      <td>0.005952</td>\n",
              "      <td>0.000000</td>\n",
              "      <td>1.0</td>\n",
              "      <td>1.0</td>\n",
              "      <td>0.0</td>\n",
              "      <td>0.0</td>\n",
              "      <td>1.0</td>\n",
              "      <td>1.0</td>\n",
              "      <td>0.0</td>\n",
              "      <td>1.0</td>\n",
              "      <td>0.0</td>\n",
              "      <td>0.0</td>\n",
              "      <td>1.0</td>\n",
              "      <td>1.0</td>\n",
              "      <td>1.0</td>\n",
              "      <td>1.0</td>\n",
              "      <td>1.0</td>\n",
              "      <td>1.0</td>\n",
              "      <td>1.0</td>\n",
              "      <td>1.0</td>\n",
              "      <td>1.0</td>\n",
              "      <td>1.0</td>\n",
              "      <td>1.0</td>\n",
              "      <td>1.0</td>\n",
              "      <td>1.0</td>\n",
              "      <td>1.0</td>\n",
              "      <td>1.0</td>\n",
              "      <td>1.0</td>\n",
              "      <td>1.0</td>\n",
              "      <td>1.0</td>\n",
              "      <td>1.0</td>\n",
              "      <td>1.0</td>\n",
              "      <td>1.0</td>\n",
              "      <td>1.0</td>\n",
              "      <td>1.0</td>\n",
              "      <td>1.0</td>\n",
              "      <td>1.0</td>\n",
              "      <td>1.0</td>\n",
              "      <td>0.0</td>\n",
              "      <td>0.0</td>\n",
              "      <td>0.0</td>\n",
              "      <td>0.0</td>\n",
              "      <td>0.0</td>\n",
              "      <td>0.0</td>\n",
              "      <td>0.0</td>\n",
              "      <td>0.0</td>\n",
              "      <td>0.0</td>\n",
              "      <td>0.0</td>\n",
              "      <td>0.0</td>\n",
              "      <td>0.0</td>\n",
              "      <td>0.0</td>\n",
              "      <td>0.0</td>\n",
              "      <td>0.0</td>\n",
              "      <td>0.0</td>\n",
              "      <td>0.0</td>\n",
              "    </tr>\n",
              "    <tr>\n",
              "      <th>1006</th>\n",
              "      <td>0.096552</td>\n",
              "      <td>0.176471</td>\n",
              "      <td>0.0</td>\n",
              "      <td>0.0</td>\n",
              "      <td>0.0</td>\n",
              "      <td>0.636552</td>\n",
              "      <td>0.825427</td>\n",
              "      <td>0.125932</td>\n",
              "      <td>0.0</td>\n",
              "      <td>0.005952</td>\n",
              "      <td>0.000000</td>\n",
              "      <td>1.0</td>\n",
              "      <td>0.0</td>\n",
              "      <td>0.0</td>\n",
              "      <td>1.0</td>\n",
              "      <td>0.0</td>\n",
              "      <td>0.0</td>\n",
              "      <td>1.0</td>\n",
              "      <td>0.0</td>\n",
              "      <td>0.0</td>\n",
              "      <td>0.0</td>\n",
              "      <td>1.0</td>\n",
              "      <td>1.0</td>\n",
              "      <td>1.0</td>\n",
              "      <td>1.0</td>\n",
              "      <td>1.0</td>\n",
              "      <td>1.0</td>\n",
              "      <td>1.0</td>\n",
              "      <td>1.0</td>\n",
              "      <td>0.0</td>\n",
              "      <td>0.0</td>\n",
              "      <td>1.0</td>\n",
              "      <td>1.0</td>\n",
              "      <td>1.0</td>\n",
              "      <td>1.0</td>\n",
              "      <td>1.0</td>\n",
              "      <td>1.0</td>\n",
              "      <td>0.0</td>\n",
              "      <td>0.0</td>\n",
              "      <td>0.0</td>\n",
              "      <td>0.0</td>\n",
              "      <td>1.0</td>\n",
              "      <td>1.0</td>\n",
              "      <td>1.0</td>\n",
              "      <td>1.0</td>\n",
              "      <td>1.0</td>\n",
              "      <td>1.0</td>\n",
              "      <td>0.0</td>\n",
              "      <td>0.0</td>\n",
              "      <td>0.0</td>\n",
              "      <td>0.0</td>\n",
              "      <td>0.0</td>\n",
              "      <td>0.0</td>\n",
              "      <td>0.0</td>\n",
              "      <td>0.0</td>\n",
              "      <td>0.0</td>\n",
              "      <td>0.0</td>\n",
              "      <td>0.0</td>\n",
              "      <td>0.0</td>\n",
              "      <td>1.0</td>\n",
              "      <td>0.0</td>\n",
              "      <td>0.0</td>\n",
              "      <td>0.0</td>\n",
              "      <td>0.0</td>\n",
              "    </tr>\n",
              "    <tr>\n",
              "      <th>13232</th>\n",
              "      <td>0.179310</td>\n",
              "      <td>0.117647</td>\n",
              "      <td>0.0</td>\n",
              "      <td>0.0</td>\n",
              "      <td>0.0</td>\n",
              "      <td>0.685034</td>\n",
              "      <td>0.793962</td>\n",
              "      <td>0.653416</td>\n",
              "      <td>1.0</td>\n",
              "      <td>0.142857</td>\n",
              "      <td>0.000000</td>\n",
              "      <td>1.0</td>\n",
              "      <td>0.0</td>\n",
              "      <td>0.0</td>\n",
              "      <td>0.0</td>\n",
              "      <td>0.0</td>\n",
              "      <td>0.0</td>\n",
              "      <td>1.0</td>\n",
              "      <td>1.0</td>\n",
              "      <td>0.0</td>\n",
              "      <td>0.0</td>\n",
              "      <td>1.0</td>\n",
              "      <td>1.0</td>\n",
              "      <td>1.0</td>\n",
              "      <td>1.0</td>\n",
              "      <td>1.0</td>\n",
              "      <td>1.0</td>\n",
              "      <td>1.0</td>\n",
              "      <td>1.0</td>\n",
              "      <td>0.0</td>\n",
              "      <td>0.0</td>\n",
              "      <td>1.0</td>\n",
              "      <td>1.0</td>\n",
              "      <td>1.0</td>\n",
              "      <td>1.0</td>\n",
              "      <td>1.0</td>\n",
              "      <td>1.0</td>\n",
              "      <td>1.0</td>\n",
              "      <td>1.0</td>\n",
              "      <td>0.0</td>\n",
              "      <td>0.0</td>\n",
              "      <td>1.0</td>\n",
              "      <td>1.0</td>\n",
              "      <td>1.0</td>\n",
              "      <td>1.0</td>\n",
              "      <td>1.0</td>\n",
              "      <td>1.0</td>\n",
              "      <td>0.0</td>\n",
              "      <td>0.0</td>\n",
              "      <td>0.0</td>\n",
              "      <td>0.0</td>\n",
              "      <td>0.0</td>\n",
              "      <td>0.0</td>\n",
              "      <td>0.0</td>\n",
              "      <td>0.0</td>\n",
              "      <td>0.0</td>\n",
              "      <td>0.0</td>\n",
              "      <td>0.0</td>\n",
              "      <td>0.0</td>\n",
              "      <td>1.0</td>\n",
              "      <td>0.0</td>\n",
              "      <td>0.0</td>\n",
              "      <td>0.0</td>\n",
              "      <td>0.0</td>\n",
              "    </tr>\n",
              "  </tbody>\n",
              "</table>\n",
              "</div>"
            ],
            "text/plain": [
              "             0         1    2    3    4   ...   59   60   61   62   63\n",
              "13118  0.144828  0.117647  0.0  1.0  0.0  ...  0.0  0.0  0.0  0.0  0.0\n",
              "7212   0.124138  0.117647  0.0  0.0  0.0  ...  0.0  0.0  0.0  0.0  0.0\n",
              "4542   0.110345  0.117647  0.0  0.0  0.0  ...  0.0  0.0  0.0  0.0  0.0\n",
              "1006   0.096552  0.176471  0.0  0.0  0.0  ...  1.0  0.0  0.0  0.0  0.0\n",
              "13232  0.179310  0.117647  0.0  0.0  0.0  ...  1.0  0.0  0.0  0.0  0.0\n",
              "\n",
              "[5 rows x 64 columns]"
            ]
          },
          "metadata": {
            "tags": []
          },
          "execution_count": 12
        }
      ]
    },
    {
      "cell_type": "markdown",
      "metadata": {
        "id": "9_WGrglXCzfo",
        "colab_type": "text"
      },
      "source": [
        "### Correlation and EDA\n"
      ]
    },
    {
      "cell_type": "code",
      "metadata": {
        "id": "fIeiFCkRm1oO",
        "colab_type": "code",
        "outputId": "e5424c36-0550-4afd-f869-66ed8e41d91a",
        "colab": {
          "base_uri": "https://localhost:8080/",
          "height": 217
        }
      },
      "source": [
        "df_sample.columns"
      ],
      "execution_count": 0,
      "outputs": [
        {
          "output_type": "execute_result",
          "data": {
            "text/plain": [
              "Index([       0,        1,        2,        3,        4,        5,        6,\n",
              "              7,        8,        9,       10,       11,       12,       13,\n",
              "             14,       15,       16,       17,       18,       19,       20,\n",
              "             21,       22,       23,       24,       25,       26,       27,\n",
              "             28,       29,       30,       31,       32,       33,       34,\n",
              "             35,       36,       37,       38,       39,       40,       41,\n",
              "             42,       43,       44,       45,       46,       47,       48,\n",
              "             49,       50,       51,       52,       53,       54,       55,\n",
              "             56,       57,       58,       59,       60,       61,       62,\n",
              "             63, 'target'],\n",
              "      dtype='object')"
            ]
          },
          "metadata": {
            "tags": []
          },
          "execution_count": 13
        }
      ]
    },
    {
      "cell_type": "code",
      "metadata": {
        "id": "74AHt-tfG4ak",
        "colab_type": "code",
        "outputId": "bea1c15b-2a3a-40d6-bdf0-84ed46bd94f3",
        "colab": {
          "base_uri": "https://localhost:8080/",
          "height": 1000
        }
      },
      "source": [
        "df.hist(bins=50, figsize=(20,20))\n",
        "plt.show()"
      ],
      "execution_count": 0,
      "outputs": [
        {
          "output_type": "display_data",
          "data": {
            "image/png": "[encoded data removed]",
            "text/plain": [
              "<Figure size 1440x1440 with 64 Axes>"
            ]
          },
          "metadata": {
            "tags": [],
            "needs_background": "light"
          }
        }
      ]
    },
    {
      "cell_type": "code",
      "metadata": {
        "id": "9ucem3O4Cxei",
        "colab_type": "code",
        "outputId": "864707ac-dca4-4fc1-8235-b534a7a95b08",
        "colab": {
          "base_uri": "https://localhost:8080/",
          "height": 691
        }
      },
      "source": [
        "import seaborn as sns\n",
        "\n",
        "corr = df_sample.corr()\n",
        "plt.figure(figsize=(10,10))      # Sample figsize in inches\n",
        "sns.heatmap(corr, \n",
        "        xticklabels=corr.columns,\n",
        "        yticklabels=corr.columns,\n",
        "        annot=False,\n",
        "        cmap=\"YlGnBu\",\n",
        "        linewidths=0.1,\n",
        "        linecolor='white')"
      ],
      "execution_count": 0,
      "outputs": [
        {
          "output_type": "stream",
          "text": [
            "/usr/local/lib/python3.6/dist-packages/statsmodels/tools/_testing.py:19: FutureWarning: pandas.util.testing is deprecated. Use the functions in the public API at pandas.testing instead.\n",
            "  import pandas.util.testing as tm\n"
          ],
          "name": "stderr"
        },
        {
          "output_type": "execute_result",
          "data": {
            "text/plain": [
              "<matplotlib.axes._subplots.AxesSubplot at 0x7fe96b06b588>"
            ]
          },
          "metadata": {
            "tags": []
          },
          "execution_count": 15
        },
        {
          "output_type": "display_data",
          "data": {
            "image/png": "[encoded data removed]",
            "text/plain": [
              "<Figure size 720x720 with 2 Axes>"
            ]
          },
          "metadata": {
            "tags": [],
            "needs_background": "light"
          }
        }
      ]
    },
    {
      "cell_type": "markdown",
      "metadata": {
        "id": "3Yr7YjS1NoyF",
        "colab_type": "text"
      },
      "source": [
        "### Filter Features"
      ]
    },
    {
      "cell_type": "code",
      "metadata": {
        "id": "cJtXR2FAtAK4",
        "colab_type": "code",
        "colab": {}
      },
      "source": [
        "from sklearn.preprocessing import MinMaxScaler\n",
        "df_normalized = pd.DataFrame(MinMaxScaler().fit_transform(df), columns = df.columns, index = df.index)"
      ],
      "execution_count": 0,
      "outputs": []
    },
    {
      "cell_type": "code",
      "metadata": {
        "id": "1WtCu9D6wBiv",
        "colab_type": "code",
        "colab": {}
      },
      "source": [
        "# Threshold = 0.5\n",
        "df_discrete = df_normalized\n",
        "for column in df_discrete.columns:\n",
        "  df_discrete[column] = df_discrete[column].apply(lambda x: 0 if x < 0.5 else 1)"
      ],
      "execution_count": 0,
      "outputs": []
    },
    {
      "cell_type": "markdown",
      "metadata": {
        "id": "6vW5Iq8ULQI8",
        "colab_type": "text"
      },
      "source": [
        "#### Delete the columns contains same value"
      ]
    },
    {
      "cell_type": "code",
      "metadata": {
        "id": "fLE4lDHBNyT3",
        "colab_type": "code",
        "outputId": "fd878f1d-6d25-425f-f663-2fd9b344840f",
        "colab": {
          "base_uri": "https://localhost:8080/",
          "height": 35
        }
      },
      "source": [
        "df.shape"
      ],
      "execution_count": 0,
      "outputs": [
        {
          "output_type": "execute_result",
          "data": {
            "text/plain": [
              "(23960, 64)"
            ]
          },
          "metadata": {
            "tags": []
          },
          "execution_count": 18
        }
      ]
    },
    {
      "cell_type": "code",
      "metadata": {
        "id": "l6BZCDvnN2H_",
        "colab_type": "code",
        "outputId": "ce21ff7f-ff3e-4138-8119-fd6c93b9f119",
        "colab": {
          "base_uri": "https://localhost:8080/",
          "height": 35
        }
      },
      "source": [
        "# 全為1的欄位\n",
        "all_ones = [i for i, x in enumerate(df_discrete.sum()) if x==df.shape[0]]\n",
        "all_ones"
      ],
      "execution_count": 0,
      "outputs": [
        {
          "output_type": "execute_result",
          "data": {
            "text/plain": [
              "[]"
            ]
          },
          "metadata": {
            "tags": []
          },
          "execution_count": 19
        }
      ]
    },
    {
      "cell_type": "code",
      "metadata": {
        "id": "AXW0ToziESqt",
        "colab_type": "code",
        "outputId": "f950ed86-5155-475b-9da9-f9a3448c04ae",
        "colab": {
          "base_uri": "https://localhost:8080/",
          "height": 35
        }
      },
      "source": [
        "# 過濾總和為非0的columns\n",
        "not_zeros_discrete = [i for i, x in enumerate(df_discrete.sum()) if x!=0.0]\n",
        "len(not_zeros_discrete)"
      ],
      "execution_count": 0,
      "outputs": [
        {
          "output_type": "execute_result",
          "data": {
            "text/plain": [
              "60"
            ]
          },
          "metadata": {
            "tags": []
          },
          "execution_count": 20
        }
      ]
    },
    {
      "cell_type": "code",
      "metadata": {
        "id": "71O8bl8SK_In",
        "colab_type": "code",
        "outputId": "304d4e96-be8e-4266-bf7a-c3f5c9cd8ed7",
        "colab": {
          "base_uri": "https://localhost:8080/",
          "height": 218
        }
      },
      "source": [
        "df_discrete = df_discrete[:][not_zeros_discrete]\n",
        "df_discrete.head()"
      ],
      "execution_count": 0,
      "outputs": [
        {
          "output_type": "execute_result",
          "data": {
            "text/html": [
              "<div>\n",
              "<style scoped>\n",
              "    .dataframe tbody tr th:only-of-type {\n",
              "        vertical-align: middle;\n",
              "    }\n",
              "\n",
              "    .dataframe tbody tr th {\n",
              "        vertical-align: top;\n",
              "    }\n",
              "\n",
              "    .dataframe thead th {\n",
              "        text-align: right;\n",
              "    }\n",
              "</style>\n",
              "<table border=\"1\" class=\"dataframe\">\n",
              "  <thead>\n",
              "    <tr style=\"text-align: right;\">\n",
              "      <th></th>\n",
              "      <th>0</th>\n",
              "      <th>1</th>\n",
              "      <th>3</th>\n",
              "      <th>5</th>\n",
              "      <th>6</th>\n",
              "      <th>7</th>\n",
              "      <th>8</th>\n",
              "      <th>9</th>\n",
              "      <th>10</th>\n",
              "      <th>11</th>\n",
              "      <th>12</th>\n",
              "      <th>13</th>\n",
              "      <th>14</th>\n",
              "      <th>15</th>\n",
              "      <th>16</th>\n",
              "      <th>17</th>\n",
              "      <th>18</th>\n",
              "      <th>19</th>\n",
              "      <th>20</th>\n",
              "      <th>21</th>\n",
              "      <th>22</th>\n",
              "      <th>23</th>\n",
              "      <th>24</th>\n",
              "      <th>25</th>\n",
              "      <th>26</th>\n",
              "      <th>27</th>\n",
              "      <th>28</th>\n",
              "      <th>29</th>\n",
              "      <th>30</th>\n",
              "      <th>31</th>\n",
              "      <th>32</th>\n",
              "      <th>33</th>\n",
              "      <th>34</th>\n",
              "      <th>35</th>\n",
              "      <th>36</th>\n",
              "      <th>37</th>\n",
              "      <th>38</th>\n",
              "      <th>39</th>\n",
              "      <th>40</th>\n",
              "      <th>41</th>\n",
              "      <th>42</th>\n",
              "      <th>43</th>\n",
              "      <th>44</th>\n",
              "      <th>45</th>\n",
              "      <th>46</th>\n",
              "      <th>48</th>\n",
              "      <th>49</th>\n",
              "      <th>50</th>\n",
              "      <th>51</th>\n",
              "      <th>52</th>\n",
              "      <th>53</th>\n",
              "      <th>54</th>\n",
              "      <th>55</th>\n",
              "      <th>56</th>\n",
              "      <th>57</th>\n",
              "      <th>58</th>\n",
              "      <th>59</th>\n",
              "      <th>60</th>\n",
              "      <th>62</th>\n",
              "      <th>63</th>\n",
              "    </tr>\n",
              "  </thead>\n",
              "  <tbody>\n",
              "    <tr>\n",
              "      <th>13118</th>\n",
              "      <td>0</td>\n",
              "      <td>0</td>\n",
              "      <td>1</td>\n",
              "      <td>1</td>\n",
              "      <td>1</td>\n",
              "      <td>1</td>\n",
              "      <td>0</td>\n",
              "      <td>0</td>\n",
              "      <td>0</td>\n",
              "      <td>0</td>\n",
              "      <td>0</td>\n",
              "      <td>0</td>\n",
              "      <td>1</td>\n",
              "      <td>0</td>\n",
              "      <td>0</td>\n",
              "      <td>1</td>\n",
              "      <td>1</td>\n",
              "      <td>0</td>\n",
              "      <td>0</td>\n",
              "      <td>1</td>\n",
              "      <td>1</td>\n",
              "      <td>1</td>\n",
              "      <td>1</td>\n",
              "      <td>1</td>\n",
              "      <td>1</td>\n",
              "      <td>1</td>\n",
              "      <td>1</td>\n",
              "      <td>0</td>\n",
              "      <td>0</td>\n",
              "      <td>1</td>\n",
              "      <td>1</td>\n",
              "      <td>1</td>\n",
              "      <td>1</td>\n",
              "      <td>1</td>\n",
              "      <td>1</td>\n",
              "      <td>1</td>\n",
              "      <td>1</td>\n",
              "      <td>0</td>\n",
              "      <td>0</td>\n",
              "      <td>1</td>\n",
              "      <td>1</td>\n",
              "      <td>1</td>\n",
              "      <td>1</td>\n",
              "      <td>1</td>\n",
              "      <td>1</td>\n",
              "      <td>0</td>\n",
              "      <td>0</td>\n",
              "      <td>0</td>\n",
              "      <td>0</td>\n",
              "      <td>0</td>\n",
              "      <td>0</td>\n",
              "      <td>0</td>\n",
              "      <td>0</td>\n",
              "      <td>0</td>\n",
              "      <td>0</td>\n",
              "      <td>0</td>\n",
              "      <td>0</td>\n",
              "      <td>0</td>\n",
              "      <td>0</td>\n",
              "      <td>0</td>\n",
              "    </tr>\n",
              "    <tr>\n",
              "      <th>7212</th>\n",
              "      <td>0</td>\n",
              "      <td>0</td>\n",
              "      <td>0</td>\n",
              "      <td>1</td>\n",
              "      <td>1</td>\n",
              "      <td>1</td>\n",
              "      <td>0</td>\n",
              "      <td>0</td>\n",
              "      <td>0</td>\n",
              "      <td>0</td>\n",
              "      <td>0</td>\n",
              "      <td>0</td>\n",
              "      <td>0</td>\n",
              "      <td>0</td>\n",
              "      <td>0</td>\n",
              "      <td>0</td>\n",
              "      <td>1</td>\n",
              "      <td>0</td>\n",
              "      <td>0</td>\n",
              "      <td>0</td>\n",
              "      <td>1</td>\n",
              "      <td>0</td>\n",
              "      <td>0</td>\n",
              "      <td>1</td>\n",
              "      <td>1</td>\n",
              "      <td>1</td>\n",
              "      <td>1</td>\n",
              "      <td>0</td>\n",
              "      <td>0</td>\n",
              "      <td>1</td>\n",
              "      <td>1</td>\n",
              "      <td>1</td>\n",
              "      <td>1</td>\n",
              "      <td>1</td>\n",
              "      <td>1</td>\n",
              "      <td>1</td>\n",
              "      <td>1</td>\n",
              "      <td>0</td>\n",
              "      <td>0</td>\n",
              "      <td>1</td>\n",
              "      <td>1</td>\n",
              "      <td>1</td>\n",
              "      <td>1</td>\n",
              "      <td>1</td>\n",
              "      <td>1</td>\n",
              "      <td>0</td>\n",
              "      <td>0</td>\n",
              "      <td>0</td>\n",
              "      <td>0</td>\n",
              "      <td>0</td>\n",
              "      <td>0</td>\n",
              "      <td>0</td>\n",
              "      <td>0</td>\n",
              "      <td>0</td>\n",
              "      <td>0</td>\n",
              "      <td>0</td>\n",
              "      <td>0</td>\n",
              "      <td>0</td>\n",
              "      <td>0</td>\n",
              "      <td>0</td>\n",
              "    </tr>\n",
              "    <tr>\n",
              "      <th>4542</th>\n",
              "      <td>0</td>\n",
              "      <td>0</td>\n",
              "      <td>0</td>\n",
              "      <td>1</td>\n",
              "      <td>1</td>\n",
              "      <td>1</td>\n",
              "      <td>0</td>\n",
              "      <td>0</td>\n",
              "      <td>0</td>\n",
              "      <td>1</td>\n",
              "      <td>1</td>\n",
              "      <td>0</td>\n",
              "      <td>0</td>\n",
              "      <td>1</td>\n",
              "      <td>1</td>\n",
              "      <td>0</td>\n",
              "      <td>1</td>\n",
              "      <td>0</td>\n",
              "      <td>0</td>\n",
              "      <td>1</td>\n",
              "      <td>1</td>\n",
              "      <td>1</td>\n",
              "      <td>1</td>\n",
              "      <td>1</td>\n",
              "      <td>1</td>\n",
              "      <td>1</td>\n",
              "      <td>1</td>\n",
              "      <td>1</td>\n",
              "      <td>1</td>\n",
              "      <td>1</td>\n",
              "      <td>1</td>\n",
              "      <td>1</td>\n",
              "      <td>1</td>\n",
              "      <td>1</td>\n",
              "      <td>1</td>\n",
              "      <td>1</td>\n",
              "      <td>1</td>\n",
              "      <td>1</td>\n",
              "      <td>1</td>\n",
              "      <td>1</td>\n",
              "      <td>1</td>\n",
              "      <td>1</td>\n",
              "      <td>1</td>\n",
              "      <td>1</td>\n",
              "      <td>1</td>\n",
              "      <td>0</td>\n",
              "      <td>0</td>\n",
              "      <td>0</td>\n",
              "      <td>0</td>\n",
              "      <td>0</td>\n",
              "      <td>0</td>\n",
              "      <td>0</td>\n",
              "      <td>0</td>\n",
              "      <td>0</td>\n",
              "      <td>0</td>\n",
              "      <td>0</td>\n",
              "      <td>0</td>\n",
              "      <td>0</td>\n",
              "      <td>0</td>\n",
              "      <td>0</td>\n",
              "    </tr>\n",
              "    <tr>\n",
              "      <th>1006</th>\n",
              "      <td>0</td>\n",
              "      <td>0</td>\n",
              "      <td>0</td>\n",
              "      <td>1</td>\n",
              "      <td>1</td>\n",
              "      <td>1</td>\n",
              "      <td>0</td>\n",
              "      <td>0</td>\n",
              "      <td>0</td>\n",
              "      <td>1</td>\n",
              "      <td>0</td>\n",
              "      <td>0</td>\n",
              "      <td>1</td>\n",
              "      <td>0</td>\n",
              "      <td>0</td>\n",
              "      <td>1</td>\n",
              "      <td>0</td>\n",
              "      <td>0</td>\n",
              "      <td>0</td>\n",
              "      <td>1</td>\n",
              "      <td>1</td>\n",
              "      <td>1</td>\n",
              "      <td>1</td>\n",
              "      <td>1</td>\n",
              "      <td>1</td>\n",
              "      <td>1</td>\n",
              "      <td>1</td>\n",
              "      <td>0</td>\n",
              "      <td>0</td>\n",
              "      <td>1</td>\n",
              "      <td>1</td>\n",
              "      <td>1</td>\n",
              "      <td>1</td>\n",
              "      <td>1</td>\n",
              "      <td>1</td>\n",
              "      <td>0</td>\n",
              "      <td>0</td>\n",
              "      <td>0</td>\n",
              "      <td>0</td>\n",
              "      <td>1</td>\n",
              "      <td>1</td>\n",
              "      <td>1</td>\n",
              "      <td>1</td>\n",
              "      <td>1</td>\n",
              "      <td>1</td>\n",
              "      <td>0</td>\n",
              "      <td>0</td>\n",
              "      <td>0</td>\n",
              "      <td>0</td>\n",
              "      <td>0</td>\n",
              "      <td>0</td>\n",
              "      <td>0</td>\n",
              "      <td>0</td>\n",
              "      <td>0</td>\n",
              "      <td>0</td>\n",
              "      <td>0</td>\n",
              "      <td>1</td>\n",
              "      <td>0</td>\n",
              "      <td>0</td>\n",
              "      <td>0</td>\n",
              "    </tr>\n",
              "    <tr>\n",
              "      <th>13232</th>\n",
              "      <td>0</td>\n",
              "      <td>0</td>\n",
              "      <td>0</td>\n",
              "      <td>1</td>\n",
              "      <td>1</td>\n",
              "      <td>1</td>\n",
              "      <td>1</td>\n",
              "      <td>0</td>\n",
              "      <td>0</td>\n",
              "      <td>1</td>\n",
              "      <td>0</td>\n",
              "      <td>0</td>\n",
              "      <td>0</td>\n",
              "      <td>0</td>\n",
              "      <td>0</td>\n",
              "      <td>1</td>\n",
              "      <td>1</td>\n",
              "      <td>0</td>\n",
              "      <td>0</td>\n",
              "      <td>1</td>\n",
              "      <td>1</td>\n",
              "      <td>1</td>\n",
              "      <td>1</td>\n",
              "      <td>1</td>\n",
              "      <td>1</td>\n",
              "      <td>1</td>\n",
              "      <td>1</td>\n",
              "      <td>0</td>\n",
              "      <td>0</td>\n",
              "      <td>1</td>\n",
              "      <td>1</td>\n",
              "      <td>1</td>\n",
              "      <td>1</td>\n",
              "      <td>1</td>\n",
              "      <td>1</td>\n",
              "      <td>1</td>\n",
              "      <td>1</td>\n",
              "      <td>0</td>\n",
              "      <td>0</td>\n",
              "      <td>1</td>\n",
              "      <td>1</td>\n",
              "      <td>1</td>\n",
              "      <td>1</td>\n",
              "      <td>1</td>\n",
              "      <td>1</td>\n",
              "      <td>0</td>\n",
              "      <td>0</td>\n",
              "      <td>0</td>\n",
              "      <td>0</td>\n",
              "      <td>0</td>\n",
              "      <td>0</td>\n",
              "      <td>0</td>\n",
              "      <td>0</td>\n",
              "      <td>0</td>\n",
              "      <td>0</td>\n",
              "      <td>0</td>\n",
              "      <td>1</td>\n",
              "      <td>0</td>\n",
              "      <td>0</td>\n",
              "      <td>0</td>\n",
              "    </tr>\n",
              "  </tbody>\n",
              "</table>\n",
              "</div>"
            ],
            "text/plain": [
              "       0   1   3   5   6   7   8   9   10  ...  54  55  56  57  58  59  60  62  63\n",
              "13118   0   0   1   1   1   1   0   0   0  ...   0   0   0   0   0   0   0   0   0\n",
              "7212    0   0   0   1   1   1   0   0   0  ...   0   0   0   0   0   0   0   0   0\n",
              "4542    0   0   0   1   1   1   0   0   0  ...   0   0   0   0   0   0   0   0   0\n",
              "1006    0   0   0   1   1   1   0   0   0  ...   0   0   0   0   0   1   0   0   0\n",
              "13232   0   0   0   1   1   1   1   0   0  ...   0   0   0   0   0   1   0   0   0\n",
              "\n",
              "[5 rows x 60 columns]"
            ]
          },
          "metadata": {
            "tags": []
          },
          "execution_count": 21
        }
      ]
    },
    {
      "cell_type": "markdown",
      "metadata": {
        "id": "5NzrKi7fLsxP",
        "colab_type": "text"
      },
      "source": [
        "#### Information Gain"
      ]
    },
    {
      "cell_type": "code",
      "metadata": {
        "id": "xHfJMSIVxSPU",
        "colab_type": "code",
        "outputId": "9ece797a-cfbe-48b9-d62f-0ac71bee3507",
        "colab": {
          "base_uri": "https://localhost:8080/",
          "height": 272
        }
      },
      "source": [
        "from sklearn.feature_selection import mutual_info_classif\n",
        "drop_cols = []\n",
        "for i, e in zip(df_discrete.columns, mutual_info_classif(df_discrete, y, discrete_features=True)):\n",
        "  if e < 0.0001:\n",
        "    print(f'{i:^3}|{e:>8.4f}')\n",
        "    drop_cols.append(i)"
      ],
      "execution_count": 0,
      "outputs": [
        {
          "output_type": "stream",
          "text": [
            " 7 |  0.0000\n",
            "10 |  0.0000\n",
            "12 |  0.0000\n",
            "13 |  0.0000\n",
            "15 |  0.0000\n",
            "16 |  0.0000\n",
            "20 |  0.0001\n",
            "30 |  0.0000\n",
            "33 |  0.0000\n",
            "40 |  0.0000\n",
            "48 |  0.0000\n",
            "49 |  0.0001\n",
            "60 |  0.0001\n",
            "63 |  0.0001\n"
          ],
          "name": "stdout"
        }
      ]
    },
    {
      "cell_type": "code",
      "metadata": {
        "id": "ClA6jqxN6WEW",
        "colab_type": "code",
        "outputId": "0be42456-eadb-42b0-ce45-abee1fb3f692",
        "colab": {
          "base_uri": "https://localhost:8080/",
          "height": 35
        }
      },
      "source": [
        "drop_cols"
      ],
      "execution_count": 0,
      "outputs": [
        {
          "output_type": "execute_result",
          "data": {
            "text/plain": [
              "[7, 10, 12, 13, 15, 16, 20, 30, 33, 40, 48, 49, 60, 63]"
            ]
          },
          "metadata": {
            "tags": []
          },
          "execution_count": 23
        }
      ]
    },
    {
      "cell_type": "code",
      "metadata": {
        "id": "E-Sw4dA3E8TI",
        "colab_type": "code",
        "outputId": "7beb31ba-3ee7-4549-d884-d43ea8bfe6c2",
        "colab": {
          "base_uri": "https://localhost:8080/",
          "height": 218
        }
      },
      "source": [
        "# new_cols = [df_discrete.columns[x] for x in entropy_threshold]\n",
        "df_discrete_entropy = df_discrete.copy().drop(drop_cols, axis=1)\n",
        "df_discrete_entropy.head()"
      ],
      "execution_count": 0,
      "outputs": [
        {
          "output_type": "execute_result",
          "data": {
            "text/html": [
              "<div>\n",
              "<style scoped>\n",
              "    .dataframe tbody tr th:only-of-type {\n",
              "        vertical-align: middle;\n",
              "    }\n",
              "\n",
              "    .dataframe tbody tr th {\n",
              "        vertical-align: top;\n",
              "    }\n",
              "\n",
              "    .dataframe thead th {\n",
              "        text-align: right;\n",
              "    }\n",
              "</style>\n",
              "<table border=\"1\" class=\"dataframe\">\n",
              "  <thead>\n",
              "    <tr style=\"text-align: right;\">\n",
              "      <th></th>\n",
              "      <th>0</th>\n",
              "      <th>1</th>\n",
              "      <th>3</th>\n",
              "      <th>5</th>\n",
              "      <th>6</th>\n",
              "      <th>8</th>\n",
              "      <th>9</th>\n",
              "      <th>11</th>\n",
              "      <th>14</th>\n",
              "      <th>17</th>\n",
              "      <th>18</th>\n",
              "      <th>19</th>\n",
              "      <th>21</th>\n",
              "      <th>22</th>\n",
              "      <th>23</th>\n",
              "      <th>24</th>\n",
              "      <th>25</th>\n",
              "      <th>26</th>\n",
              "      <th>27</th>\n",
              "      <th>28</th>\n",
              "      <th>29</th>\n",
              "      <th>31</th>\n",
              "      <th>32</th>\n",
              "      <th>34</th>\n",
              "      <th>35</th>\n",
              "      <th>36</th>\n",
              "      <th>37</th>\n",
              "      <th>38</th>\n",
              "      <th>39</th>\n",
              "      <th>41</th>\n",
              "      <th>42</th>\n",
              "      <th>43</th>\n",
              "      <th>44</th>\n",
              "      <th>45</th>\n",
              "      <th>46</th>\n",
              "      <th>50</th>\n",
              "      <th>51</th>\n",
              "      <th>52</th>\n",
              "      <th>53</th>\n",
              "      <th>54</th>\n",
              "      <th>55</th>\n",
              "      <th>56</th>\n",
              "      <th>57</th>\n",
              "      <th>58</th>\n",
              "      <th>59</th>\n",
              "      <th>62</th>\n",
              "    </tr>\n",
              "  </thead>\n",
              "  <tbody>\n",
              "    <tr>\n",
              "      <th>13118</th>\n",
              "      <td>0</td>\n",
              "      <td>0</td>\n",
              "      <td>1</td>\n",
              "      <td>1</td>\n",
              "      <td>1</td>\n",
              "      <td>0</td>\n",
              "      <td>0</td>\n",
              "      <td>0</td>\n",
              "      <td>1</td>\n",
              "      <td>1</td>\n",
              "      <td>1</td>\n",
              "      <td>0</td>\n",
              "      <td>1</td>\n",
              "      <td>1</td>\n",
              "      <td>1</td>\n",
              "      <td>1</td>\n",
              "      <td>1</td>\n",
              "      <td>1</td>\n",
              "      <td>1</td>\n",
              "      <td>1</td>\n",
              "      <td>0</td>\n",
              "      <td>1</td>\n",
              "      <td>1</td>\n",
              "      <td>1</td>\n",
              "      <td>1</td>\n",
              "      <td>1</td>\n",
              "      <td>1</td>\n",
              "      <td>1</td>\n",
              "      <td>0</td>\n",
              "      <td>1</td>\n",
              "      <td>1</td>\n",
              "      <td>1</td>\n",
              "      <td>1</td>\n",
              "      <td>1</td>\n",
              "      <td>1</td>\n",
              "      <td>0</td>\n",
              "      <td>0</td>\n",
              "      <td>0</td>\n",
              "      <td>0</td>\n",
              "      <td>0</td>\n",
              "      <td>0</td>\n",
              "      <td>0</td>\n",
              "      <td>0</td>\n",
              "      <td>0</td>\n",
              "      <td>0</td>\n",
              "      <td>0</td>\n",
              "    </tr>\n",
              "    <tr>\n",
              "      <th>7212</th>\n",
              "      <td>0</td>\n",
              "      <td>0</td>\n",
              "      <td>0</td>\n",
              "      <td>1</td>\n",
              "      <td>1</td>\n",
              "      <td>0</td>\n",
              "      <td>0</td>\n",
              "      <td>0</td>\n",
              "      <td>0</td>\n",
              "      <td>0</td>\n",
              "      <td>1</td>\n",
              "      <td>0</td>\n",
              "      <td>0</td>\n",
              "      <td>1</td>\n",
              "      <td>0</td>\n",
              "      <td>0</td>\n",
              "      <td>1</td>\n",
              "      <td>1</td>\n",
              "      <td>1</td>\n",
              "      <td>1</td>\n",
              "      <td>0</td>\n",
              "      <td>1</td>\n",
              "      <td>1</td>\n",
              "      <td>1</td>\n",
              "      <td>1</td>\n",
              "      <td>1</td>\n",
              "      <td>1</td>\n",
              "      <td>1</td>\n",
              "      <td>0</td>\n",
              "      <td>1</td>\n",
              "      <td>1</td>\n",
              "      <td>1</td>\n",
              "      <td>1</td>\n",
              "      <td>1</td>\n",
              "      <td>1</td>\n",
              "      <td>0</td>\n",
              "      <td>0</td>\n",
              "      <td>0</td>\n",
              "      <td>0</td>\n",
              "      <td>0</td>\n",
              "      <td>0</td>\n",
              "      <td>0</td>\n",
              "      <td>0</td>\n",
              "      <td>0</td>\n",
              "      <td>0</td>\n",
              "      <td>0</td>\n",
              "    </tr>\n",
              "    <tr>\n",
              "      <th>4542</th>\n",
              "      <td>0</td>\n",
              "      <td>0</td>\n",
              "      <td>0</td>\n",
              "      <td>1</td>\n",
              "      <td>1</td>\n",
              "      <td>0</td>\n",
              "      <td>0</td>\n",
              "      <td>1</td>\n",
              "      <td>0</td>\n",
              "      <td>0</td>\n",
              "      <td>1</td>\n",
              "      <td>0</td>\n",
              "      <td>1</td>\n",
              "      <td>1</td>\n",
              "      <td>1</td>\n",
              "      <td>1</td>\n",
              "      <td>1</td>\n",
              "      <td>1</td>\n",
              "      <td>1</td>\n",
              "      <td>1</td>\n",
              "      <td>1</td>\n",
              "      <td>1</td>\n",
              "      <td>1</td>\n",
              "      <td>1</td>\n",
              "      <td>1</td>\n",
              "      <td>1</td>\n",
              "      <td>1</td>\n",
              "      <td>1</td>\n",
              "      <td>1</td>\n",
              "      <td>1</td>\n",
              "      <td>1</td>\n",
              "      <td>1</td>\n",
              "      <td>1</td>\n",
              "      <td>1</td>\n",
              "      <td>1</td>\n",
              "      <td>0</td>\n",
              "      <td>0</td>\n",
              "      <td>0</td>\n",
              "      <td>0</td>\n",
              "      <td>0</td>\n",
              "      <td>0</td>\n",
              "      <td>0</td>\n",
              "      <td>0</td>\n",
              "      <td>0</td>\n",
              "      <td>0</td>\n",
              "      <td>0</td>\n",
              "    </tr>\n",
              "    <tr>\n",
              "      <th>1006</th>\n",
              "      <td>0</td>\n",
              "      <td>0</td>\n",
              "      <td>0</td>\n",
              "      <td>1</td>\n",
              "      <td>1</td>\n",
              "      <td>0</td>\n",
              "      <td>0</td>\n",
              "      <td>1</td>\n",
              "      <td>1</td>\n",
              "      <td>1</td>\n",
              "      <td>0</td>\n",
              "      <td>0</td>\n",
              "      <td>1</td>\n",
              "      <td>1</td>\n",
              "      <td>1</td>\n",
              "      <td>1</td>\n",
              "      <td>1</td>\n",
              "      <td>1</td>\n",
              "      <td>1</td>\n",
              "      <td>1</td>\n",
              "      <td>0</td>\n",
              "      <td>1</td>\n",
              "      <td>1</td>\n",
              "      <td>1</td>\n",
              "      <td>1</td>\n",
              "      <td>1</td>\n",
              "      <td>0</td>\n",
              "      <td>0</td>\n",
              "      <td>0</td>\n",
              "      <td>1</td>\n",
              "      <td>1</td>\n",
              "      <td>1</td>\n",
              "      <td>1</td>\n",
              "      <td>1</td>\n",
              "      <td>1</td>\n",
              "      <td>0</td>\n",
              "      <td>0</td>\n",
              "      <td>0</td>\n",
              "      <td>0</td>\n",
              "      <td>0</td>\n",
              "      <td>0</td>\n",
              "      <td>0</td>\n",
              "      <td>0</td>\n",
              "      <td>0</td>\n",
              "      <td>1</td>\n",
              "      <td>0</td>\n",
              "    </tr>\n",
              "    <tr>\n",
              "      <th>13232</th>\n",
              "      <td>0</td>\n",
              "      <td>0</td>\n",
              "      <td>0</td>\n",
              "      <td>1</td>\n",
              "      <td>1</td>\n",
              "      <td>1</td>\n",
              "      <td>0</td>\n",
              "      <td>1</td>\n",
              "      <td>0</td>\n",
              "      <td>1</td>\n",
              "      <td>1</td>\n",
              "      <td>0</td>\n",
              "      <td>1</td>\n",
              "      <td>1</td>\n",
              "      <td>1</td>\n",
              "      <td>1</td>\n",
              "      <td>1</td>\n",
              "      <td>1</td>\n",
              "      <td>1</td>\n",
              "      <td>1</td>\n",
              "      <td>0</td>\n",
              "      <td>1</td>\n",
              "      <td>1</td>\n",
              "      <td>1</td>\n",
              "      <td>1</td>\n",
              "      <td>1</td>\n",
              "      <td>1</td>\n",
              "      <td>1</td>\n",
              "      <td>0</td>\n",
              "      <td>1</td>\n",
              "      <td>1</td>\n",
              "      <td>1</td>\n",
              "      <td>1</td>\n",
              "      <td>1</td>\n",
              "      <td>1</td>\n",
              "      <td>0</td>\n",
              "      <td>0</td>\n",
              "      <td>0</td>\n",
              "      <td>0</td>\n",
              "      <td>0</td>\n",
              "      <td>0</td>\n",
              "      <td>0</td>\n",
              "      <td>0</td>\n",
              "      <td>0</td>\n",
              "      <td>1</td>\n",
              "      <td>0</td>\n",
              "    </tr>\n",
              "  </tbody>\n",
              "</table>\n",
              "</div>"
            ],
            "text/plain": [
              "       0   1   3   5   6   8   9   11  14  ...  52  53  54  55  56  57  58  59  62\n",
              "13118   0   0   1   1   1   0   0   0   1  ...   0   0   0   0   0   0   0   0   0\n",
              "7212    0   0   0   1   1   0   0   0   0  ...   0   0   0   0   0   0   0   0   0\n",
              "4542    0   0   0   1   1   0   0   1   0  ...   0   0   0   0   0   0   0   0   0\n",
              "1006    0   0   0   1   1   0   0   1   1  ...   0   0   0   0   0   0   0   1   0\n",
              "13232   0   0   0   1   1   1   0   1   0  ...   0   0   0   0   0   0   0   1   0\n",
              "\n",
              "[5 rows x 46 columns]"
            ]
          },
          "metadata": {
            "tags": []
          },
          "execution_count": 24
        }
      ]
    },
    {
      "cell_type": "markdown",
      "metadata": {
        "id": "wCKnmgY1Xp6H",
        "colab_type": "text"
      },
      "source": [
        "#### Dimension Reduction\n",
        "Although I have conducted entropy to filter down columns, there are still too many features. Therefore I decide to conduct dimension reduction."
      ]
    },
    {
      "cell_type": "markdown",
      "metadata": {
        "id": "2Uzik_XWKGMF",
        "colab_type": "text"
      },
      "source": [
        "#####PCA\n"
      ]
    },
    {
      "cell_type": "code",
      "metadata": {
        "id": "iUgHQZFCXNOB",
        "colab_type": "code",
        "outputId": "eb11ddc8-465d-45fd-f100-b4c2a3c9f440",
        "colab": {
          "base_uri": "https://localhost:8080/",
          "height": 501
        }
      },
      "source": [
        "from sklearn.decomposition import PCA\n",
        "pca = PCA()\n",
        "T = pca.fit_transform(df_discrete_entropy)\n",
        "print(pca.explained_variance_ratio_)\n",
        "\n",
        "# def plotData(plt, data):\n",
        "#   x = [p[0] for p in data]\n",
        "#   y = [p[1] for p in data]\n",
        "#   plt.plot(x, y, '-o')\n",
        "\n",
        "# plotData(plt, list(zip(range(df_discrete_entropy.shape[1]), pca.explained_variance_ratio_)))\n",
        "# plt.xlabel(\"PC\")\n",
        "# plt.xlabel(\"Explained Variance Ratio\")\n",
        "# plt.figure(figsize = (13, 5))\n",
        "# plt.show()\n",
        "\n",
        "plt.plot(np.cumsum(pca.explained_variance_ratio_))"
      ],
      "execution_count": 0,
      "outputs": [
        {
          "output_type": "stream",
          "text": [
            "[3.13815062e-01 2.25306350e-01 7.88839427e-02 5.91695262e-02\n",
            " 5.09654767e-02 3.98766538e-02 3.14796893e-02 2.73787920e-02\n",
            " 1.99620738e-02 1.79119207e-02 1.46989494e-02 1.39303872e-02\n",
            " 1.30692111e-02 1.15178423e-02 9.92319057e-03 9.65441590e-03\n",
            " 8.86999374e-03 8.10398199e-03 7.24605242e-03 5.67002418e-03\n",
            " 4.45770265e-03 3.95583562e-03 3.39767288e-03 2.75889822e-03\n",
            " 2.29992492e-03 2.19975661e-03 1.75143566e-03 1.36819250e-03\n",
            " 1.23231746e-03 1.18956151e-03 1.09933949e-03 1.06138311e-03\n",
            " 8.66194186e-04 8.19872121e-04 7.54493322e-04 5.06445788e-04\n",
            " 4.93238669e-04 4.87886841e-04 4.68465792e-04 3.49810553e-04\n",
            " 2.58747874e-04 2.18367169e-04 2.07076405e-04 1.94725094e-04\n",
            " 1.35099445e-04 3.40207252e-05]\n"
          ],
          "name": "stdout"
        },
        {
          "output_type": "execute_result",
          "data": {
            "text/plain": [
              "[<matplotlib.lines.Line2D at 0x7fe96d979ac8>]"
            ]
          },
          "metadata": {
            "tags": []
          },
          "execution_count": 25
        },
        {
          "output_type": "display_data",
          "data": {
            "image/png": "[encoded data removed]",
            "text/plain": [
              "<Figure size 432x288 with 1 Axes>"
            ]
          },
          "metadata": {
            "tags": [],
            "needs_background": "light"
          }
        }
      ]
    },
    {
      "cell_type": "code",
      "metadata": {
        "id": "R6jzAZTPt64A",
        "colab_type": "code",
        "outputId": "d7bddfe8-7fef-4961-c1d6-227307e17b20",
        "colab": {
          "base_uri": "https://localhost:8080/",
          "height": 406
        }
      },
      "source": [
        "plt.figure(figsize=(8,6))\n",
        "plt.scatter(T[:, 0],T[:, 1], c=y, cmap=plt.cm.get_cmap('tab20c', 10)) \n",
        "plt.xlabel('PC1')\n",
        "plt.ylabel('PC2')"
      ],
      "execution_count": 0,
      "outputs": [
        {
          "output_type": "execute_result",
          "data": {
            "text/plain": [
              "Text(0, 0.5, 'PC2')"
            ]
          },
          "metadata": {
            "tags": []
          },
          "execution_count": 26
        },
        {
          "output_type": "display_data",
          "data": {
            "image/png": "[encoded data removed]",
            "text/plain": [
              "<Figure size 576x432 with 1 Axes>"
            ]
          },
          "metadata": {
            "tags": [],
            "needs_background": "light"
          }
        }
      ]
    },
    {
      "cell_type": "code",
      "metadata": {
        "id": "GCRjvuwZt6zf",
        "colab_type": "code",
        "outputId": "c857a65b-008f-4e11-d936-01d3554d61fe",
        "colab": {
          "base_uri": "https://localhost:8080/",
          "height": 391
        }
      },
      "source": [
        "# add 3rd dimension\n",
        "from mpl_toolkits.mplot3d import Axes3D\n",
        "fig = plt.figure(1, figsize=(6, 5))\n",
        "plt.clf()\n",
        "ax = Axes3D(fig, rect=[0, 0, .95, 1], elev=48, azim=134)\n",
        "\n",
        "plt.cla()\n",
        "ax.scatter(T[:, 0], T[:, 1], T[:, 2], c=y, cmap=plt.cm.get_cmap('tab20c', 10))\n",
        "plt.show()"
      ],
      "execution_count": 0,
      "outputs": [
        {
          "output_type": "display_data",
          "data": {
            "image/png": "[encoded data removed]",
            "text/plain": [
              "<Figure size 432x360 with 1 Axes>"
            ]
          },
          "metadata": {
            "tags": [],
            "needs_background": "light"
          }
        }
      ]
    },
    {
      "cell_type": "markdown",
      "metadata": {
        "id": "Ij6eovBTVyMF",
        "colab_type": "text"
      },
      "source": [
        "##### LDA\n",
        "However, the separability seems not quite good, so I decide to use LDA"
      ]
    },
    {
      "cell_type": "code",
      "metadata": {
        "id": "7JLuHdPkVx-5",
        "colab_type": "code",
        "colab": {}
      },
      "source": [
        "from sklearn.discriminant_analysis import LinearDiscriminantAnalysis\n",
        "lda = LinearDiscriminantAnalysis()\n",
        "X_lda = lda.fit_transform(T[:, :10], y)"
      ],
      "execution_count": 0,
      "outputs": []
    },
    {
      "cell_type": "code",
      "metadata": {
        "id": "lhNC5cdjivfk",
        "colab_type": "code",
        "outputId": "d555f849-4616-45b1-808b-a1ffd022e8bd",
        "colab": {
          "base_uri": "https://localhost:8080/",
          "height": 35
        }
      },
      "source": [
        "lda.explained_variance_ratio_"
      ],
      "execution_count": 0,
      "outputs": [
        {
          "output_type": "execute_result",
          "data": {
            "text/plain": [
              "array([1.])"
            ]
          },
          "metadata": {
            "tags": []
          },
          "execution_count": 29
        }
      ]
    },
    {
      "cell_type": "code",
      "metadata": {
        "id": "FMApYFuuXv3t",
        "colab_type": "code",
        "outputId": "b77fb8f7-a324-4a1b-c793-7c62f1e0a128",
        "colab": {
          "base_uri": "https://localhost:8080/",
          "height": 297
        }
      },
      "source": [
        "plt.xlabel('LD')\n",
        "plt.ylabel('y')\n",
        "plt.scatter(\n",
        "    X_lda,\n",
        "    y,\n",
        "    c=y,\n",
        "    cmap='rainbow',\n",
        "    alpha=0.7,\n",
        "    edgecolors='b'\n",
        ")"
      ],
      "execution_count": 0,
      "outputs": [
        {
          "output_type": "execute_result",
          "data": {
            "text/plain": [
              "<matplotlib.collections.PathCollection at 0x7fe96f4ad668>"
            ]
          },
          "metadata": {
            "tags": []
          },
          "execution_count": 30
        },
        {
          "output_type": "display_data",
          "data": {
            "image/png": "[encoded data removed]",
            "text/plain": [
              "<Figure size 432x288 with 1 Axes>"
            ]
          },
          "metadata": {
            "tags": [],
            "needs_background": "light"
          }
        }
      ]
    },
    {
      "cell_type": "markdown",
      "metadata": {
        "id": "oBY8H4-fAEOs",
        "colab_type": "text"
      },
      "source": [
        "##### T-SNE\n",
        "https://mropengate.blogspot.com/2019/06/t-sne.html"
      ]
    },
    {
      "cell_type": "code",
      "metadata": {
        "id": "JEX790wnANQ-",
        "colab_type": "code",
        "outputId": "d5ffce1b-3ad5-4caa-c672-fa5316febc43",
        "colab": {
          "base_uri": "https://localhost:8080/",
          "height": 35
        }
      },
      "source": [
        "# X: df_discrete_entropy\n",
        "from sklearn.manifold import TSNE\n",
        "X_embedded = TSNE().fit_transform(df_discrete_entropy)\n",
        "X_embedded.shape"
      ],
      "execution_count": 0,
      "outputs": [
        {
          "output_type": "execute_result",
          "data": {
            "text/plain": [
              "(23960, 2)"
            ]
          },
          "metadata": {
            "tags": []
          },
          "execution_count": 31
        }
      ]
    },
    {
      "cell_type": "markdown",
      "metadata": {
        "id": "rrZCcAahRSSh",
        "colab_type": "text"
      },
      "source": [
        "### Train Test Split\n",
        "I decide to choose PCA result and consider 5 components"
      ]
    },
    {
      "cell_type": "code",
      "metadata": {
        "id": "KhJJK5WR3LdX",
        "colab_type": "code",
        "colab": {}
      },
      "source": [
        "from sklearn.model_selection import train_test_split\n",
        "X_train, X_test, y_train, y_test = train_test_split(T[:, :4], y, test_size=0.33, random_state=42)\n",
        "X_train_embedded, X_test_embedded, y_train_embedded, y_test_embedded = train_test_split(X_embedded, y, test_size=0.33, random_state=42)\n",
        "X_train_lda, X_test_lda, y_train_lda, y_test_lda = train_test_split(X_lda, y, test_size=0.33, random_state=42)\n"
      ],
      "execution_count": 0,
      "outputs": []
    },
    {
      "cell_type": "markdown",
      "metadata": {
        "id": "Jwe-dxeSnnrZ",
        "colab_type": "text"
      },
      "source": [
        "## Model\n",
        "SVM, Decision Tree, Random Forest, Logistic Regression\n",
        "\n",
        "Neural Network\n",
        "\n",
        "CNN"
      ]
    },
    {
      "cell_type": "markdown",
      "metadata": {
        "id": "Yy2BFBHDoPKi",
        "colab_type": "text"
      },
      "source": [
        "### SVM"
      ]
    },
    {
      "cell_type": "code",
      "metadata": {
        "id": "5NpEFfP0lAMT",
        "colab_type": "code",
        "outputId": "9fc1d5ba-197b-4b8e-fe81-40def0a3e7b6",
        "colab": {
          "base_uri": "https://localhost:8080/",
          "height": 90
        }
      },
      "source": [
        "from sklearn import svm\n",
        "svm_ = svm.SVC()\n",
        "svm_.fit(X_train, y_train)"
      ],
      "execution_count": 0,
      "outputs": [
        {
          "output_type": "execute_result",
          "data": {
            "text/plain": [
              "SVC(C=1.0, break_ties=False, cache_size=200, class_weight=None, coef0=0.0,\n",
              "    decision_function_shape='ovr', degree=3, gamma='scale', kernel='rbf',\n",
              "    max_iter=-1, probability=False, random_state=None, shrinking=True,\n",
              "    tol=0.001, verbose=False)"
            ]
          },
          "metadata": {
            "tags": []
          },
          "execution_count": 33
        }
      ]
    },
    {
      "cell_type": "code",
      "metadata": {
        "id": "w6kvWYIyRd2B",
        "colab_type": "code",
        "outputId": "ae01da80-7750-40b4-f634-6fec19087d6e",
        "colab": {
          "base_uri": "https://localhost:8080/",
          "height": 90
        }
      },
      "source": [
        "svm_lda = svm.SVC()\n",
        "svm_lda.fit(X_train_lda, y_train_lda)"
      ],
      "execution_count": 0,
      "outputs": [
        {
          "output_type": "execute_result",
          "data": {
            "text/plain": [
              "SVC(C=1.0, break_ties=False, cache_size=200, class_weight=None, coef0=0.0,\n",
              "    decision_function_shape='ovr', degree=3, gamma='scale', kernel='rbf',\n",
              "    max_iter=-1, probability=False, random_state=None, shrinking=True,\n",
              "    tol=0.001, verbose=False)"
            ]
          },
          "metadata": {
            "tags": []
          },
          "execution_count": 34
        }
      ]
    },
    {
      "cell_type": "code",
      "metadata": {
        "id": "WAjdk6XgJGxi",
        "colab_type": "code",
        "outputId": "ecd5c456-943c-46cf-884d-787e6adb0e24",
        "colab": {
          "base_uri": "https://localhost:8080/",
          "height": 90
        }
      },
      "source": [
        "svm_tsne = svm.SVC()\n",
        "svm_tsne.fit(X_train_embedded, y_train_embedded)"
      ],
      "execution_count": 0,
      "outputs": [
        {
          "output_type": "execute_result",
          "data": {
            "text/plain": [
              "SVC(C=1.0, break_ties=False, cache_size=200, class_weight=None, coef0=0.0,\n",
              "    decision_function_shape='ovr', degree=3, gamma='scale', kernel='rbf',\n",
              "    max_iter=-1, probability=False, random_state=None, shrinking=True,\n",
              "    tol=0.001, verbose=False)"
            ]
          },
          "metadata": {
            "tags": []
          },
          "execution_count": 35
        }
      ]
    },
    {
      "cell_type": "markdown",
      "metadata": {
        "id": "pGb1z7wxovwp",
        "colab_type": "text"
      },
      "source": [
        "### Decision Tree"
      ]
    },
    {
      "cell_type": "code",
      "metadata": {
        "id": "4PDP6nNxpEgx",
        "colab_type": "code",
        "outputId": "c1ee2bd1-10c9-413b-c168-439cf0bf702a",
        "colab": {
          "base_uri": "https://localhost:8080/",
          "height": 126
        }
      },
      "source": [
        "from sklearn import tree\n",
        "dt = tree.DecisionTreeClassifier(max_depth = 5)\n",
        "dt.fit(X_train, y_train)"
      ],
      "execution_count": 0,
      "outputs": [
        {
          "output_type": "execute_result",
          "data": {
            "text/plain": [
              "DecisionTreeClassifier(ccp_alpha=0.0, class_weight=None, criterion='gini',\n",
              "                       max_depth=5, max_features=None, max_leaf_nodes=None,\n",
              "                       min_impurity_decrease=0.0, min_impurity_split=None,\n",
              "                       min_samples_leaf=1, min_samples_split=2,\n",
              "                       min_weight_fraction_leaf=0.0, presort='deprecated',\n",
              "                       random_state=None, splitter='best')"
            ]
          },
          "metadata": {
            "tags": []
          },
          "execution_count": 36
        }
      ]
    },
    {
      "cell_type": "code",
      "metadata": {
        "id": "fuAFvDSFRgNj",
        "colab_type": "code",
        "outputId": "103383d4-90bd-48b5-c065-5acbf6666233",
        "colab": {
          "base_uri": "https://localhost:8080/",
          "height": 126
        }
      },
      "source": [
        "dt_lda = tree.DecisionTreeClassifier(max_depth = 5)\n",
        "dt_lda.fit(X_train_lda, y_train_lda)"
      ],
      "execution_count": 0,
      "outputs": [
        {
          "output_type": "execute_result",
          "data": {
            "text/plain": [
              "DecisionTreeClassifier(ccp_alpha=0.0, class_weight=None, criterion='gini',\n",
              "                       max_depth=5, max_features=None, max_leaf_nodes=None,\n",
              "                       min_impurity_decrease=0.0, min_impurity_split=None,\n",
              "                       min_samples_leaf=1, min_samples_split=2,\n",
              "                       min_weight_fraction_leaf=0.0, presort='deprecated',\n",
              "                       random_state=None, splitter='best')"
            ]
          },
          "metadata": {
            "tags": []
          },
          "execution_count": 37
        }
      ]
    },
    {
      "cell_type": "code",
      "metadata": {
        "id": "yAfKiGYHJO--",
        "colab_type": "code",
        "outputId": "22b449b3-4e58-40b2-9dae-9e5f666c355b",
        "colab": {
          "base_uri": "https://localhost:8080/",
          "height": 126
        }
      },
      "source": [
        "dt_tsne = tree.DecisionTreeClassifier(max_depth = 5)\n",
        "dt_tsne.fit(X_train_embedded, y_train_embedded)"
      ],
      "execution_count": 0,
      "outputs": [
        {
          "output_type": "execute_result",
          "data": {
            "text/plain": [
              "DecisionTreeClassifier(ccp_alpha=0.0, class_weight=None, criterion='gini',\n",
              "                       max_depth=5, max_features=None, max_leaf_nodes=None,\n",
              "                       min_impurity_decrease=0.0, min_impurity_split=None,\n",
              "                       min_samples_leaf=1, min_samples_split=2,\n",
              "                       min_weight_fraction_leaf=0.0, presort='deprecated',\n",
              "                       random_state=None, splitter='best')"
            ]
          },
          "metadata": {
            "tags": []
          },
          "execution_count": 38
        }
      ]
    },
    {
      "cell_type": "markdown",
      "metadata": {
        "id": "4uGMvSnioztx",
        "colab_type": "text"
      },
      "source": [
        "### Logistic Regression"
      ]
    },
    {
      "cell_type": "code",
      "metadata": {
        "id": "iHTcgVSWpE7x",
        "colab_type": "code",
        "colab": {}
      },
      "source": [
        "from sklearn.linear_model import LogisticRegression\n",
        "lr = LogisticRegression(random_state=0).fit(X_train, y_train)"
      ],
      "execution_count": 0,
      "outputs": []
    },
    {
      "cell_type": "code",
      "metadata": {
        "id": "LU8hWAe5RiBe",
        "colab_type": "code",
        "colab": {}
      },
      "source": [
        "lr_lda = LogisticRegression(random_state=0).fit(X_train_lda, y_train_lda)"
      ],
      "execution_count": 0,
      "outputs": []
    },
    {
      "cell_type": "code",
      "metadata": {
        "id": "hLsUS8ujJTjn",
        "colab_type": "code",
        "colab": {}
      },
      "source": [
        "lr_tsne = LogisticRegression(random_state=0).fit(X_train_embedded, y_train_embedded)"
      ],
      "execution_count": 0,
      "outputs": []
    },
    {
      "cell_type": "markdown",
      "metadata": {
        "id": "idr9iOj_pFTx",
        "colab_type": "text"
      },
      "source": [
        "### Neural Network"
      ]
    },
    {
      "cell_type": "code",
      "metadata": {
        "id": "3fM2ORRRpJEx",
        "colab_type": "code",
        "outputId": "a0875bbf-efc9-4e2e-e591-9dd5af168fe6",
        "colab": {
          "base_uri": "https://localhost:8080/",
          "height": 1000
        }
      },
      "source": [
        "import tensorflow as tf\n",
        "from tensorflow import keras\n",
        "from tensorflow.keras.layers import Conv2D, MaxPooling2D, Dropout, Flatten, Dense\n",
        "model = keras.Sequential([\n",
        "    Dense(20, activation=tf.nn.relu, input_shape=[len(X_train[0])]),\n",
        "    Dense(50, activation=tf.nn.relu),\n",
        "    Dense(50, activation=tf.nn.relu),\n",
        "    Dense(50, activation=tf.nn.relu),\n",
        "    Dropout(0.25),\n",
        "    Dense(50, activation=tf.nn.relu),\n",
        "    Dense(50, activation=tf.nn.relu),\n",
        "    Dense(20, activation=tf.nn.relu),\n",
        "    Dense(1)\n",
        "])\n",
        "model.compile(optimizer='adam', loss='mse', metrics=['mse', 'accuracy'])\n",
        "# model.summary()\n",
        "early_stop = keras.callbacks.EarlyStopping(monitor='val_loss', patience=50) #防止接近最低點時的左右振盪\n",
        "model.fit(X_train, y_train, epochs=100, verbose=2, validation_split = 0.1,\n",
        "                    callbacks=early_stop) #callback: 每輪(epoch)做完要做的事"
      ],
      "execution_count": 0,
      "outputs": [
        {
          "output_type": "stream",
          "text": [
            "Epoch 1/100\n",
            "452/452 - 1s - loss: 0.2134 - mse: 0.2134 - accuracy: 0.6689 - val_loss: 0.1944 - val_mse: 0.1944 - val_accuracy: 0.7067\n",
            "Epoch 2/100\n",
            "452/452 - 1s - loss: 0.1960 - mse: 0.1960 - accuracy: 0.7035 - val_loss: 0.1903 - val_mse: 0.1903 - val_accuracy: 0.7204\n",
            "Epoch 3/100\n",
            "452/452 - 1s - loss: 0.1926 - mse: 0.1926 - accuracy: 0.7121 - val_loss: 0.1887 - val_mse: 0.1887 - val_accuracy: 0.7192\n",
            "Epoch 4/100\n",
            "452/452 - 1s - loss: 0.1887 - mse: 0.1887 - accuracy: 0.7174 - val_loss: 0.1810 - val_mse: 0.1810 - val_accuracy: 0.7279\n",
            "Epoch 5/100\n",
            "452/452 - 1s - loss: 0.1867 - mse: 0.1867 - accuracy: 0.7213 - val_loss: 0.1830 - val_mse: 0.1830 - val_accuracy: 0.7217\n",
            "Epoch 6/100\n",
            "452/452 - 1s - loss: 0.1856 - mse: 0.1856 - accuracy: 0.7206 - val_loss: 0.1835 - val_mse: 0.1835 - val_accuracy: 0.7291\n",
            "Epoch 7/100\n",
            "452/452 - 1s - loss: 0.1852 - mse: 0.1852 - accuracy: 0.7240 - val_loss: 0.1791 - val_mse: 0.1791 - val_accuracy: 0.7323\n",
            "Epoch 8/100\n",
            "452/452 - 1s - loss: 0.1768 - mse: 0.1768 - accuracy: 0.7357 - val_loss: 0.1735 - val_mse: 0.1735 - val_accuracy: 0.7472\n",
            "Epoch 19/100\n",
            "452/452 - 1s - loss: 0.1763 - mse: 0.1763 - accuracy: 0.7377 - val_loss: 0.1724 - val_mse: 0.1724 - val_accuracy: 0.7491\n",
            "Epoch 20/100\n",
            "452/452 - 1s - loss: 0.1749 - mse: 0.1749 - accuracy: 0.7388 - val_loss: 0.1770 - val_mse: 0.1770 - val_accuracy: 0.7360\n",
            "Epoch 21/100\n",
            "452/452 - 1s - loss: 0.1751 - mse: 0.1751 - accuracy: 0.7390 - val_loss: 0.1704 - val_mse: 0.1704 - val_accuracy: 0.7466\n",
            "Epoch 22/100\n",
            "452/452 - 1s - loss: 0.1748 - mse: 0.1748 - accuracy: 0.7383 - val_loss: 0.1716 - val_mse: 0.1716 - val_accuracy: 0.7391\n",
            "Epoch 23/100\n",
            "452/452 - 1s - loss: 0.1768 - mse: 0.1768 - accuracy: 0.7369 - val_loss: 0.1764 - val_mse: 0.1764 - val_accuracy: 0.7372\n",
            "Epoch 24/100\n",
            "452/452 - 1s - loss: 0.1780 - mse: 0.1780 - accuracy: 0.7339 - val_loss: 0.1771 - val_mse: 0.1771 - val_accuracy: 0.7316\n",
            "Epoch 25/100\n",
            "452/452 - 1s - loss: 0.1769 - mse: 0.1769 - accuracy: 0.7352 - val_loss: 0.1744 - val_mse: 0.1744 - val_accuracy: 0.7422\n",
            "Epoch 26/100\n",
            "452/452 - 1s - loss: 0.1770 - mse: 0.1770 - accuracy: 0.7374 - val_loss: 0.1739 - val_mse: 0.1739 - val_accuracy: 0.7379\n",
            "Epoch 27/100\n",
            "452/452 - 1s - loss: 0.1767 - mse: 0.1767 - accuracy: 0.7365 - val_loss: 0.1731 - val_mse: 0.1731 - val_accuracy: 0.7403\n",
            "Epoch 28/100\n",
            "452/452 - 1s - loss: 0.1764 - mse: 0.1764 - accuracy: 0.7348 - val_loss: 0.1721 - val_mse: 0.1721 - val_accuracy: 0.7484\n",
            "Epoch 29/100\n",
            "452/452 - 1s - loss: 0.1747 - mse: 0.1747 - accuracy: 0.7401 - val_loss: 0.1785 - val_mse: 0.1785 - val_accuracy: 0.7304\n",
            "Epoch 30/100\n",
            "452/452 - 1s - loss: 0.1764 - mse: 0.1764 - accuracy: 0.7340 - val_loss: 0.1782 - val_mse: 0.1782 - val_accuracy: 0.7360\n",
            "Epoch 31/100\n",
            "452/452 - 1s - loss: 0.1745 - mse: 0.1745 - accuracy: 0.7417 - val_loss: 0.1750 - val_mse: 0.1750 - val_accuracy: 0.7460\n",
            "Epoch 32/100\n",
            "452/452 - 1s - loss: 0.1740 - mse: 0.1740 - accuracy: 0.7390 - val_loss: 0.1745 - val_mse: 0.1745 - val_accuracy: 0.7466\n",
            "Epoch 33/100\n",
            "452/452 - 1s - loss: 0.1739 - mse: 0.1739 - accuracy: 0.7406 - val_loss: 0.1710 - val_mse: 0.1710 - val_accuracy: 0.7435\n",
            "Epoch 34/100\n",
            "452/452 - 1s - loss: 0.1733 - mse: 0.1733 - accuracy: 0.7399 - val_loss: 0.1702 - val_mse: 0.1702 - val_accuracy: 0.7447\n",
            "Epoch 35/100\n",
            "452/452 - 1s - loss: 0.1732 - mse: 0.1732 - accuracy: 0.7418 - val_loss: 0.1704 - val_mse: 0.1704 - val_accuracy: 0.7478\n",
            "Epoch 36/100\n",
            "452/452 - 1s - loss: 0.1726 - mse: 0.1726 - accuracy: 0.7402 - val_loss: 0.1691 - val_mse: 0.1691 - val_accuracy: 0.7503\n",
            "Epoch 37/100\n",
            "452/452 - 1s - loss: 0.1714 - mse: 0.1714 - accuracy: 0.7437 - val_loss: 0.1703 - val_mse: 0.1703 - val_accuracy: 0.7509\n",
            "Epoch 38/100\n",
            "452/452 - 1s - loss: 0.1720 - mse: 0.1720 - accuracy: 0.7440 - val_loss: 0.1741 - val_mse: 0.1741 - val_accuracy: 0.7428\n",
            "Epoch 39/100\n",
            "452/452 - 1s - loss: 0.1741 - mse: 0.1741 - accuracy: 0.7376 - val_loss: 0.1704 - val_mse: 0.1704 - val_accuracy: 0.7472\n",
            "Epoch 40/100\n",
            "452/452 - 1s - loss: 0.1745 - mse: 0.1745 - accuracy: 0.7391 - val_loss: 0.1726 - val_mse: 0.1726 - val_accuracy: 0.7460\n",
            "Epoch 41/100\n",
            "452/452 - 1s - loss: 0.1755 - mse: 0.1755 - accuracy: 0.7384 - val_loss: 0.1711 - val_mse: 0.1711 - val_accuracy: 0.7460\n",
            "Epoch 42/100\n",
            "452/452 - 1s - loss: 0.1746 - mse: 0.1746 - accuracy: 0.7366 - val_loss: 0.1709 - val_mse: 0.1709 - val_accuracy: 0.7466\n",
            "Epoch 43/100\n",
            "452/452 - 1s - loss: 0.1726 - mse: 0.1726 - accuracy: 0.7432 - val_loss: 0.1725 - val_mse: 0.1725 - val_accuracy: 0.7466\n",
            "Epoch 44/100\n",
            "452/452 - 1s - loss: 0.1709 - mse: 0.1709 - accuracy: 0.7436 - val_loss: 0.1694 - val_mse: 0.1694 - val_accuracy: 0.7484\n",
            "Epoch 45/100\n",
            "452/452 - 1s - loss: 0.1723 - mse: 0.1723 - accuracy: 0.7422 - val_loss: 0.1709 - val_mse: 0.1709 - val_accuracy: 0.7509\n",
            "Epoch 46/100\n",
            "452/452 - 1s - loss: 0.1719 - mse: 0.1719 - accuracy: 0.7438 - val_loss: 0.1698 - val_mse: 0.1698 - val_accuracy: 0.7497\n",
            "Epoch 47/100\n",
            "452/452 - 1s - loss: 0.1719 - mse: 0.1719 - accuracy: 0.7448 - val_loss: 0.1708 - val_mse: 0.1708 - val_accuracy: 0.7435\n",
            "Epoch 48/100\n",
            "452/452 - 1s - loss: 0.1706 - mse: 0.1706 - accuracy: 0.7462 - val_loss: 0.1702 - val_mse: 0.1702 - val_accuracy: 0.7435\n",
            "Epoch 49/100\n",
            "452/452 - 1s - loss: 0.1705 - mse: 0.1705 - accuracy: 0.7431 - val_loss: 0.1692 - val_mse: 0.1692 - val_accuracy: 0.7497\n",
            "Epoch 50/100\n",
            "452/452 - 1s - loss: 0.1711 - mse: 0.1711 - accuracy: 0.7444 - val_loss: 0.1687 - val_mse: 0.1687 - val_accuracy: 0.7416\n",
            "Epoch 51/100\n",
            "452/452 - 1s - loss: 0.1706 - mse: 0.1706 - accuracy: 0.7449 - val_loss: 0.1682 - val_mse: 0.1682 - val_accuracy: 0.7484\n",
            "Epoch 52/100\n",
            "452/452 - 1s - loss: 0.1701 - mse: 0.1701 - accuracy: 0.7467 - val_loss: 0.1704 - val_mse: 0.1704 - val_accuracy: 0.7522\n",
            "Epoch 53/100\n",
            "452/452 - 1s - loss: 0.1704 - mse: 0.1704 - accuracy: 0.7467 - val_loss: 0.1690 - val_mse: 0.1690 - val_accuracy: 0.7516\n",
            "Epoch 54/100\n",
            "452/452 - 1s - loss: 0.1696 - mse: 0.1696 - accuracy: 0.7469 - val_loss: 0.1701 - val_mse: 0.1701 - val_accuracy: 0.7478\n",
            "Epoch 55/100\n",
            "452/452 - 1s - loss: 0.1711 - mse: 0.1711 - accuracy: 0.7437 - val_loss: 0.1706 - val_mse: 0.1706 - val_accuracy: 0.7516\n",
            "Epoch 56/100\n",
            "452/452 - 1s - loss: 0.1708 - mse: 0.1708 - accuracy: 0.7444 - val_loss: 0.1659 - val_mse: 0.1659 - val_accuracy: 0.7528\n",
            "Epoch 57/100\n",
            "452/452 - 1s - loss: 0.1698 - mse: 0.1698 - accuracy: 0.7462 - val_loss: 0.1684 - val_mse: 0.1684 - val_accuracy: 0.7379\n",
            "Epoch 58/100\n",
            "452/452 - 1s - loss: 0.1700 - mse: 0.1700 - accuracy: 0.7408 - val_loss: 0.1677 - val_mse: 0.1677 - val_accuracy: 0.7491\n",
            "Epoch 59/100\n",
            "452/452 - 1s - loss: 0.1703 - mse: 0.1703 - accuracy: 0.7435 - val_loss: 0.1691 - val_mse: 0.1691 - val_accuracy: 0.7466\n",
            "Epoch 60/100\n",
            "452/452 - 1s - loss: 0.1700 - mse: 0.1700 - accuracy: 0.7451 - val_loss: 0.1718 - val_mse: 0.1718 - val_accuracy: 0.7460\n",
            "Epoch 61/100\n",
            "452/452 - 1s - loss: 0.1691 - mse: 0.1691 - accuracy: 0.7470 - val_loss: 0.1689 - val_mse: 0.1689 - val_accuracy: 0.7403\n",
            "Epoch 62/100\n",
            "452/452 - 1s - loss: 0.1700 - mse: 0.1700 - accuracy: 0.7470 - val_loss: 0.1689 - val_mse: 0.1689 - val_accuracy: 0.7447\n",
            "Epoch 63/100\n",
            "452/452 - 1s - loss: 0.1684 - mse: 0.1684 - accuracy: 0.7455 - val_loss: 0.1683 - val_mse: 0.1683 - val_accuracy: 0.7428\n",
            "Epoch 64/100\n",
            "452/452 - 1s - loss: 0.1684 - mse: 0.1684 - accuracy: 0.7464 - val_loss: 0.1718 - val_mse: 0.1718 - val_accuracy: 0.7491\n",
            "Epoch 65/100\n",
            "452/452 - 1s - loss: 0.1681 - mse: 0.1681 - accuracy: 0.7466 - val_loss: 0.1676 - val_mse: 0.1676 - val_accuracy: 0.7522\n",
            "Epoch 66/100\n",
            "452/452 - 1s - loss: 0.1721 - mse: 0.1721 - accuracy: 0.7417 - val_loss: 0.1705 - val_mse: 0.1705 - val_accuracy: 0.7453\n",
            "Epoch 67/100\n",
            "452/452 - 1s - loss: 0.1702 - mse: 0.1702 - accuracy: 0.7440 - val_loss: 0.1680 - val_mse: 0.1680 - val_accuracy: 0.7497\n",
            "Epoch 68/100\n",
            "452/452 - 1s - loss: 0.1698 - mse: 0.1698 - accuracy: 0.7456 - val_loss: 0.1706 - val_mse: 0.1706 - val_accuracy: 0.7435\n",
            "Epoch 69/100\n",
            "452/452 - 1s - loss: 0.1680 - mse: 0.1680 - accuracy: 0.7467 - val_loss: 0.1667 - val_mse: 0.1667 - val_accuracy: 0.7416\n",
            "Epoch 70/100\n",
            "452/452 - 1s - loss: 0.1683 - mse: 0.1683 - accuracy: 0.7454 - val_loss: 0.1685 - val_mse: 0.1685 - val_accuracy: 0.7472\n",
            "Epoch 71/100\n",
            "452/452 - 1s - loss: 0.1683 - mse: 0.1683 - accuracy: 0.7474 - val_loss: 0.1654 - val_mse: 0.1654 - val_accuracy: 0.7503\n",
            "Epoch 72/100\n",
            "452/452 - 1s - loss: 0.1687 - mse: 0.1687 - accuracy: 0.7459 - val_loss: 0.1667 - val_mse: 0.1667 - val_accuracy: 0.7484\n",
            "Epoch 73/100\n",
            "452/452 - 1s - loss: 0.1679 - mse: 0.1679 - accuracy: 0.7461 - val_loss: 0.1671 - val_mse: 0.1671 - val_accuracy: 0.7435\n",
            "Epoch 74/100\n",
            "452/452 - 1s - loss: 0.1675 - mse: 0.1675 - accuracy: 0.7482 - val_loss: 0.1696 - val_mse: 0.1696 - val_accuracy: 0.7522\n",
            "Epoch 75/100\n",
            "452/452 - 1s - loss: 0.1673 - mse: 0.1673 - accuracy: 0.7485 - val_loss: 0.1689 - val_mse: 0.1689 - val_accuracy: 0.7478\n",
            "Epoch 76/100\n",
            "452/452 - 1s - loss: 0.1689 - mse: 0.1689 - accuracy: 0.7431 - val_loss: 0.1678 - val_mse: 0.1678 - val_accuracy: 0.7472\n",
            "Epoch 77/100\n",
            "452/452 - 1s - loss: 0.1676 - mse: 0.1676 - accuracy: 0.7476 - val_loss: 0.1688 - val_mse: 0.1688 - val_accuracy: 0.7472\n",
            "Epoch 78/100\n",
            "452/452 - 1s - loss: 0.1680 - mse: 0.1680 - accuracy: 0.7458 - val_loss: 0.1694 - val_mse: 0.1694 - val_accuracy: 0.7497\n",
            "Epoch 79/100\n",
            "452/452 - 1s - loss: 0.1665 - mse: 0.1665 - accuracy: 0.7494 - val_loss: 0.1673 - val_mse: 0.1673 - val_accuracy: 0.7553\n",
            "Epoch 80/100\n",
            "452/452 - 1s - loss: 0.1666 - mse: 0.1666 - accuracy: 0.7507 - val_loss: 0.1679 - val_mse: 0.1679 - val_accuracy: 0.7522\n",
            "Epoch 81/100\n",
            "452/452 - 1s - loss: 0.1675 - mse: 0.1675 - accuracy: 0.7494 - val_loss: 0.1671 - val_mse: 0.1671 - val_accuracy: 0.7528\n",
            "Epoch 82/100\n",
            "452/452 - 1s - loss: 0.1662 - mse: 0.1662 - accuracy: 0.7512 - val_loss: 0.1672 - val_mse: 0.1672 - val_accuracy: 0.7528\n",
            "Epoch 83/100\n",
            "452/452 - 1s - loss: 0.1665 - mse: 0.1665 - accuracy: 0.7487 - val_loss: 0.1663 - val_mse: 0.1663 - val_accuracy: 0.7441\n",
            "Epoch 84/100\n",
            "452/452 - 1s - loss: 0.1676 - mse: 0.1676 - accuracy: 0.7441 - val_loss: 0.1664 - val_mse: 0.1664 - val_accuracy: 0.7428\n",
            "Epoch 85/100\n",
            "452/452 - 1s - loss: 0.1664 - mse: 0.1664 - accuracy: 0.7488 - val_loss: 0.1693 - val_mse: 0.1693 - val_accuracy: 0.7466\n",
            "Epoch 86/100\n",
            "452/452 - 1s - loss: 0.1674 - mse: 0.1674 - accuracy: 0.7467 - val_loss: 0.1662 - val_mse: 0.1662 - val_accuracy: 0.7509\n",
            "Epoch 87/100\n",
            "452/452 - 1s - loss: 0.1656 - mse: 0.1656 - accuracy: 0.7521 - val_loss: 0.1676 - val_mse: 0.1676 - val_accuracy: 0.7540\n",
            "Epoch 88/100\n",
            "452/452 - 1s - loss: 0.1668 - mse: 0.1668 - accuracy: 0.7500 - val_loss: 0.1658 - val_mse: 0.1658 - val_accuracy: 0.7528\n",
            "Epoch 89/100\n",
            "452/452 - 1s - loss: 0.1680 - mse: 0.1680 - accuracy: 0.7496 - val_loss: 0.1753 - val_mse: 0.1753 - val_accuracy: 0.7416\n",
            "Epoch 90/100\n",
            "452/452 - 1s - loss: 0.1685 - mse: 0.1685 - accuracy: 0.7451 - val_loss: 0.1669 - val_mse: 0.1669 - val_accuracy: 0.7534\n",
            "Epoch 91/100\n",
            "452/452 - 1s - loss: 0.1649 - mse: 0.1649 - accuracy: 0.7539 - val_loss: 0.1670 - val_mse: 0.1670 - val_accuracy: 0.7553\n",
            "Epoch 92/100\n",
            "452/452 - 1s - loss: 0.1656 - mse: 0.1656 - accuracy: 0.7521 - val_loss: 0.1669 - val_mse: 0.1669 - val_accuracy: 0.7559\n",
            "Epoch 93/100\n",
            "452/452 - 1s - loss: 0.1659 - mse: 0.1659 - accuracy: 0.7475 - val_loss: 0.1670 - val_mse: 0.1670 - val_accuracy: 0.7472\n",
            "Epoch 94/100\n",
            "452/452 - 1s - loss: 0.1657 - mse: 0.1657 - accuracy: 0.7511 - val_loss: 0.1661 - val_mse: 0.1661 - val_accuracy: 0.7553\n",
            "Epoch 95/100\n",
            "452/452 - 1s - loss: 0.1687 - mse: 0.1687 - accuracy: 0.7470 - val_loss: 0.1673 - val_mse: 0.1673 - val_accuracy: 0.7509\n",
            "Epoch 96/100\n",
            "452/452 - 1s - loss: 0.1663 - mse: 0.1663 - accuracy: 0.7489 - val_loss: 0.1675 - val_mse: 0.1675 - val_accuracy: 0.7528\n",
            "Epoch 97/100\n",
            "452/452 - 1s - loss: 0.1666 - mse: 0.1666 - accuracy: 0.7489 - val_loss: 0.1658 - val_mse: 0.1658 - val_accuracy: 0.7497\n",
            "Epoch 98/100\n",
            "452/452 - 1s - loss: 0.1654 - mse: 0.1654 - accuracy: 0.7501 - val_loss: 0.1670 - val_mse: 0.1670 - val_accuracy: 0.7534\n",
            "Epoch 99/100\n",
            "452/452 - 1s - loss: 0.1666 - mse: 0.1666 - accuracy: 0.7494 - val_loss: 0.1682 - val_mse: 0.1682 - val_accuracy: 0.7503\n",
            "Epoch 100/100\n",
            "452/452 - 1s - loss: 0.1677 - mse: 0.1677 - accuracy: 0.7452 - val_loss: 0.1657 - val_mse: 0.1657 - val_accuracy: 0.7516\n"
          ],
          "name": "stdout"
        },
        {
          "output_type": "execute_result",
          "data": {
            "text/plain": [
              "<tensorflow.python.keras.callbacks.History at 0x7fe970c9e668>"
            ]
          },
          "metadata": {
            "tags": []
          },
          "execution_count": 42
        }
      ]
    },
    {
      "cell_type": "code",
      "metadata": {
        "id": "C6t7thwG7mnb",
        "colab_type": "code",
        "colab": {}
      },
      "source": [
        "y_pred_nn = list(map(lambda x: 0 if x < 0.5 else 1, model.predict(X_test)))"
      ],
      "execution_count": 0,
      "outputs": []
    },
    {
      "cell_type": "code",
      "metadata": {
        "id": "-HURehE6RlTA",
        "colab_type": "code",
        "outputId": "ff9b5421-c17a-4eda-e41d-1d9f6b553886",
        "colab": {
          "base_uri": "https://localhost:8080/",
          "height": 1000
        }
      },
      "source": [
        "import tensorflow as tf\n",
        "from tensorflow import keras\n",
        "from tensorflow.keras.layers import Conv2D, MaxPooling2D, Dropout, Flatten, Dense\n",
        "model_lda = keras.Sequential([\n",
        "    Dense(50, activation=tf.nn.relu, input_shape=(1, 1)),\n",
        "    Dense(50, activation=tf.nn.relu),\n",
        "    Dense(50, activation=tf.nn.relu),\n",
        "    Dense(50, activation=tf.nn.relu),\n",
        "    Dropout(0.25),\n",
        "    Dense(50, activation=tf.nn.relu),\n",
        "    Dense(50, activation=tf.nn.relu),\n",
        "    Dense(20, activation=tf.nn.relu),\n",
        "    Dense(1)\n",
        "])\n",
        "model_lda.compile(optimizer='adam', loss='mse', metrics=['accuracy'])\n",
        "model_lda.fit(X_train_lda, y_train_lda, epochs=100, verbose=2, validation_split = 0.1,\n",
        "                    callbacks=early_stop)\n",
        "y_pred_nn_lda = list(map(lambda x: 0 if x < 0.5 else 1, model_lda.predict(X_test_lda)))"
      ],
      "execution_count": 0,
      "outputs": [
        {
          "output_type": "stream",
          "text": [
            "Epoch 1/100\n",
            "452/452 - 1s - loss: 0.2008 - accuracy: 0.6961 - val_loss: 0.1886 - val_accuracy: 0.6974\n",
            "Epoch 2/100\n",
            "452/452 - 1s - loss: 0.1924 - accuracy: 0.7069 - val_loss: 0.1888 - val_accuracy: 0.7049\n",
            "Epoch 3/100\n",
            "452/452 - 1s - loss: 0.1915 - accuracy: 0.7071 - val_loss: 0.1917 - val_accuracy: 0.7061\n",
            "Epoch 4/100\n",
            "452/452 - 1s - loss: 0.1907 - accuracy: 0.7112 - val_loss: 0.1896 - val_accuracy: 0.7167\n",
            "Epoch 5/100\n",
            "452/452 - 1s - loss: 0.1905 - accuracy: 0.7119 - val_loss: 0.1889 - val_accuracy: 0.7210\n",
            "Epoch 6/100\n",
            "452/452 - 1s - loss: 0.1898 - accuracy: 0.7113 - val_loss: 0.1881 - val_accuracy: 0.7049\n",
            "Epoch 7/100\n",
            "452/452 - 1s - loss: 0.1892 - accuracy: 0.7104 - val_loss: 0.1876 - val_accuracy: 0.7073\n",
            "Epoch 8/100\n",
            "452/452 - 1s - loss: 0.1894 - accuracy: 0.7104 - val_loss: 0.1874 - val_accuracy: 0.7117\n",
            "Epoch 9/100\n",
            "452/452 - 1s - loss: 0.1885 - accuracy: 0.7124 - val_loss: 0.1869 - val_accuracy: 0.7186\n",
            "Epoch 10/100\n",
            "452/452 - 1s - loss: 0.1892 - accuracy: 0.7125 - val_loss: 0.1876 - val_accuracy: 0.7161\n",
            "Epoch 11/100\n",
            "452/452 - 1s - loss: 0.1883 - accuracy: 0.7085 - val_loss: 0.1865 - val_accuracy: 0.7123\n",
            "Epoch 12/100\n",
            "452/452 - 1s - loss: 0.1886 - accuracy: 0.7118 - val_loss: 0.1859 - val_accuracy: 0.7192\n",
            "Epoch 13/100\n",
            "452/452 - 1s - loss: 0.1880 - accuracy: 0.7134 - val_loss: 0.1873 - val_accuracy: 0.7105\n",
            "Epoch 14/100\n",
            "452/452 - 1s - loss: 0.1877 - accuracy: 0.7114 - val_loss: 0.1855 - val_accuracy: 0.7055\n",
            "Epoch 15/100\n",
            "452/452 - 1s - loss: 0.1880 - accuracy: 0.7111 - val_loss: 0.1889 - val_accuracy: 0.7098\n",
            "Epoch 16/100\n",
            "452/452 - 1s - loss: 0.1875 - accuracy: 0.7147 - val_loss: 0.1872 - val_accuracy: 0.7142\n",
            "Epoch 17/100\n",
            "452/452 - 1s - loss: 0.1872 - accuracy: 0.7134 - val_loss: 0.1871 - val_accuracy: 0.7055\n",
            "Epoch 18/100\n",
            "452/452 - 1s - loss: 0.1872 - accuracy: 0.7161 - val_loss: 0.1855 - val_accuracy: 0.7148\n",
            "Epoch 19/100\n",
            "452/452 - 1s - loss: 0.1873 - accuracy: 0.7102 - val_loss: 0.1879 - val_accuracy: 0.7098\n",
            "Epoch 20/100\n",
            "452/452 - 1s - loss: 0.1874 - accuracy: 0.7123 - val_loss: 0.1867 - val_accuracy: 0.7167\n",
            "Epoch 21/100\n",
            "452/452 - 1s - loss: 0.1871 - accuracy: 0.7134 - val_loss: 0.1874 - val_accuracy: 0.7198\n",
            "Epoch 22/100\n",
            "452/452 - 1s - loss: 0.1872 - accuracy: 0.7065 - val_loss: 0.1864 - val_accuracy: 0.7117\n",
            "Epoch 23/100\n",
            "452/452 - 1s - loss: 0.1868 - accuracy: 0.7132 - val_loss: 0.1849 - val_accuracy: 0.7136\n",
            "Epoch 24/100\n",
            "452/452 - 1s - loss: 0.1869 - accuracy: 0.7103 - val_loss: 0.1864 - val_accuracy: 0.7086\n",
            "Epoch 25/100\n",
            "452/452 - 1s - loss: 0.1870 - accuracy: 0.7148 - val_loss: 0.1878 - val_accuracy: 0.7167\n",
            "Epoch 26/100\n",
            "452/452 - 1s - loss: 0.1871 - accuracy: 0.7123 - val_loss: 0.1883 - val_accuracy: 0.7167\n",
            "Epoch 27/100\n",
            "452/452 - 1s - loss: 0.1870 - accuracy: 0.7114 - val_loss: 0.1874 - val_accuracy: 0.7049\n",
            "Epoch 28/100\n",
            "452/452 - 1s - loss: 0.1863 - accuracy: 0.7139 - val_loss: 0.1856 - val_accuracy: 0.7223\n",
            "Epoch 29/100\n",
            "452/452 - 1s - loss: 0.1864 - accuracy: 0.7120 - val_loss: 0.1857 - val_accuracy: 0.7154\n",
            "Epoch 30/100\n",
            "452/452 - 1s - loss: 0.1864 - accuracy: 0.7119 - val_loss: 0.1857 - val_accuracy: 0.7098\n",
            "Epoch 31/100\n",
            "452/452 - 1s - loss: 0.1868 - accuracy: 0.7126 - val_loss: 0.1863 - val_accuracy: 0.7186\n",
            "Epoch 32/100\n",
            "452/452 - 1s - loss: 0.1867 - accuracy: 0.7130 - val_loss: 0.1866 - val_accuracy: 0.7186\n",
            "Epoch 33/100\n",
            "452/452 - 1s - loss: 0.1868 - accuracy: 0.7127 - val_loss: 0.1855 - val_accuracy: 0.7111\n",
            "Epoch 34/100\n",
            "452/452 - 1s - loss: 0.1866 - accuracy: 0.7123 - val_loss: 0.1849 - val_accuracy: 0.7073\n",
            "Epoch 35/100\n",
            "452/452 - 1s - loss: 0.1867 - accuracy: 0.7130 - val_loss: 0.1855 - val_accuracy: 0.7136\n",
            "Epoch 36/100\n",
            "452/452 - 1s - loss: 0.1866 - accuracy: 0.7122 - val_loss: 0.1858 - val_accuracy: 0.7073\n",
            "Epoch 37/100\n",
            "452/452 - 1s - loss: 0.1861 - accuracy: 0.7158 - val_loss: 0.1853 - val_accuracy: 0.7167\n",
            "Epoch 38/100\n",
            "452/452 - 1s - loss: 0.1868 - accuracy: 0.7149 - val_loss: 0.1856 - val_accuracy: 0.7204\n",
            "Epoch 39/100\n",
            "452/452 - 1s - loss: 0.1863 - accuracy: 0.7128 - val_loss: 0.1865 - val_accuracy: 0.7186\n",
            "Epoch 40/100\n",
            "452/452 - 1s - loss: 0.1863 - accuracy: 0.7124 - val_loss: 0.1873 - val_accuracy: 0.7217\n",
            "Epoch 41/100\n",
            "452/452 - 1s - loss: 0.1866 - accuracy: 0.7141 - val_loss: 0.1853 - val_accuracy: 0.7111\n",
            "Epoch 42/100\n",
            "452/452 - 1s - loss: 0.1860 - accuracy: 0.7149 - val_loss: 0.1862 - val_accuracy: 0.7123\n",
            "Epoch 43/100\n",
            "452/452 - 1s - loss: 0.1866 - accuracy: 0.7122 - val_loss: 0.1861 - val_accuracy: 0.7186\n",
            "Epoch 44/100\n",
            "452/452 - 1s - loss: 0.1862 - accuracy: 0.7130 - val_loss: 0.1850 - val_accuracy: 0.7117\n",
            "Epoch 45/100\n",
            "452/452 - 1s - loss: 0.1866 - accuracy: 0.7134 - val_loss: 0.1861 - val_accuracy: 0.7154\n",
            "Epoch 46/100\n",
            "452/452 - 1s - loss: 0.1862 - accuracy: 0.7116 - val_loss: 0.1863 - val_accuracy: 0.7192\n",
            "Epoch 47/100\n",
            "452/452 - 1s - loss: 0.1860 - accuracy: 0.7152 - val_loss: 0.1859 - val_accuracy: 0.7123\n",
            "Epoch 48/100\n",
            "452/452 - 1s - loss: 0.1861 - accuracy: 0.7139 - val_loss: 0.1846 - val_accuracy: 0.7192\n",
            "Epoch 49/100\n",
            "452/452 - 1s - loss: 0.1859 - accuracy: 0.7153 - val_loss: 0.1847 - val_accuracy: 0.7130\n",
            "Epoch 50/100\n",
            "452/452 - 1s - loss: 0.1861 - accuracy: 0.7145 - val_loss: 0.1843 - val_accuracy: 0.7117\n",
            "Epoch 51/100\n",
            "452/452 - 1s - loss: 0.1864 - accuracy: 0.7139 - val_loss: 0.1857 - val_accuracy: 0.7123\n",
            "Epoch 52/100\n",
            "452/452 - 1s - loss: 0.1859 - accuracy: 0.7128 - val_loss: 0.1850 - val_accuracy: 0.7136\n",
            "Epoch 53/100\n",
            "452/452 - 1s - loss: 0.1862 - accuracy: 0.7145 - val_loss: 0.1848 - val_accuracy: 0.7105\n",
            "Epoch 54/100\n",
            "452/452 - 1s - loss: 0.1861 - accuracy: 0.7148 - val_loss: 0.1856 - val_accuracy: 0.7092\n",
            "Epoch 55/100\n",
            "452/452 - 1s - loss: 0.1860 - accuracy: 0.7119 - val_loss: 0.1855 - val_accuracy: 0.7148\n",
            "Epoch 56/100\n",
            "452/452 - 1s - loss: 0.1861 - accuracy: 0.7139 - val_loss: 0.1852 - val_accuracy: 0.7123\n",
            "Epoch 57/100\n",
            "452/452 - 1s - loss: 0.1863 - accuracy: 0.7161 - val_loss: 0.1854 - val_accuracy: 0.7167\n",
            "Epoch 58/100\n",
            "452/452 - 1s - loss: 0.1862 - accuracy: 0.7136 - val_loss: 0.1850 - val_accuracy: 0.7217\n",
            "Epoch 59/100\n",
            "452/452 - 1s - loss: 0.1856 - accuracy: 0.7144 - val_loss: 0.1855 - val_accuracy: 0.7223\n",
            "Epoch 60/100\n",
            "452/452 - 1s - loss: 0.1862 - accuracy: 0.7154 - val_loss: 0.1854 - val_accuracy: 0.7217\n",
            "Epoch 61/100\n",
            "452/452 - 1s - loss: 0.1857 - accuracy: 0.7138 - val_loss: 0.1866 - val_accuracy: 0.7130\n",
            "Epoch 62/100\n",
            "452/452 - 1s - loss: 0.1859 - accuracy: 0.7123 - val_loss: 0.1844 - val_accuracy: 0.7173\n",
            "Epoch 63/100\n",
            "452/452 - 1s - loss: 0.1858 - accuracy: 0.7136 - val_loss: 0.1853 - val_accuracy: 0.7154\n",
            "Epoch 64/100\n",
            "452/452 - 1s - loss: 0.1859 - accuracy: 0.7145 - val_loss: 0.1855 - val_accuracy: 0.7267\n",
            "Epoch 65/100\n",
            "452/452 - 1s - loss: 0.1861 - accuracy: 0.7141 - val_loss: 0.1857 - val_accuracy: 0.7142\n",
            "Epoch 66/100\n",
            "452/452 - 1s - loss: 0.1861 - accuracy: 0.7148 - val_loss: 0.1853 - val_accuracy: 0.7167\n",
            "Epoch 67/100\n",
            "452/452 - 1s - loss: 0.1861 - accuracy: 0.7142 - val_loss: 0.1871 - val_accuracy: 0.7042\n",
            "Epoch 68/100\n",
            "452/452 - 1s - loss: 0.1856 - accuracy: 0.7139 - val_loss: 0.1851 - val_accuracy: 0.7254\n",
            "Epoch 69/100\n",
            "452/452 - 1s - loss: 0.1857 - accuracy: 0.7152 - val_loss: 0.1886 - val_accuracy: 0.7061\n",
            "Epoch 70/100\n",
            "452/452 - 1s - loss: 0.1858 - accuracy: 0.7134 - val_loss: 0.1918 - val_accuracy: 0.7086\n",
            "Epoch 71/100\n",
            "452/452 - 1s - loss: 0.1857 - accuracy: 0.7161 - val_loss: 0.1857 - val_accuracy: 0.7198\n",
            "Epoch 72/100\n",
            "452/452 - 1s - loss: 0.1855 - accuracy: 0.7173 - val_loss: 0.1842 - val_accuracy: 0.7198\n",
            "Epoch 73/100\n",
            "452/452 - 1s - loss: 0.1859 - accuracy: 0.7159 - val_loss: 0.1865 - val_accuracy: 0.7067\n",
            "Epoch 74/100\n",
            "452/452 - 1s - loss: 0.1855 - accuracy: 0.7139 - val_loss: 0.1845 - val_accuracy: 0.7130\n",
            "Epoch 75/100\n",
            "452/452 - 1s - loss: 0.1863 - accuracy: 0.7150 - val_loss: 0.1863 - val_accuracy: 0.7111\n",
            "Epoch 76/100\n",
            "452/452 - 1s - loss: 0.1858 - accuracy: 0.7154 - val_loss: 0.1863 - val_accuracy: 0.7192\n",
            "Epoch 77/100\n",
            "452/452 - 1s - loss: 0.1859 - accuracy: 0.7134 - val_loss: 0.1852 - val_accuracy: 0.7198\n",
            "Epoch 78/100\n",
            "452/452 - 1s - loss: 0.1859 - accuracy: 0.7166 - val_loss: 0.1866 - val_accuracy: 0.7217\n",
            "Epoch 79/100\n",
            "452/452 - 1s - loss: 0.1857 - accuracy: 0.7148 - val_loss: 0.1848 - val_accuracy: 0.7223\n",
            "Epoch 80/100\n",
            "452/452 - 1s - loss: 0.1859 - accuracy: 0.7172 - val_loss: 0.1853 - val_accuracy: 0.7055\n",
            "Epoch 81/100\n",
            "452/452 - 1s - loss: 0.1862 - accuracy: 0.7122 - val_loss: 0.1853 - val_accuracy: 0.7161\n",
            "Epoch 82/100\n",
            "452/452 - 1s - loss: 0.1857 - accuracy: 0.7152 - val_loss: 0.1851 - val_accuracy: 0.7086\n",
            "Epoch 83/100\n",
            "452/452 - 1s - loss: 0.1860 - accuracy: 0.7139 - val_loss: 0.1863 - val_accuracy: 0.7198\n",
            "Epoch 84/100\n",
            "452/452 - 1s - loss: 0.1858 - accuracy: 0.7163 - val_loss: 0.1854 - val_accuracy: 0.7192\n",
            "Epoch 85/100\n",
            "452/452 - 1s - loss: 0.1858 - accuracy: 0.7172 - val_loss: 0.1845 - val_accuracy: 0.7167\n",
            "Epoch 86/100\n",
            "452/452 - 1s - loss: 0.1856 - accuracy: 0.7164 - val_loss: 0.1862 - val_accuracy: 0.7198\n",
            "Epoch 87/100\n",
            "452/452 - 1s - loss: 0.1858 - accuracy: 0.7150 - val_loss: 0.1855 - val_accuracy: 0.7117\n",
            "Epoch 88/100\n",
            "452/452 - 1s - loss: 0.1852 - accuracy: 0.7183 - val_loss: 0.1849 - val_accuracy: 0.7179\n",
            "Epoch 89/100\n",
            "452/452 - 1s - loss: 0.1857 - accuracy: 0.7168 - val_loss: 0.1855 - val_accuracy: 0.7105\n",
            "Epoch 90/100\n",
            "452/452 - 1s - loss: 0.1858 - accuracy: 0.7163 - val_loss: 0.1872 - val_accuracy: 0.7229\n",
            "Epoch 91/100\n",
            "452/452 - 1s - loss: 0.1856 - accuracy: 0.7172 - val_loss: 0.1862 - val_accuracy: 0.7229\n",
            "Epoch 92/100\n",
            "452/452 - 1s - loss: 0.1854 - accuracy: 0.7155 - val_loss: 0.1845 - val_accuracy: 0.7161\n",
            "Epoch 93/100\n",
            "452/452 - 1s - loss: 0.1853 - accuracy: 0.7186 - val_loss: 0.1868 - val_accuracy: 0.7098\n",
            "Epoch 94/100\n",
            "452/452 - 1s - loss: 0.1857 - accuracy: 0.7170 - val_loss: 0.1871 - val_accuracy: 0.7142\n",
            "Epoch 95/100\n",
            "452/452 - 1s - loss: 0.1852 - accuracy: 0.7166 - val_loss: 0.1890 - val_accuracy: 0.7161\n",
            "Epoch 96/100\n",
            "452/452 - 1s - loss: 0.1854 - accuracy: 0.7191 - val_loss: 0.1866 - val_accuracy: 0.7136\n",
            "Epoch 97/100\n",
            "452/452 - 1s - loss: 0.1856 - accuracy: 0.7166 - val_loss: 0.1851 - val_accuracy: 0.7217\n",
            "Epoch 98/100\n",
            "452/452 - 1s - loss: 0.1853 - accuracy: 0.7181 - val_loss: 0.1849 - val_accuracy: 0.7111\n",
            "Epoch 99/100\n",
            "452/452 - 1s - loss: 0.1857 - accuracy: 0.7140 - val_loss: 0.1848 - val_accuracy: 0.7198\n",
            "Epoch 100/100\n",
            "452/452 - 1s - loss: 0.1862 - accuracy: 0.7143 - val_loss: 0.1857 - val_accuracy: 0.7111\n"
          ],
          "name": "stdout"
        }
      ]
    },
    {
      "cell_type": "code",
      "metadata": {
        "id": "WjDRzkrI39c6",
        "colab_type": "code",
        "outputId": "d5d2b74f-3782-42b3-dd0c-f01654c8cfd0",
        "colab": {
          "base_uri": "https://localhost:8080/",
          "height": 1000
        }
      },
      "source": [
        "import tensorflow as tf\n",
        "from tensorflow import keras\n",
        "from tensorflow.keras.layers import Conv2D, MaxPooling2D, Dropout, Flatten, Dense\n",
        "model_tsne = keras.Sequential([\n",
        "    Dense(20, activation=tf.nn.relu, input_shape=[len(X_train_embedded[0])]),\n",
        "    Dense(50, activation=tf.nn.relu),\n",
        "    Dense(50, activation=tf.nn.relu),\n",
        "    Dense(50, activation=tf.nn.relu),\n",
        "    Dropout(0.25),\n",
        "    Dense(50, activation=tf.nn.relu),\n",
        "    Dense(50, activation=tf.nn.relu),\n",
        "    Dense(20, activation=tf.nn.relu),\n",
        "    Dense(1)\n",
        "])\n",
        "model_tsne.compile(optimizer='adam', loss='mse', metrics=['mse', 'accuracy'])\n",
        "\n",
        "early_stop = keras.callbacks.EarlyStopping(monitor='val_loss', patience=50)\n",
        "model_tsne.fit(X_train_embedded, y_train_embedded, epochs=100, verbose=2, validation_split = 0.1,\n",
        "                    callbacks=early_stop)"
      ],
      "execution_count": 0,
      "outputs": [
        {
          "output_type": "stream",
          "text": [
            "Epoch 1/100\n",
            "452/452 - 1s - loss: 0.2485 - mse: 0.2485 - accuracy: 0.6100 - val_loss: 0.2254 - val_mse: 0.2254 - val_accuracy: 0.6550\n",
            "Epoch 2/100\n",
            "452/452 - 1s - loss: 0.2272 - mse: 0.2272 - accuracy: 0.6473 - val_loss: 0.2182 - val_mse: 0.2182 - val_accuracy: 0.6532\n",
            "Epoch 3/100\n",
            "452/452 - 1s - loss: 0.2234 - mse: 0.2234 - accuracy: 0.6539 - val_loss: 0.2134 - val_mse: 0.2134 - val_accuracy: 0.6812\n",
            "Epoch 4/100\n",
            "452/452 - 1s - loss: 0.2186 - mse: 0.2186 - accuracy: 0.6650 - val_loss: 0.2162 - val_mse: 0.2162 - val_accuracy: 0.6687\n",
            "Epoch 5/100\n",
            "452/452 - 1s - loss: 0.2168 - mse: 0.2168 - accuracy: 0.6610 - val_loss: 0.2119 - val_mse: 0.2119 - val_accuracy: 0.6712\n",
            "Epoch 6/100\n",
            "452/452 - 1s - loss: 0.2139 - mse: 0.2139 - accuracy: 0.6673 - val_loss: 0.2068 - val_mse: 0.2068 - val_accuracy: 0.6899\n",
            "Epoch 7/100\n",
            "452/452 - 1s - loss: 0.2107 - mse: 0.2107 - accuracy: 0.6767 - val_loss: 0.2078 - val_mse: 0.2078 - val_accuracy: 0.6899\n",
            "Epoch 8/100\n",
            "452/452 - 1s - loss: 0.2096 - mse: 0.2096 - accuracy: 0.6754 - val_loss: 0.2020 - val_mse: 0.2020 - val_accuracy: 0.6968\n",
            "Epoch 9/100\n",
            "452/452 - 1s - loss: 0.2075 - mse: 0.2075 - accuracy: 0.6771 - val_loss: 0.2027 - val_mse: 0.2027 - val_accuracy: 0.6837\n",
            "Epoch 10/100\n",
            "452/452 - 1s - loss: 0.2073 - mse: 0.2073 - accuracy: 0.6776 - val_loss: 0.1984 - val_mse: 0.1984 - val_accuracy: 0.6961\n",
            "Epoch 11/100\n",
            "452/452 - 1s - loss: 0.2027 - mse: 0.2027 - accuracy: 0.6864 - val_loss: 0.1948 - val_mse: 0.1948 - val_accuracy: 0.7061\n",
            "Epoch 12/100\n",
            "452/452 - 1s - loss: 0.2027 - mse: 0.2027 - accuracy: 0.6875 - val_loss: 0.2016 - val_mse: 0.2016 - val_accuracy: 0.6849\n",
            "Epoch 13/100\n",
            "452/452 - 1s - loss: 0.2001 - mse: 0.2001 - accuracy: 0.6915 - val_loss: 0.1986 - val_mse: 0.1986 - val_accuracy: 0.7017\n",
            "Epoch 14/100\n",
            "452/452 - 1s - loss: 0.1995 - mse: 0.1995 - accuracy: 0.6911 - val_loss: 0.2037 - val_mse: 0.2037 - val_accuracy: 0.6781\n",
            "Epoch 15/100\n",
            "452/452 - 1s - loss: 0.1978 - mse: 0.1978 - accuracy: 0.6932 - val_loss: 0.2045 - val_mse: 0.2045 - val_accuracy: 0.6800\n",
            "Epoch 16/100\n",
            "452/452 - 1s - loss: 0.1963 - mse: 0.1963 - accuracy: 0.6953 - val_loss: 0.2008 - val_mse: 0.2008 - val_accuracy: 0.6899\n",
            "Epoch 17/100\n",
            "452/452 - 1s - loss: 0.1937 - mse: 0.1937 - accuracy: 0.7041 - val_loss: 0.2090 - val_mse: 0.2090 - val_accuracy: 0.6831\n",
            "Epoch 18/100\n",
            "452/452 - 1s - loss: 0.1926 - mse: 0.1926 - accuracy: 0.7069 - val_loss: 0.1935 - val_mse: 0.1935 - val_accuracy: 0.7136\n",
            "Epoch 19/100\n",
            "452/452 - 1s - loss: 0.1938 - mse: 0.1938 - accuracy: 0.7017 - val_loss: 0.2083 - val_mse: 0.2083 - val_accuracy: 0.6762\n",
            "Epoch 20/100\n",
            "452/452 - 1s - loss: 0.1935 - mse: 0.1935 - accuracy: 0.7036 - val_loss: 0.2066 - val_mse: 0.2066 - val_accuracy: 0.6793\n",
            "Epoch 21/100\n",
            "452/452 - 1s - loss: 0.1912 - mse: 0.1912 - accuracy: 0.7098 - val_loss: 0.1896 - val_mse: 0.1896 - val_accuracy: 0.7248\n",
            "Epoch 22/100\n",
            "452/452 - 1s - loss: 0.1897 - mse: 0.1897 - accuracy: 0.7066 - val_loss: 0.1990 - val_mse: 0.1990 - val_accuracy: 0.6936\n",
            "Epoch 23/100\n",
            "452/452 - 1s - loss: 0.1883 - mse: 0.1883 - accuracy: 0.7126 - val_loss: 0.2007 - val_mse: 0.2007 - val_accuracy: 0.6918\n",
            "Epoch 24/100\n",
            "452/452 - 1s - loss: 0.1877 - mse: 0.1877 - accuracy: 0.7182 - val_loss: 0.1917 - val_mse: 0.1917 - val_accuracy: 0.7086\n",
            "Epoch 25/100\n",
            "452/452 - 1s - loss: 0.1863 - mse: 0.1863 - accuracy: 0.7177 - val_loss: 0.2021 - val_mse: 0.2021 - val_accuracy: 0.6880\n",
            "Epoch 26/100\n",
            "452/452 - 1s - loss: 0.1873 - mse: 0.1873 - accuracy: 0.7161 - val_loss: 0.1966 - val_mse: 0.1966 - val_accuracy: 0.7229\n",
            "Epoch 27/100\n",
            "452/452 - 1s - loss: 0.1860 - mse: 0.1860 - accuracy: 0.7185 - val_loss: 0.2053 - val_mse: 0.2053 - val_accuracy: 0.6862\n",
            "Epoch 28/100\n",
            "452/452 - 1s - loss: 0.1857 - mse: 0.1857 - accuracy: 0.7183 - val_loss: 0.1939 - val_mse: 0.1939 - val_accuracy: 0.6993\n",
            "Epoch 29/100\n",
            "452/452 - 1s - loss: 0.1859 - mse: 0.1859 - accuracy: 0.7195 - val_loss: 0.2012 - val_mse: 0.2012 - val_accuracy: 0.6675\n",
            "Epoch 30/100\n",
            "452/452 - 1s - loss: 0.1840 - mse: 0.1840 - accuracy: 0.7253 - val_loss: 0.2049 - val_mse: 0.2049 - val_accuracy: 0.6880\n",
            "Epoch 31/100\n",
            "452/452 - 1s - loss: 0.1858 - mse: 0.1858 - accuracy: 0.7143 - val_loss: 0.2118 - val_mse: 0.2118 - val_accuracy: 0.6656\n",
            "Epoch 32/100\n",
            "452/452 - 1s - loss: 0.1845 - mse: 0.1845 - accuracy: 0.7194 - val_loss: 0.1878 - val_mse: 0.1878 - val_accuracy: 0.7273\n",
            "Epoch 33/100\n",
            "452/452 - 1s - loss: 0.1839 - mse: 0.1839 - accuracy: 0.7253 - val_loss: 0.2115 - val_mse: 0.2115 - val_accuracy: 0.6768\n",
            "Epoch 34/100\n",
            "452/452 - 1s - loss: 0.1836 - mse: 0.1836 - accuracy: 0.7255 - val_loss: 0.2016 - val_mse: 0.2016 - val_accuracy: 0.6924\n",
            "Epoch 35/100\n",
            "452/452 - 1s - loss: 0.1834 - mse: 0.1834 - accuracy: 0.7229 - val_loss: 0.2032 - val_mse: 0.2032 - val_accuracy: 0.6912\n",
            "Epoch 36/100\n",
            "452/452 - 1s - loss: 0.1828 - mse: 0.1828 - accuracy: 0.7276 - val_loss: 0.1990 - val_mse: 0.1990 - val_accuracy: 0.6800\n",
            "Epoch 37/100\n",
            "452/452 - 1s - loss: 0.1832 - mse: 0.1832 - accuracy: 0.7226 - val_loss: 0.2097 - val_mse: 0.2097 - val_accuracy: 0.6793\n",
            "Epoch 38/100\n",
            "452/452 - 1s - loss: 0.1841 - mse: 0.1841 - accuracy: 0.7206 - val_loss: 0.2011 - val_mse: 0.2011 - val_accuracy: 0.6856\n",
            "Epoch 39/100\n",
            "452/452 - 1s - loss: 0.1825 - mse: 0.1825 - accuracy: 0.7253 - val_loss: 0.1979 - val_mse: 0.1979 - val_accuracy: 0.7086\n",
            "Epoch 40/100\n",
            "452/452 - 1s - loss: 0.1817 - mse: 0.1817 - accuracy: 0.7252 - val_loss: 0.2045 - val_mse: 0.2045 - val_accuracy: 0.6619\n",
            "Epoch 41/100\n",
            "452/452 - 1s - loss: 0.1808 - mse: 0.1808 - accuracy: 0.7291 - val_loss: 0.1981 - val_mse: 0.1981 - val_accuracy: 0.6880\n",
            "Epoch 42/100\n",
            "452/452 - 1s - loss: 0.1815 - mse: 0.1815 - accuracy: 0.7308 - val_loss: 0.1866 - val_mse: 0.1866 - val_accuracy: 0.7123\n",
            "Epoch 43/100\n",
            "452/452 - 1s - loss: 0.1810 - mse: 0.1810 - accuracy: 0.7273 - val_loss: 0.2094 - val_mse: 0.2094 - val_accuracy: 0.6737\n",
            "Epoch 44/100\n",
            "452/452 - 1s - loss: 0.1819 - mse: 0.1819 - accuracy: 0.7293 - val_loss: 0.1978 - val_mse: 0.1978 - val_accuracy: 0.7080\n",
            "Epoch 45/100\n",
            "452/452 - 1s - loss: 0.1802 - mse: 0.1802 - accuracy: 0.7323 - val_loss: 0.2038 - val_mse: 0.2038 - val_accuracy: 0.6762\n",
            "Epoch 46/100\n",
            "452/452 - 1s - loss: 0.1813 - mse: 0.1813 - accuracy: 0.7254 - val_loss: 0.1982 - val_mse: 0.1982 - val_accuracy: 0.6887\n",
            "Epoch 47/100\n",
            "452/452 - 1s - loss: 0.1799 - mse: 0.1799 - accuracy: 0.7295 - val_loss: 0.2016 - val_mse: 0.2016 - val_accuracy: 0.6936\n",
            "Epoch 48/100\n",
            "452/452 - 1s - loss: 0.1803 - mse: 0.1803 - accuracy: 0.7300 - val_loss: 0.1975 - val_mse: 0.1975 - val_accuracy: 0.6856\n",
            "Epoch 49/100\n",
            "452/452 - 1s - loss: 0.1817 - mse: 0.1817 - accuracy: 0.7304 - val_loss: 0.2001 - val_mse: 0.2001 - val_accuracy: 0.6930\n",
            "Epoch 50/100\n",
            "452/452 - 1s - loss: 0.1798 - mse: 0.1798 - accuracy: 0.7324 - val_loss: 0.2071 - val_mse: 0.2071 - val_accuracy: 0.6893\n",
            "Epoch 51/100\n",
            "452/452 - 1s - loss: 0.1786 - mse: 0.1786 - accuracy: 0.7355 - val_loss: 0.1931 - val_mse: 0.1931 - val_accuracy: 0.7011\n",
            "Epoch 52/100\n",
            "452/452 - 1s - loss: 0.1781 - mse: 0.1781 - accuracy: 0.7365 - val_loss: 0.1963 - val_mse: 0.1963 - val_accuracy: 0.6918\n",
            "Epoch 53/100\n",
            "452/452 - 1s - loss: 0.1786 - mse: 0.1786 - accuracy: 0.7348 - val_loss: 0.1958 - val_mse: 0.1958 - val_accuracy: 0.7117\n",
            "Epoch 54/100\n",
            "452/452 - 1s - loss: 0.1803 - mse: 0.1803 - accuracy: 0.7307 - val_loss: 0.1917 - val_mse: 0.1917 - val_accuracy: 0.6999\n",
            "Epoch 55/100\n",
            "452/452 - 1s - loss: 0.1796 - mse: 0.1796 - accuracy: 0.7332 - val_loss: 0.1971 - val_mse: 0.1971 - val_accuracy: 0.6818\n",
            "Epoch 56/100\n",
            "452/452 - 1s - loss: 0.1775 - mse: 0.1775 - accuracy: 0.7343 - val_loss: 0.2072 - val_mse: 0.2072 - val_accuracy: 0.6743\n",
            "Epoch 57/100\n",
            "452/452 - 1s - loss: 0.1780 - mse: 0.1780 - accuracy: 0.7323 - val_loss: 0.1940 - val_mse: 0.1940 - val_accuracy: 0.6849\n",
            "Epoch 58/100\n",
            "452/452 - 1s - loss: 0.1777 - mse: 0.1777 - accuracy: 0.7350 - val_loss: 0.2051 - val_mse: 0.2051 - val_accuracy: 0.6750\n",
            "Epoch 59/100\n",
            "452/452 - 1s - loss: 0.1766 - mse: 0.1766 - accuracy: 0.7379 - val_loss: 0.2093 - val_mse: 0.2093 - val_accuracy: 0.6737\n",
            "Epoch 60/100\n",
            "452/452 - 1s - loss: 0.1795 - mse: 0.1795 - accuracy: 0.7318 - val_loss: 0.2014 - val_mse: 0.2014 - val_accuracy: 0.6930\n",
            "Epoch 61/100\n",
            "452/452 - 1s - loss: 0.1771 - mse: 0.1771 - accuracy: 0.7354 - val_loss: 0.1960 - val_mse: 0.1960 - val_accuracy: 0.6961\n",
            "Epoch 62/100\n",
            "452/452 - 1s - loss: 0.1769 - mse: 0.1769 - accuracy: 0.7370 - val_loss: 0.1891 - val_mse: 0.1891 - val_accuracy: 0.7198\n",
            "Epoch 63/100\n",
            "452/452 - 1s - loss: 0.1772 - mse: 0.1772 - accuracy: 0.7373 - val_loss: 0.2020 - val_mse: 0.2020 - val_accuracy: 0.6831\n",
            "Epoch 64/100\n",
            "452/452 - 1s - loss: 0.1785 - mse: 0.1785 - accuracy: 0.7306 - val_loss: 0.2050 - val_mse: 0.2050 - val_accuracy: 0.6719\n",
            "Epoch 65/100\n",
            "452/452 - 1s - loss: 0.1771 - mse: 0.1771 - accuracy: 0.7386 - val_loss: 0.2033 - val_mse: 0.2033 - val_accuracy: 0.6694\n",
            "Epoch 66/100\n",
            "452/452 - 1s - loss: 0.1767 - mse: 0.1767 - accuracy: 0.7373 - val_loss: 0.1977 - val_mse: 0.1977 - val_accuracy: 0.6955\n",
            "Epoch 67/100\n",
            "452/452 - 1s - loss: 0.1761 - mse: 0.1761 - accuracy: 0.7376 - val_loss: 0.2082 - val_mse: 0.2082 - val_accuracy: 0.6625\n",
            "Epoch 68/100\n",
            "452/452 - 1s - loss: 0.1771 - mse: 0.1771 - accuracy: 0.7350 - val_loss: 0.1988 - val_mse: 0.1988 - val_accuracy: 0.6831\n",
            "Epoch 69/100\n",
            "452/452 - 1s - loss: 0.1767 - mse: 0.1767 - accuracy: 0.7344 - val_loss: 0.1852 - val_mse: 0.1852 - val_accuracy: 0.7111\n",
            "Epoch 70/100\n",
            "452/452 - 1s - loss: 0.1767 - mse: 0.1767 - accuracy: 0.7348 - val_loss: 0.1747 - val_mse: 0.1747 - val_accuracy: 0.7441\n",
            "Epoch 71/100\n",
            "452/452 - 1s - loss: 0.1762 - mse: 0.1762 - accuracy: 0.7388 - val_loss: 0.1948 - val_mse: 0.1948 - val_accuracy: 0.6905\n",
            "Epoch 72/100\n",
            "452/452 - 1s - loss: 0.1750 - mse: 0.1750 - accuracy: 0.7393 - val_loss: 0.1947 - val_mse: 0.1947 - val_accuracy: 0.7017\n",
            "Epoch 73/100\n",
            "452/452 - 1s - loss: 0.1754 - mse: 0.1754 - accuracy: 0.7339 - val_loss: 0.1982 - val_mse: 0.1982 - val_accuracy: 0.6856\n",
            "Epoch 74/100\n",
            "452/452 - 1s - loss: 0.1752 - mse: 0.1752 - accuracy: 0.7372 - val_loss: 0.2051 - val_mse: 0.2051 - val_accuracy: 0.6837\n",
            "Epoch 75/100\n",
            "452/452 - 1s - loss: 0.1758 - mse: 0.1758 - accuracy: 0.7359 - val_loss: 0.1926 - val_mse: 0.1926 - val_accuracy: 0.7111\n",
            "Epoch 76/100\n",
            "452/452 - 1s - loss: 0.1786 - mse: 0.1786 - accuracy: 0.7327 - val_loss: 0.2061 - val_mse: 0.2061 - val_accuracy: 0.6874\n",
            "Epoch 77/100\n",
            "452/452 - 1s - loss: 0.1782 - mse: 0.1782 - accuracy: 0.7309 - val_loss: 0.2075 - val_mse: 0.2075 - val_accuracy: 0.6638\n",
            "Epoch 78/100\n",
            "452/452 - 1s - loss: 0.1788 - mse: 0.1788 - accuracy: 0.7305 - val_loss: 0.2008 - val_mse: 0.2008 - val_accuracy: 0.6800\n",
            "Epoch 79/100\n",
            "452/452 - 1s - loss: 0.1768 - mse: 0.1768 - accuracy: 0.7349 - val_loss: 0.2078 - val_mse: 0.2078 - val_accuracy: 0.6806\n",
            "Epoch 80/100\n",
            "452/452 - 1s - loss: 0.1756 - mse: 0.1756 - accuracy: 0.7393 - val_loss: 0.2054 - val_mse: 0.2054 - val_accuracy: 0.6762\n",
            "Epoch 81/100\n",
            "452/452 - 1s - loss: 0.1758 - mse: 0.1758 - accuracy: 0.7388 - val_loss: 0.1906 - val_mse: 0.1906 - val_accuracy: 0.7098\n",
            "Epoch 82/100\n",
            "452/452 - 1s - loss: 0.1766 - mse: 0.1766 - accuracy: 0.7357 - val_loss: 0.2017 - val_mse: 0.2017 - val_accuracy: 0.7036\n",
            "Epoch 83/100\n",
            "452/452 - 1s - loss: 0.1758 - mse: 0.1758 - accuracy: 0.7336 - val_loss: 0.1872 - val_mse: 0.1872 - val_accuracy: 0.7154\n",
            "Epoch 84/100\n",
            "452/452 - 1s - loss: 0.1762 - mse: 0.1762 - accuracy: 0.7386 - val_loss: 0.2008 - val_mse: 0.2008 - val_accuracy: 0.6856\n",
            "Epoch 85/100\n",
            "452/452 - 1s - loss: 0.1756 - mse: 0.1756 - accuracy: 0.7363 - val_loss: 0.1865 - val_mse: 0.1865 - val_accuracy: 0.7105\n",
            "Epoch 86/100\n",
            "452/452 - 1s - loss: 0.1747 - mse: 0.1747 - accuracy: 0.7370 - val_loss: 0.1949 - val_mse: 0.1949 - val_accuracy: 0.6849\n",
            "Epoch 87/100\n",
            "452/452 - 1s - loss: 0.1763 - mse: 0.1763 - accuracy: 0.7372 - val_loss: 0.2061 - val_mse: 0.2061 - val_accuracy: 0.6687\n",
            "Epoch 88/100\n",
            "452/452 - 1s - loss: 0.1754 - mse: 0.1754 - accuracy: 0.7347 - val_loss: 0.1950 - val_mse: 0.1950 - val_accuracy: 0.6993\n",
            "Epoch 89/100\n",
            "452/452 - 1s - loss: 0.1751 - mse: 0.1751 - accuracy: 0.7390 - val_loss: 0.2020 - val_mse: 0.2020 - val_accuracy: 0.6949\n",
            "Epoch 90/100\n",
            "452/452 - 1s - loss: 0.1746 - mse: 0.1746 - accuracy: 0.7396 - val_loss: 0.1852 - val_mse: 0.1852 - val_accuracy: 0.7285\n",
            "Epoch 91/100\n",
            "452/452 - 1s - loss: 0.1758 - mse: 0.1758 - accuracy: 0.7363 - val_loss: 0.1957 - val_mse: 0.1957 - val_accuracy: 0.7092\n",
            "Epoch 92/100\n",
            "452/452 - 1s - loss: 0.1751 - mse: 0.1751 - accuracy: 0.7362 - val_loss: 0.2068 - val_mse: 0.2068 - val_accuracy: 0.6750\n",
            "Epoch 93/100\n",
            "452/452 - 1s - loss: 0.1757 - mse: 0.1757 - accuracy: 0.7386 - val_loss: 0.2024 - val_mse: 0.2024 - val_accuracy: 0.6756\n",
            "Epoch 94/100\n",
            "452/452 - 1s - loss: 0.1754 - mse: 0.1754 - accuracy: 0.7384 - val_loss: 0.1874 - val_mse: 0.1874 - val_accuracy: 0.7148\n",
            "Epoch 95/100\n",
            "452/452 - 1s - loss: 0.1742 - mse: 0.1742 - accuracy: 0.7406 - val_loss: 0.1891 - val_mse: 0.1891 - val_accuracy: 0.7123\n",
            "Epoch 96/100\n",
            "452/452 - 1s - loss: 0.1742 - mse: 0.1742 - accuracy: 0.7405 - val_loss: 0.2124 - val_mse: 0.2124 - val_accuracy: 0.6694\n",
            "Epoch 97/100\n",
            "452/452 - 1s - loss: 0.1743 - mse: 0.1743 - accuracy: 0.7373 - val_loss: 0.1943 - val_mse: 0.1943 - val_accuracy: 0.6930\n",
            "Epoch 98/100\n",
            "452/452 - 1s - loss: 0.1758 - mse: 0.1758 - accuracy: 0.7344 - val_loss: 0.1815 - val_mse: 0.1815 - val_accuracy: 0.7298\n",
            "Epoch 99/100\n",
            "452/452 - 1s - loss: 0.1751 - mse: 0.1751 - accuracy: 0.7363 - val_loss: 0.2008 - val_mse: 0.2008 - val_accuracy: 0.6893\n",
            "Epoch 100/100\n",
            "452/452 - 1s - loss: 0.1743 - mse: 0.1743 - accuracy: 0.7404 - val_loss: 0.2086 - val_mse: 0.2086 - val_accuracy: 0.6793\n"
          ],
          "name": "stdout"
        },
        {
          "output_type": "execute_result",
          "data": {
            "text/plain": [
              "<tensorflow.python.keras.callbacks.History at 0x7fe91d593ac8>"
            ]
          },
          "metadata": {
            "tags": []
          },
          "execution_count": 45
        }
      ]
    },
    {
      "cell_type": "code",
      "metadata": {
        "id": "MEPup9K7JkQE",
        "colab_type": "code",
        "colab": {}
      },
      "source": [
        "y_pred_nn_embedded = list(map(lambda x: 0 if x < 0.5 else 1, model_tsne.predict(X_test_embedded)))"
      ],
      "execution_count": 0,
      "outputs": []
    },
    {
      "cell_type": "markdown",
      "metadata": {
        "id": "MuYMV-FOoeyJ",
        "colab_type": "text"
      },
      "source": [
        "## Evaluation\n",
        "cross_entropy\n",
        "\n",
        "confusion matrix"
      ]
    },
    {
      "cell_type": "markdown",
      "metadata": {
        "id": "U3RwGrQeo4Ua",
        "colab_type": "text"
      },
      "source": [
        "### Cross Entropy for each model"
      ]
    },
    {
      "cell_type": "code",
      "metadata": {
        "id": "Fvh9PJdFv8cN",
        "colab_type": "code",
        "outputId": "7118f535-69d7-463c-c4f7-0eb17ef69a47",
        "colab": {
          "base_uri": "https://localhost:8080/",
          "height": 108
        }
      },
      "source": [
        "from sklearn.metrics import log_loss, accuracy_score, f1_score\n",
        "scores = {'Cross Entropy':log_loss,'Accuracy': accuracy_score,'F1 Score': f1_score}\n",
        "\n",
        "models = ['Model', 'SVM', 'Decision Tree', ' Logistic Regression  ', 'Neural Network'] \n",
        "dash='-'\n",
        "print(f'|{models[0]:^20}|{models[1]:^20}|{models[2]:^20}|{models[3]:^20}|{models[4]:^20}|') \n",
        "print('|--------------------|--------------------|--------------------|-----------------------|--------------------|') \n",
        "\n",
        "for key in scores.keys():\n",
        "  print(f'|{key:^20}|{scores[key](y_test, svm_.predict(X_test)):^20.4}|{scores[key](y_test, dt.predict(X_test)):^20.4}|\\\n",
        "  {scores[key](y_test, lr.predict(X_test)):^20.4}|{scores[key](y_test, y_pred_nn):^20.4}|') "
      ],
      "execution_count": 0,
      "outputs": [
        {
          "output_type": "stream",
          "text": [
            "|       Model        |        SVM         |   Decision Tree    | Logistic Regression  |   Neural Network   |\n",
            "|--------------------|--------------------|--------------------|-----------------------|--------------------|\n",
            "|   Cross Entropy    |       9.903        |       10.58        |         11.91        |       8.876        |\n",
            "|      Accuracy      |       0.7133       |       0.6937       |         0.6552       |       0.743        |\n",
            "|      F1 Score      |       0.6826       |       0.6797       |         0.6593       |       0.7409       |\n"
          ],
          "name": "stdout"
        }
      ]
    },
    {
      "cell_type": "code",
      "metadata": {
        "id": "uiEtK8YwRvGP",
        "colab_type": "code",
        "outputId": "7eca0bd9-b048-47c3-ec86-3d19c23d2de1",
        "colab": {
          "base_uri": "https://localhost:8080/",
          "height": 108
        }
      },
      "source": [
        "print(f'|{models[0]:^20}|{models[1]:^20}|{models[2]:^20}|{models[3]:^20}|{models[4]:^20}|') \n",
        "print('|--------------------|--------------------|--------------------|-----------------------|--------------------|') \n",
        "for key in scores.keys():\n",
        "  print(f'|{key:^20}|{scores[key](y_test_lda, svm_lda.predict(X_test_lda)):^20.4}|{scores[key](y_test_lda, dt_lda.predict(X_test_lda)):^20.4}|\\\n",
        "  {scores[key](y_test_lda, lr_lda.predict(X_test_lda)):^20.4}|{scores[key](y_test_lda, y_pred_nn_lda):^20.4}|') "
      ],
      "execution_count": 0,
      "outputs": [
        {
          "output_type": "stream",
          "text": [
            "|       Model        |        SVM         |   Decision Tree    | Logistic Regression  |   Neural Network   |\n",
            "|--------------------|--------------------|--------------------|-----------------------|--------------------|\n",
            "|   Cross Entropy    |       10.59        |       9.461        |         10.42        |       10.05        |\n",
            "|      Accuracy      |       0.6933       |       0.7261       |         0.6982       |       0.709        |\n",
            "|      F1 Score      |       0.6977       |       0.7054       |         0.6862       |       0.6757       |\n"
          ],
          "name": "stdout"
        }
      ]
    },
    {
      "cell_type": "code",
      "metadata": {
        "id": "Y8qVusjOJppd",
        "colab_type": "code",
        "outputId": "696ef5a0-354f-450b-dee1-14d087aa0a47",
        "colab": {
          "base_uri": "https://localhost:8080/",
          "height": 108
        }
      },
      "source": [
        "print(f'|{models[0]:^20}|{models[1]:^20}|{models[2]:^20}|{models[3]:^20}|{models[4]:^20}|') \n",
        "print('|--------------------|--------------------|--------------------|-----------------------|--------------------|') \n",
        "for key in scores.keys():\n",
        "  print(f'|{key:^20}|{scores[key](y_test_embedded, svm_tsne.predict(X_test_embedded)):^20.4}|{scores[key](y_test_embedded, dt_tsne.predict(X_test_embedded)):^20.4}|\\\n",
        "  {scores[key](y_test_embedded, lr_tsne.predict(X_test_embedded)):^20.4}|{scores[key](y_test_embedded, y_pred_nn_embedded):^20.4}|') "
      ],
      "execution_count": 0,
      "outputs": [
        {
          "output_type": "stream",
          "text": [
            "|       Model        |        SVM         |   Decision Tree    | Logistic Regression  |   Neural Network   |\n",
            "|--------------------|--------------------|--------------------|-----------------------|--------------------|\n",
            "|   Cross Entropy    |       11.44        |       10.87        |         16.19        |       10.79        |\n",
            "|      Accuracy      |       0.6689       |       0.6853       |         0.5313       |       0.6876       |\n",
            "|      F1 Score      |       0.6693       |       0.7096       |         0.5154       |       0.6479       |\n"
          ],
          "name": "stdout"
        }
      ]
    },
    {
      "cell_type": "markdown",
      "metadata": {
        "id": "i9qHe2Tro9Yh",
        "colab_type": "text"
      },
      "source": [
        "### Confusion Matrix"
      ]
    },
    {
      "cell_type": "code",
      "metadata": {
        "id": "0ZPthwXTWOv4",
        "colab_type": "code",
        "colab": {}
      },
      "source": [
        "columns=2\n",
        "rows=2\n",
        "def drawMatrixHeatmap(title):\n",
        "  fig=plt.figure(figsize=(8, 8))\n",
        "  for i, mk in zip(range(1, columns*rows +1),matrix.keys()):\n",
        "      ax = fig.add_subplot(rows, columns, i)\n",
        "      ax.title.set_text(mk)\n",
        "      sns.heatmap(matrix[mk], \n",
        "                  fmt='d',\n",
        "                  annot=True,\n",
        "                  cmap=\"YlGnBu\",\n",
        "                  linewidths=0.1,\n",
        "                  linecolor='white')\n",
        "  fig.suptitle(title)\n",
        "  plt.show()"
      ],
      "execution_count": 0,
      "outputs": []
    },
    {
      "cell_type": "code",
      "metadata": {
        "id": "HCAnmCccukxD",
        "colab_type": "code",
        "outputId": "15fe0b38-744e-4693-eab0-26352c44c1da",
        "colab": {
          "base_uri": "https://localhost:8080/",
          "height": 540
        }
      },
      "source": [
        "from sklearn.metrics import confusion_matrix\n",
        "# svm dt lr\n",
        "svm_pca_matrix = confusion_matrix(y_test, svm_.predict(X_test))\n",
        "dt_pca_matrix = confusion_matrix(y_test, dt.predict(X_test))\n",
        "lr_pca_matrix = confusion_matrix(y_test, lr.predict(X_test))\n",
        "nn_pca_matrix = confusion_matrix(y_test, y_pred_nn)\n",
        "\n",
        "matrix = {'SVM':svm_pca_matrix, 'Decision Tree':dt_pca_matrix, \n",
        "          'Logistic Regression':lr_pca_matrix, 'Neural Network':nn_pca_matrix}\n",
        "          \n",
        "drawMatrixHeatmap('PCA - confusion matrix')"
      ],
      "execution_count": 0,
      "outputs": [
        {
          "output_type": "display_data",
          "data": {
            "image/png": "[encoded data removed]",
            "text/plain": [
              "<Figure size 576x576 with 8 Axes>"
            ]
          },
          "metadata": {
            "tags": [],
            "needs_background": "light"
          }
        }
      ]
    },
    {
      "cell_type": "code",
      "metadata": {
        "id": "ng4wFizBRzD3",
        "colab_type": "code",
        "outputId": "6200f0b9-4784-4599-86c6-f885fbf9284d",
        "colab": {
          "base_uri": "https://localhost:8080/",
          "height": 540
        }
      },
      "source": [
        "svm_lda_matrix = confusion_matrix(y_test_lda, svm_lda.predict(X_test_lda))\n",
        "dt_lda_matrix = confusion_matrix(y_test_lda, dt_lda.predict(X_test_lda))\n",
        "lr_lda_matrix = confusion_matrix(y_test_lda, lr_lda.predict(X_test_lda))\n",
        "nn_lda_matrix = confusion_matrix(y_test_lda, y_pred_nn_lda)\n",
        "\n",
        "matrix = {'SVM':svm_lda_matrix, 'Decision Tree':dt_lda_matrix, \n",
        "          'Logistic Regression':lr_lda_matrix, 'Neural Network':nn_lda_matrix}\n",
        "\n",
        "drawMatrixHeatmap('LDA - confusion matrix')"
      ],
      "execution_count": 0,
      "outputs": [
        {
          "output_type": "display_data",
          "data": {
            "image/png": "[encoded data removed]",
            "text/plain": [
              "<Figure size 576x576 with 8 Axes>"
            ]
          },
          "metadata": {
            "tags": [],
            "needs_background": "light"
          }
        }
      ]
    },
    {
      "cell_type": "code",
      "metadata": {
        "id": "jKwqPbBLJ6Nx",
        "colab_type": "code",
        "outputId": "c855e0a2-fc30-4dbd-c8b3-e491ff08c295",
        "colab": {
          "base_uri": "https://localhost:8080/",
          "height": 540
        }
      },
      "source": [
        "svm_tsne_matrix = confusion_matrix(y_test_embedded, svm_tsne.predict(X_test_embedded))\n",
        "dt_tsne_matrix = confusion_matrix(y_test_embedded, dt_tsne.predict(X_test_embedded))\n",
        "lr_tsne_matrix = confusion_matrix(y_test_embedded, lr_tsne.predict(X_test_embedded))\n",
        "nn_tsne_matrix = confusion_matrix(y_test_embedded, y_pred_nn_embedded)\n",
        "\n",
        "\n",
        "matrix = {'SVM':svm_tsne_matrix, 'Decision Tree':dt_tsne_matrix, \n",
        "          'Logistic Regression':lr_tsne_matrix, 'Neural Network':nn_tsne_matrix}\n",
        "\n",
        "drawMatrixHeatmap('T-SNE - confusion matrix')"
      ],
      "execution_count": 0,
      "outputs": [
        {
          "output_type": "display_data",
          "data": {
            "image/png": "[encoded data removed]",
            "text/plain": [
              "<Figure size 576x576 with 8 Axes>"
            ]
          },
          "metadata": {
            "tags": [],
            "needs_background": "light"
          }
        }
      ]
    },
    {
      "cell_type": "code",
      "metadata": {
        "id": "n-gqI4fcus4x",
        "colab_type": "code",
        "colab": {}
      },
      "source": [
        "# 看confusion matrix把標錯的點抓出來"
      ],
      "execution_count": 0,
      "outputs": []
    },
    {
      "cell_type": "markdown",
      "metadata": {
        "id": "1Lmf53zoTOub",
        "colab_type": "text"
      },
      "source": [
        "# CSR_MATRIX PART"
      ]
    },
    {
      "cell_type": "markdown",
      "metadata": {
        "id": "akwg4v_zT5dr",
        "colab_type": "text"
      },
      "source": [
        "## Get Data"
      ]
    },
    {
      "cell_type": "code",
      "metadata": {
        "id": "di2XdiY9TRGf",
        "colab_type": "code",
        "outputId": "e7c61b00-b543-4219-bced-24d4bc2c9ead",
        "colab": {
          "base_uri": "https://localhost:8080/",
          "height": 54
        }
      },
      "source": [
        "import scipy.sparse as sp\n",
        "x_shapes =[]\n",
        "for x in X_files:\n",
        "  x_shapes.append(x.shape[1])\n",
        "x_csr = sp.csr_matrix((0, max(x_shapes)), dtype=np.int8)\n",
        "for x in X_files:\n",
        "  x_ = sp.csr_matrix((x.data, x.indices, x.indptr), shape=(x.shape[0], max(x_shapes)), copy=True)\n",
        "  x_csr = sp.vstack((x_csr, x_), format='csr')\n",
        "\n",
        "x_csr"
      ],
      "execution_count": 0,
      "outputs": [
        {
          "output_type": "execute_result",
          "data": {
            "text/plain": [
              "<2396130x3231961 sparse matrix of type '<class 'numpy.float64'>'\n",
              "\twith 277058644 stored elements in Compressed Sparse Row format>"
            ]
          },
          "metadata": {
            "tags": []
          },
          "execution_count": 55
        }
      ]
    },
    {
      "cell_type": "code",
      "metadata": {
        "id": "X2zs7S0CTTm9",
        "colab_type": "code",
        "outputId": "aa05f85d-e151-4681-83b9-8b9d1f09149e",
        "colab": {
          "base_uri": "https://localhost:8080/",
          "height": 35
        }
      },
      "source": [
        "y = np.concatenate(y_files)\n",
        "y"
      ],
      "execution_count": 0,
      "outputs": [
        {
          "output_type": "execute_result",
          "data": {
            "text/plain": [
              "array([-1., -1., -1., ...,  1., -1., -1.])"
            ]
          },
          "metadata": {
            "tags": []
          },
          "execution_count": 56
        }
      ]
    },
    {
      "cell_type": "markdown",
      "metadata": {
        "id": "hbGatE8CT8gl",
        "colab_type": "text"
      },
      "source": [
        "## Sampling"
      ]
    },
    {
      "cell_type": "code",
      "metadata": {
        "id": "4F84FfoSTTlx",
        "colab_type": "code",
        "colab": {}
      },
      "source": [
        "# Sampling and set X and y\n",
        "sample_idx = np.arange(x_csr.shape[0])\n",
        "np.random.shuffle(sample_idx)\n",
        "sample_idx = sample_idx[:int(0.01*x_csr.shape[0])]\n",
        "x_csr_sampled = x_csr[sample_idx]\n",
        "y = y[sample_idx]"
      ],
      "execution_count": 0,
      "outputs": []
    },
    {
      "cell_type": "markdown",
      "metadata": {
        "id": "2vGIjaBDT-Rw",
        "colab_type": "text"
      },
      "source": [
        "## Dimension Reduction"
      ]
    },
    {
      "cell_type": "code",
      "metadata": {
        "id": "wBY4e7vpTTjx",
        "colab_type": "code",
        "outputId": "c2aa02f2-61dd-4c1a-8cbe-55d9559d8d58",
        "colab": {
          "base_uri": "https://localhost:8080/",
          "height": 465
        }
      },
      "source": [
        "from sklearn.decomposition import TruncatedSVD\n",
        "# from sklearn.decomposition import PCA\n",
        "svd = TruncatedSVD(n_components=50, n_iter=7, random_state=42)\n",
        "x_svd = svd.fit_transform(x_csr_sampled)\n",
        "print(svd.explained_variance_ratio_)\n",
        "print(sum(svd.explained_variance_ratio_))\n",
        "\n",
        "# def plotData(plt, data):\n",
        "#   x = [p[0] for p in data]\n",
        "#   y = [p[1] for p in data]\n",
        "#   plt.plot(x, y, '-o')\n",
        "\n",
        "# plotData(plt, list(zip(range(x_csr_sampled.shape[1]), svd.explained_variance_ratio_)))\n",
        "# plt.xlabel(\"PC\")\n",
        "# plt.xlabel(\"Explained Variance Ratio\")\n",
        "# plt.figure(figsize = (13, 5))\n",
        "# plt.show()\n",
        "\n",
        "plt.plot(np.cumsum(svd.explained_variance_ratio_))"
      ],
      "execution_count": 0,
      "outputs": [
        {
          "output_type": "stream",
          "text": [
            "[0.01940458 0.10127042 0.05779338 0.02583995 0.02219414 0.02081605\n",
            " 0.01957447 0.01861254 0.01617998 0.01272307 0.01203123 0.01137909\n",
            " 0.01092662 0.01009434 0.00994419 0.00920901 0.00874098 0.00793198\n",
            " 0.00753654 0.00736579 0.00686356 0.00630197 0.00626685 0.00614001\n",
            " 0.00574512 0.0054272  0.00510615 0.00503761 0.00489403 0.004457\n",
            " 0.00415592 0.00407417 0.00384373 0.00364578 0.00344597 0.00332371\n",
            " 0.00326792 0.00320332 0.0031737  0.00297312 0.00289459 0.00285592\n",
            " 0.00276063 0.00272099 0.00267461 0.00258456 0.00257393 0.00254102\n",
            " 0.00251555 0.00241664]\n",
            "0.5274535880416695\n"
          ],
          "name": "stdout"
        },
        {
          "output_type": "execute_result",
          "data": {
            "text/plain": [
              "[<matplotlib.lines.Line2D at 0x7fe970918ef0>]"
            ]
          },
          "metadata": {
            "tags": []
          },
          "execution_count": 58
        },
        {
          "output_type": "display_data",
          "data": {
            "image/png": "[encoded data removed]",
            "text/plain": [
              "<Figure size 432x288 with 1 Axes>"
            ]
          },
          "metadata": {
            "tags": [],
            "needs_background": "light"
          }
        }
      ]
    },
    {
      "cell_type": "markdown",
      "metadata": {
        "id": "2RvzUR9sUEch",
        "colab_type": "text"
      },
      "source": [
        "## Split Train and Test"
      ]
    },
    {
      "cell_type": "code",
      "metadata": {
        "id": "-ONXuB6aTTfv",
        "colab_type": "code",
        "outputId": "a5ff5fef-e196-4ada-e9d8-c6b202abc4f8",
        "colab": {
          "base_uri": "https://localhost:8080/",
          "height": 218
        }
      },
      "source": [
        "df_svd = pd.DataFrame(x_svd)\n",
        "df_svd.head()"
      ],
      "execution_count": 0,
      "outputs": [
        {
          "output_type": "execute_result",
          "data": {
            "text/html": [
              "<div>\n",
              "<style scoped>\n",
              "    .dataframe tbody tr th:only-of-type {\n",
              "        vertical-align: middle;\n",
              "    }\n",
              "\n",
              "    .dataframe tbody tr th {\n",
              "        vertical-align: top;\n",
              "    }\n",
              "\n",
              "    .dataframe thead th {\n",
              "        text-align: right;\n",
              "    }\n",
              "</style>\n",
              "<table border=\"1\" class=\"dataframe\">\n",
              "  <thead>\n",
              "    <tr style=\"text-align: right;\">\n",
              "      <th></th>\n",
              "      <th>0</th>\n",
              "      <th>1</th>\n",
              "      <th>2</th>\n",
              "      <th>3</th>\n",
              "      <th>4</th>\n",
              "      <th>5</th>\n",
              "      <th>6</th>\n",
              "      <th>7</th>\n",
              "      <th>8</th>\n",
              "      <th>9</th>\n",
              "      <th>10</th>\n",
              "      <th>11</th>\n",
              "      <th>12</th>\n",
              "      <th>13</th>\n",
              "      <th>14</th>\n",
              "      <th>15</th>\n",
              "      <th>16</th>\n",
              "      <th>17</th>\n",
              "      <th>18</th>\n",
              "      <th>19</th>\n",
              "      <th>20</th>\n",
              "      <th>21</th>\n",
              "      <th>22</th>\n",
              "      <th>23</th>\n",
              "      <th>24</th>\n",
              "      <th>25</th>\n",
              "      <th>26</th>\n",
              "      <th>27</th>\n",
              "      <th>28</th>\n",
              "      <th>29</th>\n",
              "      <th>30</th>\n",
              "      <th>31</th>\n",
              "      <th>32</th>\n",
              "      <th>33</th>\n",
              "      <th>34</th>\n",
              "      <th>35</th>\n",
              "      <th>36</th>\n",
              "      <th>37</th>\n",
              "      <th>38</th>\n",
              "      <th>39</th>\n",
              "      <th>40</th>\n",
              "      <th>41</th>\n",
              "      <th>42</th>\n",
              "      <th>43</th>\n",
              "      <th>44</th>\n",
              "      <th>45</th>\n",
              "      <th>46</th>\n",
              "      <th>47</th>\n",
              "      <th>48</th>\n",
              "      <th>49</th>\n",
              "    </tr>\n",
              "  </thead>\n",
              "  <tbody>\n",
              "    <tr>\n",
              "      <th>0</th>\n",
              "      <td>8.786402</td>\n",
              "      <td>-1.246949</td>\n",
              "      <td>-0.890888</td>\n",
              "      <td>0.403847</td>\n",
              "      <td>-0.271772</td>\n",
              "      <td>-0.319024</td>\n",
              "      <td>-0.093036</td>\n",
              "      <td>-0.000586</td>\n",
              "      <td>0.481732</td>\n",
              "      <td>-0.674414</td>\n",
              "      <td>-0.016920</td>\n",
              "      <td>0.010800</td>\n",
              "      <td>-0.002141</td>\n",
              "      <td>-0.082202</td>\n",
              "      <td>-0.105290</td>\n",
              "      <td>0.041043</td>\n",
              "      <td>0.094155</td>\n",
              "      <td>0.280848</td>\n",
              "      <td>0.017589</td>\n",
              "      <td>0.355406</td>\n",
              "      <td>0.250656</td>\n",
              "      <td>-0.268107</td>\n",
              "      <td>-0.967933</td>\n",
              "      <td>-0.412936</td>\n",
              "      <td>0.101122</td>\n",
              "      <td>0.190658</td>\n",
              "      <td>-0.374816</td>\n",
              "      <td>0.098365</td>\n",
              "      <td>0.185772</td>\n",
              "      <td>0.340851</td>\n",
              "      <td>0.776881</td>\n",
              "      <td>-0.644707</td>\n",
              "      <td>-0.495261</td>\n",
              "      <td>-0.228560</td>\n",
              "      <td>-0.244018</td>\n",
              "      <td>-0.212215</td>\n",
              "      <td>0.311004</td>\n",
              "      <td>-0.250772</td>\n",
              "      <td>0.215925</td>\n",
              "      <td>-0.017532</td>\n",
              "      <td>0.308262</td>\n",
              "      <td>-0.296247</td>\n",
              "      <td>0.001793</td>\n",
              "      <td>0.087976</td>\n",
              "      <td>-0.012560</td>\n",
              "      <td>-0.121180</td>\n",
              "      <td>0.030556</td>\n",
              "      <td>-0.323583</td>\n",
              "      <td>0.126145</td>\n",
              "      <td>-0.112428</td>\n",
              "    </tr>\n",
              "    <tr>\n",
              "      <th>1</th>\n",
              "      <td>8.859867</td>\n",
              "      <td>3.066564</td>\n",
              "      <td>-0.349874</td>\n",
              "      <td>-0.705083</td>\n",
              "      <td>-0.377033</td>\n",
              "      <td>-1.429697</td>\n",
              "      <td>-0.114570</td>\n",
              "      <td>1.514789</td>\n",
              "      <td>-1.270961</td>\n",
              "      <td>-0.297610</td>\n",
              "      <td>-1.926461</td>\n",
              "      <td>0.988524</td>\n",
              "      <td>1.132660</td>\n",
              "      <td>-0.023008</td>\n",
              "      <td>-0.251555</td>\n",
              "      <td>0.087413</td>\n",
              "      <td>0.297094</td>\n",
              "      <td>-0.176636</td>\n",
              "      <td>1.082661</td>\n",
              "      <td>-0.903608</td>\n",
              "      <td>0.353898</td>\n",
              "      <td>-0.075235</td>\n",
              "      <td>0.498104</td>\n",
              "      <td>0.913629</td>\n",
              "      <td>-0.030194</td>\n",
              "      <td>0.097577</td>\n",
              "      <td>-0.354024</td>\n",
              "      <td>0.560868</td>\n",
              "      <td>0.032065</td>\n",
              "      <td>-0.024810</td>\n",
              "      <td>0.421584</td>\n",
              "      <td>-0.091965</td>\n",
              "      <td>0.043333</td>\n",
              "      <td>0.211275</td>\n",
              "      <td>0.197173</td>\n",
              "      <td>-0.179458</td>\n",
              "      <td>-0.099718</td>\n",
              "      <td>0.300542</td>\n",
              "      <td>-0.097225</td>\n",
              "      <td>0.240798</td>\n",
              "      <td>0.308807</td>\n",
              "      <td>-0.200685</td>\n",
              "      <td>-0.151879</td>\n",
              "      <td>-0.542206</td>\n",
              "      <td>-0.105773</td>\n",
              "      <td>0.307293</td>\n",
              "      <td>0.008480</td>\n",
              "      <td>-0.223335</td>\n",
              "      <td>-0.133424</td>\n",
              "      <td>0.045805</td>\n",
              "    </tr>\n",
              "    <tr>\n",
              "      <th>2</th>\n",
              "      <td>8.466749</td>\n",
              "      <td>-1.027628</td>\n",
              "      <td>-0.381867</td>\n",
              "      <td>0.740270</td>\n",
              "      <td>0.374123</td>\n",
              "      <td>-0.432420</td>\n",
              "      <td>-0.509678</td>\n",
              "      <td>-0.776514</td>\n",
              "      <td>0.377053</td>\n",
              "      <td>0.522683</td>\n",
              "      <td>0.353205</td>\n",
              "      <td>-0.226653</td>\n",
              "      <td>0.286131</td>\n",
              "      <td>0.400331</td>\n",
              "      <td>0.279283</td>\n",
              "      <td>-0.053537</td>\n",
              "      <td>-0.396515</td>\n",
              "      <td>-0.062377</td>\n",
              "      <td>0.891964</td>\n",
              "      <td>0.077521</td>\n",
              "      <td>0.101186</td>\n",
              "      <td>0.396103</td>\n",
              "      <td>0.202322</td>\n",
              "      <td>-0.913228</td>\n",
              "      <td>0.165493</td>\n",
              "      <td>0.328427</td>\n",
              "      <td>0.227719</td>\n",
              "      <td>-0.288962</td>\n",
              "      <td>-0.173969</td>\n",
              "      <td>0.147764</td>\n",
              "      <td>0.078781</td>\n",
              "      <td>-0.494407</td>\n",
              "      <td>-0.294346</td>\n",
              "      <td>0.063115</td>\n",
              "      <td>-0.103611</td>\n",
              "      <td>0.156823</td>\n",
              "      <td>0.111565</td>\n",
              "      <td>-0.216231</td>\n",
              "      <td>-0.225243</td>\n",
              "      <td>0.107890</td>\n",
              "      <td>0.294914</td>\n",
              "      <td>-0.396871</td>\n",
              "      <td>0.087709</td>\n",
              "      <td>0.372765</td>\n",
              "      <td>-0.104827</td>\n",
              "      <td>0.085387</td>\n",
              "      <td>0.346132</td>\n",
              "      <td>-0.487090</td>\n",
              "      <td>-0.168621</td>\n",
              "      <td>0.373623</td>\n",
              "    </tr>\n",
              "    <tr>\n",
              "      <th>3</th>\n",
              "      <td>8.727386</td>\n",
              "      <td>-1.532906</td>\n",
              "      <td>-0.932897</td>\n",
              "      <td>-0.012423</td>\n",
              "      <td>-0.467669</td>\n",
              "      <td>0.134172</td>\n",
              "      <td>-0.401464</td>\n",
              "      <td>0.364651</td>\n",
              "      <td>-1.219832</td>\n",
              "      <td>0.983815</td>\n",
              "      <td>-0.429580</td>\n",
              "      <td>-0.137993</td>\n",
              "      <td>-0.018639</td>\n",
              "      <td>-0.483083</td>\n",
              "      <td>0.417803</td>\n",
              "      <td>-0.021966</td>\n",
              "      <td>0.382451</td>\n",
              "      <td>0.497174</td>\n",
              "      <td>-0.216441</td>\n",
              "      <td>-0.317820</td>\n",
              "      <td>-0.120145</td>\n",
              "      <td>-0.421703</td>\n",
              "      <td>0.372994</td>\n",
              "      <td>0.211997</td>\n",
              "      <td>0.202079</td>\n",
              "      <td>-0.446645</td>\n",
              "      <td>-0.047798</td>\n",
              "      <td>0.050640</td>\n",
              "      <td>0.042574</td>\n",
              "      <td>0.090475</td>\n",
              "      <td>-0.179755</td>\n",
              "      <td>-0.017512</td>\n",
              "      <td>0.242963</td>\n",
              "      <td>-0.049898</td>\n",
              "      <td>0.029501</td>\n",
              "      <td>-0.058848</td>\n",
              "      <td>-0.051695</td>\n",
              "      <td>0.187802</td>\n",
              "      <td>-0.382079</td>\n",
              "      <td>-0.424659</td>\n",
              "      <td>-0.030518</td>\n",
              "      <td>-0.247790</td>\n",
              "      <td>0.223913</td>\n",
              "      <td>-0.059000</td>\n",
              "      <td>0.291074</td>\n",
              "      <td>-0.094848</td>\n",
              "      <td>-0.117228</td>\n",
              "      <td>-0.033680</td>\n",
              "      <td>-0.011028</td>\n",
              "      <td>-0.018734</td>\n",
              "    </tr>\n",
              "    <tr>\n",
              "      <th>4</th>\n",
              "      <td>7.583432</td>\n",
              "      <td>-0.809666</td>\n",
              "      <td>2.203958</td>\n",
              "      <td>0.086497</td>\n",
              "      <td>1.839038</td>\n",
              "      <td>-1.568452</td>\n",
              "      <td>-0.021169</td>\n",
              "      <td>0.331752</td>\n",
              "      <td>-0.678564</td>\n",
              "      <td>0.138243</td>\n",
              "      <td>0.452281</td>\n",
              "      <td>-0.461898</td>\n",
              "      <td>1.352946</td>\n",
              "      <td>0.063787</td>\n",
              "      <td>0.690374</td>\n",
              "      <td>-0.052210</td>\n",
              "      <td>0.062610</td>\n",
              "      <td>0.025565</td>\n",
              "      <td>-0.450555</td>\n",
              "      <td>-0.064439</td>\n",
              "      <td>0.089164</td>\n",
              "      <td>0.633548</td>\n",
              "      <td>0.746538</td>\n",
              "      <td>-0.724389</td>\n",
              "      <td>0.446638</td>\n",
              "      <td>0.223364</td>\n",
              "      <td>-0.713576</td>\n",
              "      <td>-0.902729</td>\n",
              "      <td>-0.394142</td>\n",
              "      <td>0.347845</td>\n",
              "      <td>0.001000</td>\n",
              "      <td>0.891970</td>\n",
              "      <td>1.039991</td>\n",
              "      <td>-0.790969</td>\n",
              "      <td>0.421539</td>\n",
              "      <td>-0.664390</td>\n",
              "      <td>0.550976</td>\n",
              "      <td>0.172582</td>\n",
              "      <td>1.154868</td>\n",
              "      <td>-0.157852</td>\n",
              "      <td>0.353995</td>\n",
              "      <td>-0.357206</td>\n",
              "      <td>-0.668442</td>\n",
              "      <td>0.240143</td>\n",
              "      <td>0.306044</td>\n",
              "      <td>-0.027249</td>\n",
              "      <td>-0.319741</td>\n",
              "      <td>0.292313</td>\n",
              "      <td>0.753356</td>\n",
              "      <td>0.363687</td>\n",
              "    </tr>\n",
              "  </tbody>\n",
              "</table>\n",
              "</div>"
            ],
            "text/plain": [
              "         0         1         2   ...        47        48        49\n",
              "0  8.786402 -1.246949 -0.890888  ... -0.323583  0.126145 -0.112428\n",
              "1  8.859867  3.066564 -0.349874  ... -0.223335 -0.133424  0.045805\n",
              "2  8.466749 -1.027628 -0.381867  ... -0.487090 -0.168621  0.373623\n",
              "3  8.727386 -1.532906 -0.932897  ... -0.033680 -0.011028 -0.018734\n",
              "4  7.583432 -0.809666  2.203958  ...  0.292313  0.753356  0.363687\n",
              "\n",
              "[5 rows x 50 columns]"
            ]
          },
          "metadata": {
            "tags": []
          },
          "execution_count": 59
        }
      ]
    },
    {
      "cell_type": "code",
      "metadata": {
        "id": "fj76tBQZTc5x",
        "colab_type": "code",
        "colab": {}
      },
      "source": [
        "le = LabelEncoder()\n",
        "y = le.fit_transform(y)"
      ],
      "execution_count": 0,
      "outputs": []
    },
    {
      "cell_type": "code",
      "metadata": {
        "id": "6bWElqoKTc31",
        "colab_type": "code",
        "colab": {}
      },
      "source": [
        "X_train_svd, X_test_svd, y_train_svd, y_test_svd = train_test_split(df_svd, y, test_size=0.33, random_state=42)"
      ],
      "execution_count": 0,
      "outputs": []
    },
    {
      "cell_type": "markdown",
      "metadata": {
        "id": "F4y0XpByT3GL",
        "colab_type": "text"
      },
      "source": [
        "## Model"
      ]
    },
    {
      "cell_type": "code",
      "metadata": {
        "id": "cQXPpLa0Tc0z",
        "colab_type": "code",
        "outputId": "4fd2821e-9692-4d25-ba21-f5725962091f",
        "colab": {
          "base_uri": "https://localhost:8080/",
          "height": 163
        }
      },
      "source": [
        "svm = svm.SVC()\n",
        "svm.fit(X_train_svd, y_train_svd)\n",
        "\n",
        "dt = tree.DecisionTreeClassifier(max_depth = 5)\n",
        "dt.fit(X_train_svd, y_train_svd)\n",
        "\n",
        "lr = LogisticRegression(random_state=0).fit(X_train_svd, y_train_svd)"
      ],
      "execution_count": 0,
      "outputs": [
        {
          "output_type": "stream",
          "text": [
            "/usr/local/lib/python3.6/dist-packages/sklearn/linear_model/_logistic.py:940: ConvergenceWarning: lbfgs failed to converge (status=1):\n",
            "STOP: TOTAL NO. of ITERATIONS REACHED LIMIT.\n",
            "\n",
            "Increase the number of iterations (max_iter) or scale the data as shown in:\n",
            "    https://scikit-learn.org/stable/modules/preprocessing.html\n",
            "Please also refer to the documentation for alternative solver options:\n",
            "    https://scikit-learn.org/stable/modules/linear_model.html#logistic-regression\n",
            "  extra_warning_msg=_LOGISTIC_SOLVER_CONVERGENCE_MSG)\n"
          ],
          "name": "stderr"
        }
      ]
    },
    {
      "cell_type": "code",
      "metadata": {
        "id": "JsFVv1skTqRq",
        "colab_type": "code",
        "outputId": "fc8b0549-4960-454a-f8f4-cb634f27f5cf",
        "colab": {
          "base_uri": "https://localhost:8080/",
          "height": 1000
        }
      },
      "source": [
        "model = keras.Sequential([\n",
        "    Dense(50, activation=tf.nn.relu, input_shape=(1, 50)),\n",
        "    Dense(50, activation=tf.nn.relu),\n",
        "    Dense(50, activation=tf.nn.relu),\n",
        "    Dense(50, activation=tf.nn.relu),\n",
        "    Dropout(0.25),\n",
        "    Dense(50, activation=tf.nn.relu),\n",
        "    Dense(50, activation=tf.nn.relu),\n",
        "    Dense(20, activation=tf.nn.relu),\n",
        "    Dropout(0.25),\n",
        "    Dense(50, activation=tf.nn.relu),\n",
        "    Dense(50, activation=tf.nn.relu),\n",
        "    Dense(20, activation=tf.nn.relu),\n",
        "    Dense(1)\n",
        "])\n",
        "model.compile(optimizer='adam', loss='mse', metrics=['accuracy'])\n",
        "early_stop = keras.callbacks.EarlyStopping(monitor='val_loss', patience=50) #防止接近最低點時的左右振盪\n",
        "model.fit(X_train_svd, y_train_svd, epochs=100, verbose=2, validation_split = 0.1,\n",
        "                    callbacks=early_stop) #callback: 每輪(epoch)做完要做的事"
      ],
      "execution_count": 0,
      "outputs": [
        {
          "output_type": "stream",
          "text": [
            "Epoch 1/100\n",
            "WARNING:tensorflow:Model was constructed with shape (None, 1, 50) for input Tensor(\"dense_24_input:0\", shape=(None, 1, 50), dtype=float32), but it was called on an input with incompatible shape (None, 50).\n",
            "WARNING:tensorflow:Model was constructed with shape (None, 1, 50) for input Tensor(\"dense_24_input:0\", shape=(None, 1, 50), dtype=float32), but it was called on an input with incompatible shape (None, 50).\n",
            "WARNING:tensorflow:Model was constructed with shape (None, 1, 50) for input Tensor(\"dense_24_input:0\", shape=(None, 1, 50), dtype=float32), but it was called on an input with incompatible shape (None, 50).\n",
            "452/452 - 1s - loss: 0.0639 - accuracy: 0.9270 - val_loss: 0.0448 - val_accuracy: 0.9595\n",
            "Epoch 2/100\n",
            "452/452 - 1s - loss: 0.0336 - accuracy: 0.9617 - val_loss: 0.0510 - val_accuracy: 0.9608\n",
            "Epoch 3/100\n",
            "452/452 - 1s - loss: 0.0329 - accuracy: 0.9617 - val_loss: 0.0454 - val_accuracy: 0.9664\n",
            "Epoch 4/100\n",
            "452/452 - 1s - loss: 0.0307 - accuracy: 0.9641 - val_loss: 0.0389 - val_accuracy: 0.9626\n",
            "Epoch 5/100\n",
            "452/452 - 1s - loss: 0.0297 - accuracy: 0.9657 - val_loss: 0.0427 - val_accuracy: 0.9670\n",
            "Epoch 6/100\n",
            "452/452 - 1s - loss: 0.0296 - accuracy: 0.9651 - val_loss: 0.0372 - val_accuracy: 0.9645\n",
            "Epoch 7/100\n",
            "452/452 - 1s - loss: 0.0279 - accuracy: 0.9675 - val_loss: 0.0365 - val_accuracy: 0.9614\n",
            "Epoch 8/100\n",
            "452/452 - 1s - loss: 0.0268 - accuracy: 0.9689 - val_loss: 0.0308 - val_accuracy: 0.9682\n",
            "Epoch 9/100\n",
            "452/452 - 1s - loss: 0.0263 - accuracy: 0.9694 - val_loss: 0.0330 - val_accuracy: 0.9682\n",
            "Epoch 10/100\n",
            "452/452 - 1s - loss: 0.0263 - accuracy: 0.9684 - val_loss: 0.0325 - val_accuracy: 0.9689\n",
            "Epoch 11/100\n",
            "452/452 - 1s - loss: 0.0251 - accuracy: 0.9704 - val_loss: 0.0368 - val_accuracy: 0.9589\n",
            "Epoch 12/100\n",
            "452/452 - 1s - loss: 0.0256 - accuracy: 0.9702 - val_loss: 0.0308 - val_accuracy: 0.9682\n",
            "Epoch 13/100\n",
            "452/452 - 1s - loss: 0.0252 - accuracy: 0.9700 - val_loss: 0.0311 - val_accuracy: 0.9651\n",
            "Epoch 14/100\n",
            "452/452 - 1s - loss: 0.0245 - accuracy: 0.9712 - val_loss: 0.0313 - val_accuracy: 0.9670\n",
            "Epoch 15/100\n",
            "452/452 - 1s - loss: 0.0232 - accuracy: 0.9727 - val_loss: 0.0311 - val_accuracy: 0.9664\n",
            "Epoch 16/100\n",
            "452/452 - 1s - loss: 0.0235 - accuracy: 0.9730 - val_loss: 0.0312 - val_accuracy: 0.9658\n",
            "Epoch 17/100\n",
            "452/452 - 1s - loss: 0.0236 - accuracy: 0.9722 - val_loss: 0.0285 - val_accuracy: 0.9682\n",
            "Epoch 18/100\n",
            "452/452 - 1s - loss: 0.0228 - accuracy: 0.9729 - val_loss: 0.0287 - val_accuracy: 0.9701\n",
            "Epoch 19/100\n",
            "452/452 - 1s - loss: 0.0230 - accuracy: 0.9729 - val_loss: 0.0328 - val_accuracy: 0.9658\n",
            "Epoch 20/100\n",
            "452/452 - 1s - loss: 0.0226 - accuracy: 0.9740 - val_loss: 0.0307 - val_accuracy: 0.9639\n",
            "Epoch 21/100\n",
            "452/452 - 1s - loss: 0.0220 - accuracy: 0.9749 - val_loss: 0.0358 - val_accuracy: 0.9633\n",
            "Epoch 22/100\n",
            "452/452 - 1s - loss: 0.0210 - accuracy: 0.9763 - val_loss: 0.0291 - val_accuracy: 0.9676\n",
            "Epoch 23/100\n",
            "452/452 - 1s - loss: 0.0214 - accuracy: 0.9755 - val_loss: 0.0301 - val_accuracy: 0.9664\n",
            "Epoch 24/100\n",
            "452/452 - 1s - loss: 0.0208 - accuracy: 0.9762 - val_loss: 0.0273 - val_accuracy: 0.9676\n",
            "Epoch 25/100\n",
            "452/452 - 1s - loss: 0.0201 - accuracy: 0.9775 - val_loss: 0.0312 - val_accuracy: 0.9639\n",
            "Epoch 26/100\n",
            "452/452 - 1s - loss: 0.0214 - accuracy: 0.9752 - val_loss: 0.0271 - val_accuracy: 0.9670\n",
            "Epoch 27/100\n",
            "452/452 - 1s - loss: 0.0203 - accuracy: 0.9769 - val_loss: 0.0345 - val_accuracy: 0.9601\n",
            "Epoch 28/100\n",
            "452/452 - 1s - loss: 0.0204 - accuracy: 0.9765 - val_loss: 0.0308 - val_accuracy: 0.9645\n",
            "Epoch 29/100\n",
            "452/452 - 1s - loss: 0.0206 - accuracy: 0.9759 - val_loss: 0.0329 - val_accuracy: 0.9645\n",
            "Epoch 30/100\n",
            "452/452 - 1s - loss: 0.0194 - accuracy: 0.9780 - val_loss: 0.0292 - val_accuracy: 0.9639\n",
            "Epoch 31/100\n",
            "452/452 - 1s - loss: 0.0193 - accuracy: 0.9779 - val_loss: 0.0297 - val_accuracy: 0.9645\n",
            "Epoch 32/100\n",
            "452/452 - 1s - loss: 0.0193 - accuracy: 0.9784 - val_loss: 0.0292 - val_accuracy: 0.9651\n",
            "Epoch 33/100\n",
            "452/452 - 1s - loss: 0.0190 - accuracy: 0.9784 - val_loss: 0.0308 - val_accuracy: 0.9626\n",
            "Epoch 34/100\n",
            "452/452 - 1s - loss: 0.0199 - accuracy: 0.9771 - val_loss: 0.0334 - val_accuracy: 0.9601\n",
            "Epoch 35/100\n",
            "452/452 - 1s - loss: 0.0190 - accuracy: 0.9783 - val_loss: 0.0320 - val_accuracy: 0.9639\n",
            "Epoch 36/100\n",
            "452/452 - 1s - loss: 0.0203 - accuracy: 0.9762 - val_loss: 0.0318 - val_accuracy: 0.9633\n",
            "Epoch 37/100\n",
            "452/452 - 1s - loss: 0.0190 - accuracy: 0.9790 - val_loss: 0.0349 - val_accuracy: 0.9608\n",
            "Epoch 38/100\n",
            "452/452 - 1s - loss: 0.0185 - accuracy: 0.9790 - val_loss: 0.0293 - val_accuracy: 0.9676\n",
            "Epoch 39/100\n",
            "452/452 - 1s - loss: 0.0185 - accuracy: 0.9792 - val_loss: 0.0290 - val_accuracy: 0.9651\n",
            "Epoch 40/100\n",
            "452/452 - 1s - loss: 0.0186 - accuracy: 0.9794 - val_loss: 0.0353 - val_accuracy: 0.9608\n",
            "Epoch 41/100\n",
            "452/452 - 1s - loss: 0.0178 - accuracy: 0.9799 - val_loss: 0.0300 - val_accuracy: 0.9664\n",
            "Epoch 42/100\n",
            "452/452 - 1s - loss: 0.0176 - accuracy: 0.9801 - val_loss: 0.0302 - val_accuracy: 0.9651\n",
            "Epoch 43/100\n",
            "452/452 - 1s - loss: 0.0182 - accuracy: 0.9790 - val_loss: 0.0338 - val_accuracy: 0.9658\n",
            "Epoch 44/100\n",
            "452/452 - 1s - loss: 0.0178 - accuracy: 0.9804 - val_loss: 0.0330 - val_accuracy: 0.9639\n",
            "Epoch 45/100\n",
            "452/452 - 1s - loss: 0.0180 - accuracy: 0.9792 - val_loss: 0.0337 - val_accuracy: 0.9608\n",
            "Epoch 46/100\n",
            "452/452 - 1s - loss: 0.0181 - accuracy: 0.9796 - val_loss: 0.0318 - val_accuracy: 0.9633\n",
            "Epoch 47/100\n",
            "452/452 - 1s - loss: 0.0177 - accuracy: 0.9803 - val_loss: 0.0356 - val_accuracy: 0.9577\n",
            "Epoch 48/100\n",
            "452/452 - 1s - loss: 0.0170 - accuracy: 0.9809 - val_loss: 0.0293 - val_accuracy: 0.9664\n",
            "Epoch 49/100\n",
            "452/452 - 1s - loss: 0.0167 - accuracy: 0.9814 - val_loss: 0.0317 - val_accuracy: 0.9620\n",
            "Epoch 50/100\n",
            "452/452 - 1s - loss: 0.0167 - accuracy: 0.9810 - val_loss: 0.0314 - val_accuracy: 0.9614\n",
            "Epoch 51/100\n",
            "452/452 - 1s - loss: 0.0171 - accuracy: 0.9811 - val_loss: 0.0299 - val_accuracy: 0.9658\n",
            "Epoch 52/100\n",
            "452/452 - 1s - loss: 0.0171 - accuracy: 0.9805 - val_loss: 0.0345 - val_accuracy: 0.9620\n",
            "Epoch 53/100\n",
            "452/452 - 1s - loss: 0.0170 - accuracy: 0.9808 - val_loss: 0.0298 - val_accuracy: 0.9651\n",
            "Epoch 54/100\n",
            "452/452 - 1s - loss: 0.0170 - accuracy: 0.9807 - val_loss: 0.0305 - val_accuracy: 0.9670\n",
            "Epoch 55/100\n",
            "452/452 - 1s - loss: 0.0167 - accuracy: 0.9814 - val_loss: 0.0279 - val_accuracy: 0.9664\n",
            "Epoch 56/100\n",
            "452/452 - 1s - loss: 0.0172 - accuracy: 0.9805 - val_loss: 0.0308 - val_accuracy: 0.9639\n",
            "Epoch 57/100\n",
            "452/452 - 1s - loss: 0.0163 - accuracy: 0.9816 - val_loss: 0.0294 - val_accuracy: 0.9651\n",
            "Epoch 58/100\n",
            "452/452 - 1s - loss: 0.0174 - accuracy: 0.9801 - val_loss: 0.0337 - val_accuracy: 0.9577\n",
            "Epoch 59/100\n",
            "452/452 - 1s - loss: 0.0179 - accuracy: 0.9800 - val_loss: 0.0283 - val_accuracy: 0.9670\n",
            "Epoch 60/100\n",
            "452/452 - 1s - loss: 0.0163 - accuracy: 0.9815 - val_loss: 0.0268 - val_accuracy: 0.9682\n",
            "Epoch 61/100\n",
            "452/452 - 1s - loss: 0.0160 - accuracy: 0.9825 - val_loss: 0.0344 - val_accuracy: 0.9589\n",
            "Epoch 62/100\n",
            "452/452 - 1s - loss: 0.0178 - accuracy: 0.9796 - val_loss: 0.0264 - val_accuracy: 0.9707\n",
            "Epoch 63/100\n",
            "452/452 - 1s - loss: 0.0156 - accuracy: 0.9826 - val_loss: 0.0289 - val_accuracy: 0.9645\n",
            "Epoch 64/100\n",
            "452/452 - 1s - loss: 0.0166 - accuracy: 0.9810 - val_loss: 0.0281 - val_accuracy: 0.9682\n",
            "Epoch 65/100\n",
            "452/452 - 1s - loss: 0.0174 - accuracy: 0.9798 - val_loss: 0.0304 - val_accuracy: 0.9626\n",
            "Epoch 66/100\n",
            "452/452 - 1s - loss: 0.0158 - accuracy: 0.9819 - val_loss: 0.0309 - val_accuracy: 0.9633\n",
            "Epoch 67/100\n",
            "452/452 - 1s - loss: 0.0162 - accuracy: 0.9816 - val_loss: 0.0285 - val_accuracy: 0.9676\n",
            "Epoch 68/100\n",
            "452/452 - 1s - loss: 0.0156 - accuracy: 0.9818 - val_loss: 0.0303 - val_accuracy: 0.9645\n",
            "Epoch 69/100\n",
            "452/452 - 1s - loss: 0.0153 - accuracy: 0.9828 - val_loss: 0.0286 - val_accuracy: 0.9664\n",
            "Epoch 70/100\n",
            "452/452 - 1s - loss: 0.0155 - accuracy: 0.9821 - val_loss: 0.0306 - val_accuracy: 0.9651\n",
            "Epoch 71/100\n",
            "452/452 - 1s - loss: 0.0162 - accuracy: 0.9816 - val_loss: 0.0280 - val_accuracy: 0.9682\n",
            "Epoch 72/100\n",
            "452/452 - 1s - loss: 0.0158 - accuracy: 0.9819 - val_loss: 0.0288 - val_accuracy: 0.9658\n",
            "Epoch 73/100\n",
            "452/452 - 1s - loss: 0.0157 - accuracy: 0.9823 - val_loss: 0.0282 - val_accuracy: 0.9664\n",
            "Epoch 74/100\n",
            "452/452 - 1s - loss: 0.0142 - accuracy: 0.9835 - val_loss: 0.0287 - val_accuracy: 0.9664\n",
            "Epoch 75/100\n",
            "452/452 - 1s - loss: 0.0155 - accuracy: 0.9827 - val_loss: 0.0293 - val_accuracy: 0.9682\n",
            "Epoch 76/100\n",
            "452/452 - 1s - loss: 0.0163 - accuracy: 0.9813 - val_loss: 0.0316 - val_accuracy: 0.9651\n",
            "Epoch 77/100\n",
            "452/452 - 1s - loss: 0.0154 - accuracy: 0.9827 - val_loss: 0.0295 - val_accuracy: 0.9633\n",
            "Epoch 78/100\n",
            "452/452 - 1s - loss: 0.0155 - accuracy: 0.9823 - val_loss: 0.0278 - val_accuracy: 0.9676\n",
            "Epoch 79/100\n",
            "452/452 - 1s - loss: 0.0150 - accuracy: 0.9828 - val_loss: 0.0318 - val_accuracy: 0.9633\n",
            "Epoch 80/100\n",
            "452/452 - 1s - loss: 0.0145 - accuracy: 0.9833 - val_loss: 0.0273 - val_accuracy: 0.9670\n",
            "Epoch 81/100\n",
            "452/452 - 1s - loss: 0.0140 - accuracy: 0.9841 - val_loss: 0.0291 - val_accuracy: 0.9658\n",
            "Epoch 82/100\n",
            "452/452 - 1s - loss: 0.0165 - accuracy: 0.9810 - val_loss: 0.0472 - val_accuracy: 0.9458\n",
            "Epoch 83/100\n",
            "452/452 - 1s - loss: 0.0209 - accuracy: 0.9763 - val_loss: 0.0327 - val_accuracy: 0.9626\n",
            "Epoch 84/100\n",
            "452/452 - 1s - loss: 0.0156 - accuracy: 0.9822 - val_loss: 0.0297 - val_accuracy: 0.9664\n",
            "Epoch 85/100\n",
            "452/452 - 1s - loss: 0.0155 - accuracy: 0.9823 - val_loss: 0.0305 - val_accuracy: 0.9645\n",
            "Epoch 86/100\n",
            "452/452 - 1s - loss: 0.0162 - accuracy: 0.9812 - val_loss: 0.0284 - val_accuracy: 0.9670\n",
            "Epoch 87/100\n",
            "452/452 - 1s - loss: 0.0138 - accuracy: 0.9839 - val_loss: 0.0289 - val_accuracy: 0.9664\n",
            "Epoch 88/100\n",
            "452/452 - 1s - loss: 0.0153 - accuracy: 0.9826 - val_loss: 0.0288 - val_accuracy: 0.9658\n",
            "Epoch 89/100\n",
            "452/452 - 1s - loss: 0.0140 - accuracy: 0.9843 - val_loss: 0.0291 - val_accuracy: 0.9676\n",
            "Epoch 90/100\n",
            "452/452 - 1s - loss: 0.0150 - accuracy: 0.9827 - val_loss: 0.0307 - val_accuracy: 0.9658\n",
            "Epoch 91/100\n",
            "452/452 - 1s - loss: 0.0153 - accuracy: 0.9826 - val_loss: 0.0320 - val_accuracy: 0.9645\n",
            "Epoch 92/100\n",
            "452/452 - 1s - loss: 0.0153 - accuracy: 0.9821 - val_loss: 0.0289 - val_accuracy: 0.9676\n",
            "Epoch 93/100\n",
            "452/452 - 1s - loss: 0.0140 - accuracy: 0.9839 - val_loss: 0.0293 - val_accuracy: 0.9670\n",
            "Epoch 94/100\n",
            "452/452 - 1s - loss: 0.0131 - accuracy: 0.9850 - val_loss: 0.0273 - val_accuracy: 0.9682\n",
            "Epoch 95/100\n",
            "452/452 - 1s - loss: 0.0132 - accuracy: 0.9846 - val_loss: 0.0299 - val_accuracy: 0.9645\n",
            "Epoch 96/100\n",
            "452/452 - 1s - loss: 0.0143 - accuracy: 0.9832 - val_loss: 0.0323 - val_accuracy: 0.9626\n",
            "Epoch 97/100\n",
            "452/452 - 1s - loss: 0.0134 - accuracy: 0.9848 - val_loss: 0.0287 - val_accuracy: 0.9670\n",
            "Epoch 98/100\n",
            "452/452 - 1s - loss: 0.0144 - accuracy: 0.9832 - val_loss: 0.0303 - val_accuracy: 0.9620\n",
            "Epoch 99/100\n",
            "452/452 - 1s - loss: 0.0130 - accuracy: 0.9853 - val_loss: 0.0320 - val_accuracy: 0.9670\n",
            "Epoch 100/100\n",
            "452/452 - 1s - loss: 0.0137 - accuracy: 0.9842 - val_loss: 0.0273 - val_accuracy: 0.9707\n"
          ],
          "name": "stdout"
        },
        {
          "output_type": "execute_result",
          "data": {
            "text/plain": [
              "<tensorflow.python.keras.callbacks.History at 0x7fe91d3e7278>"
            ]
          },
          "metadata": {
            "tags": []
          },
          "execution_count": 63
        }
      ]
    },
    {
      "cell_type": "code",
      "metadata": {
        "id": "n0lVz4veTvAM",
        "colab_type": "code",
        "outputId": "e864184a-25bd-48e9-d206-22583958e852",
        "colab": {
          "base_uri": "https://localhost:8080/",
          "height": 55
        }
      },
      "source": [
        "y_pred_nn_svd = list(map(lambda x: 0 if x < 0.5 else 1, model.predict(X_test_svd)))"
      ],
      "execution_count": 0,
      "outputs": [
        {
          "output_type": "stream",
          "text": [
            "WARNING:tensorflow:Model was constructed with shape (None, 1, 50) for input Tensor(\"dense_24_input:0\", shape=(None, 1, 50), dtype=float32), but it was called on an input with incompatible shape (None, 50).\n"
          ],
          "name": "stdout"
        }
      ]
    },
    {
      "cell_type": "code",
      "metadata": {
        "id": "NYy0YinQTu-w",
        "colab_type": "code",
        "outputId": "e72f455e-060e-4e5f-ac01-c4e6aa2cbbe2",
        "colab": {
          "base_uri": "https://localhost:8080/",
          "height": 108
        }
      },
      "source": [
        "print(f'|{models[0]:^20}|{models[1]:^20}|{models[2]:^20}|{models[3]:^20}|{models[4]:^20}|') \n",
        "print('|--------------------|--------------------|--------------------|-----------------------|--------------------|') \n",
        "for key in scores.keys():\n",
        "  print(f'|{key:^20}|{scores[key](y_test_svd, svm.predict(X_test_svd)):^20.4}|{scores[key](y_test_svd, dt.predict(X_test_svd)):^20.4}|\\\n",
        "  {scores[key](y_test_svd, lr.predict(X_test_svd)):^20.4}|{scores[key](y_test_svd, y_pred_nn_svd):^20.4}|') "
      ],
      "execution_count": 0,
      "outputs": [
        {
          "output_type": "stream",
          "text": [
            "|       Model        |        SVM         |   Decision Tree    | Logistic Regression  |   Neural Network   |\n",
            "|--------------------|--------------------|--------------------|-----------------------|--------------------|\n",
            "|   Cross Entropy    |       1.354        |       2.276        |         1.341        |       1.201        |\n",
            "|      Accuracy      |       0.9608       |       0.9341       |         0.9612       |       0.9652       |\n",
            "|      F1 Score      |       0.9422       |       0.9004       |         0.9422       |       0.9474       |\n"
          ],
          "name": "stdout"
        }
      ]
    },
    {
      "cell_type": "code",
      "metadata": {
        "id": "TrBz4qy7Tu6H",
        "colab_type": "code",
        "outputId": "3d869c67-02e6-455e-8c4d-0eec407f7dd5",
        "colab": {
          "base_uri": "https://localhost:8080/",
          "height": 540
        }
      },
      "source": [
        "from sklearn.metrics import confusion_matrix\n",
        "# svm dt lr\n",
        "svm_svd_matrix = confusion_matrix(y_test_svd, svm.predict(X_test_svd))\n",
        "dt_svd_matrix = confusion_matrix(y_test_svd, dt.predict(X_test_svd))\n",
        "lr_svd_matrix = confusion_matrix(y_test_svd, lr.predict(X_test_svd))\n",
        "nn_svd_matrix = confusion_matrix(y_test_svd, y_pred_nn_svd)\n",
        "\n",
        "matrix = {'SVM':svm_svd_matrix, 'Decision Tree':dt_svd_matrix, \n",
        "          'Logistic Regression':lr_svd_matrix, 'Neural Network':nn_svd_matrix}\n",
        "\n",
        "drawMatrixHeatmap('SVD - confusion matrix')"
      ],
      "execution_count": 0,
      "outputs": [
        {
          "output_type": "display_data",
          "data": {
            "image/png": "[encoded data removed]",
            "text/plain": [
              "<Figure size 576x576 with 8 Axes>"
            ]
          },
          "metadata": {
            "tags": [],
            "needs_background": "light"
          }
        }
      ]
    },
    {
      "cell_type": "markdown",
      "metadata": {
        "id": "tP7D-pHaTRhT",
        "colab_type": "text"
      },
      "source": [
        "# COMPARISON"
      ]
    },
    {
      "cell_type": "code",
      "metadata": {
        "id": "XHkiZUGm0ydG",
        "colab_type": "code",
        "outputId": "28177d3b-0ba0-49bc-9c2c-d39d72908d65",
        "colab": {
          "base_uri": "https://localhost:8080/",
          "height": 540
        }
      },
      "source": [
        "matrix = {'PCA':nn_pca_matrix, 'LDA':nn_lda_matrix, 'T-SNE':nn_tsne_matrix, 'csr_matrix':nn_svd_matrix}\n",
        "drawMatrixHeatmap('Comparison')"
      ],
      "execution_count": 0,
      "outputs": [
        {
          "output_type": "display_data",
          "data": {
            "image/png": "[encoded data removed]",
            "text/plain": [
              "<Figure size 576x576 with 8 Axes>"
            ]
          },
          "metadata": {
            "tags": [],
            "needs_background": "light"
          }
        }
      ]
    },
    {
      "cell_type": "code",
      "metadata": {
        "id": "sqRJdMTeUq9W",
        "colab_type": "code",
        "colab": {}
      },
      "source": [
        ""
      ],
      "execution_count": 0,
      "outputs": []
    }
  ]
}